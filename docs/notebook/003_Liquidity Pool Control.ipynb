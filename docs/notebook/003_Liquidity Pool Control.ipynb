{
 "cells": [
  {
   "cell_type": "markdown",
   "metadata": {},
   "source": [
    "# DEX 구성하기 [3] 유동성에 공급하기\n",
    "\n",
    "\n",
    "---\n",
    "\n",
    "* **DATE** : 2021.11.06\n",
    "* **AUTHOR** : Kang Sang Jae\n",
    "* **Reference** : \n",
    "    * [Taking undercollateralized loans for fun and for profit](https://samczsun.com/taking-undercollateralized-loans-for-fun-and-for-profit/)\n",
    "    * [Arxiv Paper](https://arxiv.org/pdf/2103.12732.pdf)\n",
    "    * [zuniswap with Clone Coding](https://github.com/Jeiwan/zuniswap)\n",
    "    * [Uniswap V1 Code](https://github.com/Uniswap/v1-contracts)"
   ]
  },
  {
   "cell_type": "code",
   "execution_count": 2,
   "metadata": {},
   "outputs": [],
   "source": [
    "%matplotlib inline\n",
    "\n",
    "import pandas as pd\n",
    "import matplotlib.pyplot as plt"
   ]
  },
  {
   "cell_type": "markdown",
   "metadata": {},
   "source": [
    "## LP들의 행동, Provision & Withdrawal\n",
    "\n",
    "![](https://imgur.com/ygzyb9G.png)"
   ]
  },
  {
   "cell_type": "markdown",
   "metadata": {},
   "source": [
    "초기에 부은 유동성 풀은 정적인 상태인 것은 아니다. 이후에도 추가적으로 LP는 Pool에 추가적으로 납입할 수 있으며, 풀에서 자산을 인출으로써 자신의 손익을 확정지을 수도 있다."
   ]
  },
  {
   "cell_type": "markdown",
   "metadata": {},
   "source": [
    "우리의 Liquidity Pool을 관리하는 스마트 컨트랙트를 `Moniswap`이라 해보자. Moniswap의 Pool은 모두가 참여할 수 있는 형태로 관리한다고 해보자. \n",
    "\n",
    "그러면 우리는 Pool에 넣을 때, 이 Pool에 대한 각자의 지분 계산이 필수적이다. 이 지분을 보통 LP-Tokens라고 부른다. "
   ]
  },
  {
   "cell_type": "markdown",
   "metadata": {},
   "source": [
    "우선 계산을 편하게 하기 위해서 가상의 계정을 아래와 같이 구성해보자. "
   ]
  },
  {
   "cell_type": "code",
   "execution_count": 1,
   "metadata": {},
   "outputs": [],
   "source": [
    "class Accounts:\n",
    "    \"\"\"EOA (External Owned Acounts) 계정 정보\n",
    "    \"\"\"\n",
    "    address = \"\"\n",
    "    balance_X = 0 # x토큰 잔액\n",
    "    balance_Y = 0 # y토큰 잔액\n",
    "    \n",
    "    def __init__(self, address, balance_X, balance_Y):\n",
    "        self.address = address\n",
    "        self.balance_X = balance_X\n",
    "        self.balance_Y = balance_Y\n",
    "        \n",
    "    def calculate_TVL(self, price_X, price_Y):\n",
    "        return self.balance_X * price_X + self.balance_Y * price_Y"
   ]
  },
  {
   "cell_type": "markdown",
   "metadata": {},
   "source": [
    "현재 시장 내 플레이어들의 계좌 상태는 아래와 같다고 가정해보자."
   ]
  },
  {
   "cell_type": "code",
   "execution_count": 3,
   "metadata": {},
   "outputs": [],
   "source": [
    "master_account = Accounts(\"master\",100_000, 200_000)\n",
    "\n",
    "A_account = Accounts(\"A\", 10_000, 20_000)\n",
    "B_account = Accounts(\"B\", 30_000, 15_000)\n",
    "C_account = Accounts(\"C\", 20_000, 40_000)\n",
    "D_account = Accounts(\"D\", 15_000, 25_000)"
   ]
  },
  {
   "cell_type": "markdown",
   "metadata": {},
   "source": [
    "아래의 스마트 컨트랙트에 `master_account`가 초기에 자신의 전 자산을 다 납입했다고 해보자. "
   ]
  },
  {
   "cell_type": "code",
   "execution_count": 5,
   "metadata": {},
   "outputs": [],
   "source": [
    "class Moniswap:\n",
    "    # M3O1의 이니셜을 따서 Moniswap이라 해보자\n",
    "    fee = 0.003 # FEE는 0.3%만큼 뗀다고 해보자 \n",
    "    lp_token_balances: dict # key는 address, value는 address\n",
    "    \n",
    "    # 토큰이 실제로 저장된 컨트랙트\n",
    "    def __init__(self, account:Accounts, supply_X, supply_Y):\n",
    "        assert account.balance_X >= supply_X, \"X토큰이 공급물량보다 모자랍니다\"\n",
    "        assert account.balance_Y >= supply_Y, \"Y토큰이 공급물량보다 모자랍니다\"        \n",
    "        \n",
    "        # X의 초기 통화 공급량 : supply_X\n",
    "        # Y의 초기 통화 공급량 : supply_Y\n",
    "        self.supply_X = supply_X\n",
    "        self.supply_Y = supply_Y\n",
    "        \n",
    "        # 공급한만큼 차감\n",
    "        account.balance_X -= supply_X \n",
    "        account.balance_Y -= supply_Y\n",
    "        \n",
    "        # LP 토큰의 발행량은 X의 공급량와 동일하게 세팅\n",
    "        self.lp_token_balances = {account.address : supply_X}\n",
    "        \n",
    "        \n",
    "    def get_LP_balance(self, address):\n",
    "        # 해당 주소에 할당되어 있는 LP Token\n",
    "        return self.lp_token_balances.get(address, 0)\n",
    "    \n",
    "    def get_total_balance(self):\n",
    "        # 전체 유동성 토큰 갯수\n",
    "        return sum(self.lp_token_balances.values())\n",
    "        \n",
    "    @property\n",
    "    def constant(self):\n",
    "        # 추가적으로 풀에 토큰이 공급되거나, 빼지 않는 경우 \n",
    "        # 해당 값은 계속 유지되어야 함\n",
    "        return self.supply_X * self.supply_Y\n",
    "        \n",
    "    def calculate_TVL(self, price_X, price_Y):\n",
    "        # 현재 price_X와 price_Y를 기준으로 풀의 총 가치 산정\n",
    "        return self.supply_X * price_X + self.supply_Y * price_Y\n",
    "        \n",
    "    def swapX2Y(self, delta_X):\n",
    "        # delta_X만큼의 X 토큰을 delta_Y만큼의 Y 토큰으로 교환\n",
    "        # Fee를 뗀 만큼 유저에게 돌려준다\n",
    "        delta_Y = (1- self.fee) * self.supply_Y * delta_X / (self.supply_X + delta_X)\n",
    "        \n",
    "        self.supply_X += delta_X\n",
    "        self.supply_Y -= delta_Y\n",
    "        return delta_Y        \n",
    "        \n",
    "    def swapY2X(self, delta_Y):\n",
    "        # delta_Y만큼의 Y 토큰을 delta_X만큼의 X토큰으로 교환\n",
    "        # Fee를 뗀 만큼 유저에게 돌려준다\n",
    "        delta_X = (1- self.fee) * self.supply_X * delta_Y / (self.supply_Y + delta_Y)\n",
    "        self.supply_X -= delta_X\n",
    "        self.supply_Y += delta_Y\n",
    "        return delta_X                "
   ]
  },
  {
   "cell_type": "code",
   "execution_count": 6,
   "metadata": {},
   "outputs": [],
   "source": [
    "supply_X = 100_000\n",
    "supply_Y = 200_000\n",
    "\n",
    "moniswap = Moniswap(master_account, supply_X, supply_Y)"
   ]
  },
  {
   "cell_type": "markdown",
   "metadata": {},
   "source": [
    "이렇게 구성할 경우 `master_account`로 할당되어 있는 LP Tokens의 양은 아래와 같다. "
   ]
  },
  {
   "cell_type": "code",
   "execution_count": 7,
   "metadata": {},
   "outputs": [
    {
     "data": {
      "text/plain": [
       "100000"
      ]
     },
     "execution_count": 7,
     "metadata": {},
     "output_type": "execute_result"
    }
   ],
   "source": [
    "moniswap.get_LP_balance(master_account.address)"
   ]
  },
  {
   "cell_type": "markdown",
   "metadata": {},
   "source": [
    "그리고 이제 master_acccount에 물려있는 자산은 모두 0원일 것이다."
   ]
  },
  {
   "cell_type": "code",
   "execution_count": 8,
   "metadata": {},
   "outputs": [
    {
     "name": "stdout",
     "output_type": "stream",
     "text": [
      "balance X :  0\n",
      "balance Y :  0\n",
      "P_x:20, P_y:10인 경우 :  0\n"
     ]
    }
   ],
   "source": [
    "print(\"balance X : \", master_account.balance_X)\n",
    "print(\"balance Y : \", master_account.balance_Y)\n",
    "print(\"P_x:20, P_y:10인 경우 : \", master_account.calculate_TVL(20,10))"
   ]
  },
  {
   "cell_type": "markdown",
   "metadata": {},
   "source": [
    "## 유동성 풀에 유동성을 추가하기\n",
    "\n",
    "![](https://imgur.com/HvF9ipn.png)"
   ]
  },
  {
   "cell_type": "markdown",
   "metadata": {},
   "source": [
    "너무나 당연한 얘기지만, **기존에 넣은 풀에 넣은 자산의 가치를 훼손하면 않으면서**, 풀에 유동성을 공급해야 한다. 그렇기 때문에 유동성을 주입할 때에는 SWAP의 비율을 해치면 안된다. \n",
    "\n",
    "AMM-Based DEX에서는 두 가지 일반 규칙이 있다.\n",
    "\n",
    "````\n",
    "1) The price of assets in an AMM pool stays constant for pure liquidity provision and withdrawal activities.\n",
    "\n",
    "2) The invariant of an AMM pool stays constant for pure swapping activities.\n",
    "````\n",
    "\n",
    "1번은 LP의 행동(납입/출금)에 대한 규칙이고, 2번은 Trader의 행동에 대한 규칙이라고 생각하면 된다. "
   ]
  },
  {
   "cell_type": "markdown",
   "metadata": {},
   "source": [
    "이렇기 때문에, 유동성 풀에 납입하기 위해서는 당연히 두 토큰이 현재 시스템의 비율하고 동일하게 납입해야 한다. 보통의 경우엔, 유동성 풀에 납입 후 남는 만큼은 반환받는다."
   ]
  },
  {
   "cell_type": "code",
   "execution_count": 14,
   "metadata": {},
   "outputs": [],
   "source": [
    "class Moniswap:\n",
    "    # M3O1의 이니셜을 따서 Moniswap이라 해보자\n",
    "    fee = 0.003 # FEE는 0.3%만큼 뗀다고 해보자 \n",
    "    lp_token_balances:dict # key는 address, value는 address\n",
    "    \n",
    "    # 토큰이 실제로 저장된 컨트랙트\n",
    "    def __init__(self, account:Accounts, supply_X, supply_Y):\n",
    "        assert account.balance_X >= supply_X, \"X토큰이 공급물량보다 모자랍니다\"\n",
    "        assert account.balance_Y >= supply_Y, \"Y토큰이 공급물량보다 모자랍니다\"        \n",
    "        \n",
    "        # X의 초기 통화 공급량 : supply_X\n",
    "        # Y의 초기 통화 공급량 : supply_Y\n",
    "        self.supply_X = supply_X\n",
    "        self.supply_Y = supply_Y\n",
    "        \n",
    "        # 공급한만큼 차감\n",
    "        account.balance_X -= supply_X \n",
    "        account.balance_Y -= supply_Y\n",
    "        \n",
    "        # LP 토큰의 발행량은 X의 공급량와 동일하게 세팅\n",
    "        self.lp_token_balances = {account.address:supply_X}\n",
    "        \n",
    "        \n",
    "    def get_LP_balance(self, address):\n",
    "        # 해당 주소에 할당되어 있는 LP Token\n",
    "        return self.lp_token_balances.get(address, 0)\n",
    "    \n",
    "    def get_total_balance(self):\n",
    "        # 전체 유동성 토큰 갯수\n",
    "        return sum(self.lp_token_balances.values())\n",
    "    \n",
    "    def add_liquidity(self, account:Accounts, add_X, add_Y):\n",
    "        \"\"\"유동성 공급\n",
    "        \"\"\"\n",
    "        required_Y = add_X * self.supply_Y/self.supply_X\n",
    "        assert account.balance_X >= add_X, \"X토큰이 공급물량보다 모자랍니다\"\n",
    "        assert account.balance_Y >= required_Y, \"Y토큰이 공급물량보다 모자랍니다\"\n",
    "        \n",
    "        # 찍어내는 토큰 양 계산\n",
    "        # add_x / self.supply_X => 내가 % 기여했냐\n",
    "        # 현재 총 LP token 양 * 기여분 => 내가 받을 토큰 양\n",
    "        minted_amount = add_X / self.supply_X *  self.get_total_balance()\n",
    "        \n",
    "        # 유동성 풀에 토큰 넣기\n",
    "        self.supply_X += add_X\n",
    "        self.supply_Y += required_Y\n",
    "        \n",
    "        # 지갑에서 돈빼기\n",
    "        account.balance_X -= add_X\n",
    "        account.balance_Y -= required_Y\n",
    "        \n",
    "        # LP 토큰 넣어주기\n",
    "        self.lp_token_balances[account.address] = (\n",
    "            minted_amount + self.lp_token_balances.get(account.address, 0)\n",
    "        )\n",
    "        return minted_amount\n",
    "        \n",
    "    @property\n",
    "    def constant(self):\n",
    "        # 추가적으로 풀에 토큰이 공급되거나, 빼지 않는 경우 \n",
    "        # 해당 값은 계속 유지되어야 함\n",
    "        return self.supply_X * self.supply_Y\n",
    "        \n",
    "    def calculate_TVL(self, price_X, price_Y):\n",
    "        # 현재 price_X와 price_Y를 기준으로 풀의 총 가치 산정\n",
    "        return self.supply_X * price_X + self.supply_Y * price_Y\n",
    "        \n",
    "    def swapX2Y(self, delta_X):\n",
    "        # delta_X만큼의 X 토큰을 delta_Y만큼의 Y 토큰으로 교환\n",
    "        # Fee를 뗀 만큼 유저에게 돌려준다\n",
    "        delta_Y = (1- self.fee) * self.supply_Y * delta_X / (self.supply_X + delta_X)\n",
    "        \n",
    "        self.supply_X += delta_X\n",
    "        self.supply_Y -= delta_Y\n",
    "        return delta_Y        \n",
    "        \n",
    "    def swapY2X(self, delta_Y):\n",
    "        # delta_Y만큼의 Y 토큰을 delta_X만큼의 X토큰으로 교환\n",
    "        # Fee를 뗀 만큼 유저에게 돌려준다\n",
    "        delta_X = (1- self.fee) * self.supply_X * delta_Y / (self.supply_Y + delta_Y)\n",
    "        self.supply_X -= delta_X\n",
    "        self.supply_Y += delta_Y\n",
    "        return delta_X                "
   ]
  },
  {
   "cell_type": "code",
   "execution_count": 31,
   "metadata": {},
   "outputs": [],
   "source": [
    "master_account = Accounts(\"master\",100_000, 200_000)\n",
    "A_account = Accounts(\"A\",100_000, 200_000)\n",
    "B_account = Accounts(\"B\",100_000, 200_000)\n",
    "\n",
    "moniswap = Moniswap(master_account, supply_X, supply_Y)"
   ]
  },
  {
   "cell_type": "code",
   "execution_count": 32,
   "metadata": {},
   "outputs": [
    {
     "data": {
      "text/plain": [
       "{'master': 100000}"
      ]
     },
     "execution_count": 32,
     "metadata": {},
     "output_type": "execute_result"
    }
   ],
   "source": [
    "moniswap.lp_token_balances"
   ]
  },
  {
   "cell_type": "code",
   "execution_count": 33,
   "metadata": {},
   "outputs": [
    {
     "data": {
      "text/plain": [
       "4000000"
      ]
     },
     "execution_count": 33,
     "metadata": {},
     "output_type": "execute_result"
    }
   ],
   "source": [
    "moniswap.calculate_TVL(20,10)"
   ]
  },
  {
   "cell_type": "code",
   "execution_count": 34,
   "metadata": {},
   "outputs": [
    {
     "data": {
      "text/plain": [
       "100000.0"
      ]
     },
     "execution_count": 34,
     "metadata": {},
     "output_type": "execute_result"
    }
   ],
   "source": [
    "moniswap.add_liquidity(A_account, 100_000, 200_000)"
   ]
  },
  {
   "cell_type": "code",
   "execution_count": 35,
   "metadata": {},
   "outputs": [
    {
     "data": {
      "text/plain": [
       "{'master': 100000, 'A': 100000.0}"
      ]
     },
     "execution_count": 35,
     "metadata": {},
     "output_type": "execute_result"
    }
   ],
   "source": [
    "moniswap.lp_token_balances"
   ]
  },
  {
   "cell_type": "code",
   "execution_count": 36,
   "metadata": {},
   "outputs": [
    {
     "data": {
      "text/plain": [
       "8000000.0"
      ]
     },
     "execution_count": 36,
     "metadata": {},
     "output_type": "execute_result"
    }
   ],
   "source": [
    "moniswap.calculate_TVL(20,10)"
   ]
  },
  {
   "cell_type": "code",
   "execution_count": 37,
   "metadata": {},
   "outputs": [
    {
     "data": {
      "text/plain": [
       "100000.0"
      ]
     },
     "execution_count": 37,
     "metadata": {},
     "output_type": "execute_result"
    }
   ],
   "source": [
    "B_account = Accounts(\"B\",100_000, 200_000)\n",
    "\n",
    "moniswap.add_liquidity(B_account, 100_000, 200_000)"
   ]
  },
  {
   "cell_type": "code",
   "execution_count": 38,
   "metadata": {},
   "outputs": [
    {
     "data": {
      "text/plain": [
       "12000000.0"
      ]
     },
     "execution_count": 38,
     "metadata": {},
     "output_type": "execute_result"
    }
   ],
   "source": [
    "moniswap.calculate_TVL(20,10)"
   ]
  },
  {
   "cell_type": "code",
   "execution_count": 39,
   "metadata": {},
   "outputs": [
    {
     "data": {
      "text/plain": [
       "{'master': 100000, 'A': 100000.0, 'B': 100000.0}"
      ]
     },
     "execution_count": 39,
     "metadata": {},
     "output_type": "execute_result"
    }
   ],
   "source": [
    "moniswap.lp_token_balances"
   ]
  },
  {
   "cell_type": "code",
   "execution_count": 26,
   "metadata": {},
   "outputs": [],
   "source": [
    "master_account = Accounts(\"master\",100_000, 200_000)\n",
    "\n",
    "moniswap = Moniswap(master_account, supply_X, supply_Y)"
   ]
  },
  {
   "cell_type": "markdown",
   "metadata": {},
   "source": [
    "moniswap에 A 계좌가 참여한다고 해보자, 이때 X 토큰 5000개와 Y 토큰 10000개를 납입하면된다."
   ]
  },
  {
   "cell_type": "code",
   "execution_count": 40,
   "metadata": {},
   "outputs": [
    {
     "data": {
      "text/plain": [
       "5000.0"
      ]
     },
     "execution_count": 40,
     "metadata": {},
     "output_type": "execute_result"
    }
   ],
   "source": [
    "A_account = Accounts(\"A\", 10_000, 20_000)\n",
    "\n",
    "moniswap.add_liquidity(A_account, 5_000, 10_000)"
   ]
  },
  {
   "cell_type": "markdown",
   "metadata": {},
   "source": [
    "이러면 현재 LP 토큰의 비율은 아래와 같이 된다. "
   ]
  },
  {
   "cell_type": "code",
   "execution_count": 41,
   "metadata": {},
   "outputs": [
    {
     "data": {
      "text/plain": [
       "{'master': 100000, 'A': 105000.0, 'B': 100000.0}"
      ]
     },
     "execution_count": 41,
     "metadata": {},
     "output_type": "execute_result"
    }
   ],
   "source": [
    "moniswap.lp_token_balances"
   ]
  },
  {
   "cell_type": "markdown",
   "metadata": {},
   "source": [
    "그리고 남은 A 계정의 잔액은 아래와 같아진다."
   ]
  },
  {
   "cell_type": "code",
   "execution_count": 42,
   "metadata": {},
   "outputs": [
    {
     "name": "stdout",
     "output_type": "stream",
     "text": [
      "balance X :  5000\n",
      "balance Y :  10000.0\n"
     ]
    }
   ],
   "source": [
    "print(\"balance X : \", A_account.balance_X)\n",
    "print(\"balance Y : \", A_account.balance_Y)"
   ]
  },
  {
   "cell_type": "markdown",
   "metadata": {},
   "source": [
    "그럼 스왑이 발생하면 어떻게 될까? 토큰 X에 대해 1000개만큼의 스왑요청이 들어갔다고 해보자."
   ]
  },
  {
   "cell_type": "code",
   "execution_count": 43,
   "metadata": {},
   "outputs": [
    {
     "data": {
      "text/plain": [
       "1987.483660130719"
      ]
     },
     "execution_count": 43,
     "metadata": {},
     "output_type": "execute_result"
    }
   ],
   "source": [
    "moniswap.swapX2Y(1000)"
   ]
  },
  {
   "cell_type": "markdown",
   "metadata": {},
   "source": [
    "스왑 요청이 발생했으므로, X의 보유량이 늘고 Y의 보유량이 떨어질 것이다.\n",
    "\n",
    "그와 무관하게 LP 토큰의 양은 아래와 같이 동일하게 구성된다. "
   ]
  },
  {
   "cell_type": "code",
   "execution_count": 44,
   "metadata": {},
   "outputs": [
    {
     "data": {
      "text/plain": [
       "{'master': 100000, 'A': 105000.0, 'B': 100000.0}"
      ]
     },
     "execution_count": 44,
     "metadata": {},
     "output_type": "execute_result"
    }
   ],
   "source": [
    "moniswap.lp_token_balances"
   ]
  },
  {
   "cell_type": "markdown",
   "metadata": {},
   "source": [
    "그럼 이렇게 스왑이 발생했을 때에 추가 납입을 시도하면 어떻게 될까? "
   ]
  },
  {
   "cell_type": "code",
   "execution_count": 45,
   "metadata": {},
   "outputs": [
    {
     "name": "stdout",
     "output_type": "stream",
     "text": [
      "supply X :  306000\n",
      "supply Y :  608012.5163398692\n"
     ]
    }
   ],
   "source": [
    "print(\"supply X : \", moniswap.supply_X)\n",
    "print(\"supply Y : \", moniswap.supply_Y)"
   ]
  },
  {
   "cell_type": "code",
   "execution_count": 46,
   "metadata": {},
   "outputs": [
    {
     "data": {
      "text/plain": [
       "1.9624905660377359"
      ]
     },
     "execution_count": 46,
     "metadata": {},
     "output_type": "execute_result"
    }
   ],
   "source": [
    "208024/106000"
   ]
  },
  {
   "cell_type": "markdown",
   "metadata": {},
   "source": [
    "지금의 swap ratio는 2.0보다는 약간 줄은 1.96 수준으로 되어 있다. 그럼 다시 원칙을 상기해보자.\n",
    "\n",
    "````\n",
    "1) The price of assets in an AMM pool stays constant for pure liquidity provision and withdrawal activities.\n",
    "````\n",
    "\n",
    "이때 각 토큰의 가치는 보존되어야 하기 때문에, swap 비율은 유지한채로 넣어주어야 한다."
   ]
  },
  {
   "cell_type": "code",
   "execution_count": 47,
   "metadata": {},
   "outputs": [
    {
     "data": {
      "text/plain": [
       "996.7320261437909"
      ]
     },
     "execution_count": 47,
     "metadata": {},
     "output_type": "execute_result"
    }
   ],
   "source": [
    "moniswap.add_liquidity(A_account, 1000, 2000)"
   ]
  },
  {
   "cell_type": "markdown",
   "metadata": {},
   "source": [
    "실제로 아까와 다르게 1000을 넣었더니 X의 가치가 좀 더 떨어졌기 때문에 990이라는 좀 더 낮은 수준의 LP 토큰을 받았다. "
   ]
  },
  {
   "cell_type": "code",
   "execution_count": 48,
   "metadata": {},
   "outputs": [
    {
     "data": {
      "text/plain": [
       "4000"
      ]
     },
     "execution_count": 48,
     "metadata": {},
     "output_type": "execute_result"
    }
   ],
   "source": [
    "A_account.balance_X"
   ]
  },
  {
   "cell_type": "code",
   "execution_count": 49,
   "metadata": {},
   "outputs": [
    {
     "data": {
      "text/plain": [
       "8013.030992353369"
      ]
     },
     "execution_count": 49,
     "metadata": {},
     "output_type": "execute_result"
    }
   ],
   "source": [
    "A_account.balance_Y"
   ]
  },
  {
   "cell_type": "code",
   "execution_count": 50,
   "metadata": {},
   "outputs": [
    {
     "data": {
      "text/plain": [
       "{'master': 100000, 'A': 105996.73202614379, 'B': 100000.0}"
      ]
     },
     "execution_count": 50,
     "metadata": {},
     "output_type": "execute_result"
    }
   ],
   "source": [
    "moniswap.lp_token_balances"
   ]
  },
  {
   "cell_type": "markdown",
   "metadata": {},
   "source": [
    "## 유동성 풀에서 출금하기 \n",
    "\n",
    "![](https://imgur.com/61j7ynW.png)"
   ]
  },
  {
   "cell_type": "markdown",
   "metadata": {},
   "source": [
    "유동성 풀에서 출금하는 것은 매우 간단하다. 전체 발행된 토큰 중 비율에 맞춰서 각 토큰 풀에서 취득하면 된다. "
   ]
  },
  {
   "cell_type": "code",
   "execution_count": 51,
   "metadata": {},
   "outputs": [],
   "source": [
    "class Moniswap:\n",
    "    # M3O1의 이니셜을 따서 Moniswap이라 해보자\n",
    "    fee = 0.003 # FEE는 0.3%만큼 뗀다고 해보자 \n",
    "    lp_token_balances:dict # key는 address, value는 address\n",
    "    \n",
    "    # 토큰이 실제로 저장된 컨트랙트\n",
    "    def __init__(self, account:Accounts, supply_X, supply_Y):\n",
    "        assert account.balance_X >= supply_X, \"X토큰이 공급물량보다 모자랍니다\"\n",
    "        assert account.balance_Y >= supply_Y, \"Y토큰이 공급물량보다 모자랍니다\"        \n",
    "        \n",
    "        # X의 초기 통화 공급량 : supply_X\n",
    "        # Y의 초기 통화 공급량 : supply_Y\n",
    "        self.supply_X = supply_X\n",
    "        self.supply_Y = supply_Y\n",
    "        \n",
    "        # 공급한만큼 차감\n",
    "        account.balance_X -= supply_X \n",
    "        account.balance_Y -= supply_Y\n",
    "        \n",
    "        # LP 토큰의 발행량은 X의 공급량와 동일하게 세팅\n",
    "        self.lp_token_balances = {account.address:supply_X}\n",
    "        \n",
    "        \n",
    "    def get_LP_balance(self, address):\n",
    "        # 해당 주소에 할당되어 있는 LP Token\n",
    "        return self.lp_token_balances.get(address, 0)\n",
    "    \n",
    "    def get_total_balance(self):\n",
    "        # 전체 유동성 토큰 갯수\n",
    "        return sum(self.lp_token_balances.values())\n",
    "    \n",
    "    def add_liquidity(self, account:Accounts, add_X, add_Y):\n",
    "        \"\"\"유동성 공급\n",
    "        \"\"\"\n",
    "        required_Y = add_X * self.supply_Y/self.supply_X\n",
    "        assert account.balance_X >= add_X, \"X토큰이 공급물량보다 모자랍니다\"\n",
    "        assert account.balance_Y >= required_Y, \"Y토큰이 공급물량보다 모자랍니다\"\n",
    "        \n",
    "        # 찍어내는 토큰 양 계산\n",
    "        minted_amount = add_X / self.supply_X * self.get_total_balance()\n",
    "        \n",
    "        # 유동성 풀에 토큰 넣기\n",
    "        self.supply_X += add_X\n",
    "        self.supply_Y += required_Y\n",
    "        \n",
    "        # 지갑에서 돈빼기\n",
    "        account.balance_X -= add_X\n",
    "        account.balance_Y -= required_Y\n",
    "        \n",
    "        # LP 토큰 넣어주기\n",
    "        self.lp_token_balances[account.address] = (\n",
    "            minted_amount + self.lp_token_balances.get(account.address, 0)\n",
    "        )\n",
    "        return minted_amount\n",
    "    \n",
    "    def remove_liquidity(self, account:Accounts, tokens):\n",
    "        assert tokens >= self.lp_token_balances.get(account.address, 0)\n",
    "        \n",
    "        # 출금 금액 계산 하기\n",
    "        ratio = tokens/self.get_total_balance()        \n",
    "        out_X = ratio * self.supply_X\n",
    "        out_Y = ratio * self.supply_Y\n",
    "        \n",
    "        # 풀에서 돈 빼기\n",
    "        self.supply_X -= out_X\n",
    "        self.supply_Y -= out_Y\n",
    "        \n",
    "        # 지갑에 돈 넣기\n",
    "        account.balance_X += out_X\n",
    "        account.balance_Y += out_Y\n",
    "        \n",
    "        # LP 토큰 제거하기\n",
    "        self.lp_token_balances[account.address] -= tokens\n",
    "        \n",
    "        return out_X, out_Y\n",
    "        \n",
    "    @property\n",
    "    def constant(self):\n",
    "        # 추가적으로 풀에 토큰이 공급되거나, 빼지 않는 경우 \n",
    "        # 해당 값은 계속 유지되어야 함\n",
    "        return self.supply_X * self.supply_Y\n",
    "        \n",
    "    def calculate_TVL(self, price_X, price_Y):\n",
    "        # 현재 price_X와 price_Y를 기준으로 풀의 총 가치 산정\n",
    "        return self.supply_X * price_X + self.supply_Y * price_Y\n",
    "        \n",
    "    def swapX2Y(self, delta_X):\n",
    "        # delta_X만큼의 X 토큰을 delta_Y만큼의 Y 토큰으로 교환\n",
    "        # Fee를 뗀 만큼 유저에게 돌려준다\n",
    "        delta_Y = (1- self.fee) * self.supply_Y * delta_X / (self.supply_X + delta_X)\n",
    "        \n",
    "        self.supply_X += delta_X\n",
    "        self.supply_Y -= delta_Y\n",
    "        return delta_Y        \n",
    "        \n",
    "    def swapY2X(self, delta_Y):\n",
    "        # delta_Y만큼의 Y 토큰을 delta_X만큼의 X토큰으로 교환\n",
    "        # Fee를 뗀 만큼 유저에게 돌려준다\n",
    "        delta_X = (1- self.fee) * self.supply_X * delta_Y / (self.supply_Y + delta_Y)\n",
    "        self.supply_X -= delta_X\n",
    "        self.supply_Y += delta_Y\n",
    "        return delta_X                "
   ]
  },
  {
   "cell_type": "markdown",
   "metadata": {},
   "source": [
    "그럼 항상 "
   ]
  },
  {
   "cell_type": "code",
   "execution_count": 52,
   "metadata": {},
   "outputs": [
    {
     "name": "stdout",
     "output_type": "stream",
     "text": [
      "A_account의 총 가치 :  400000\n",
      "A_account의 총 가치 :  400166.23801687005\n"
     ]
    }
   ],
   "source": [
    "master_account = Accounts(\"master\",100_000, 200_000)\n",
    "A_account = Accounts(\"A\", 10_000, 20_000)\n",
    "print(\"A_account의 총 가치 : \", A_account.calculate_TVL(20, 10))\n",
    "\n",
    "moniswap = Moniswap(master_account, supply_X, supply_Y)\n",
    "\n",
    "# IN -> \n",
    "moniswap.add_liquidity(A_account, 10_000, 20_000)\n",
    "\n",
    "## SWAP 발생 \n",
    "moniswap.swapX2Y(1000)\n",
    "moniswap.swapY2X(500)\n",
    "moniswap.swapY2X(1200)\n",
    "moniswap.swapY2X(500)\n",
    "moniswap.swapY2X(1200)\n",
    "moniswap.swapY2X(500)\n",
    "moniswap.swapY2X(1200)\n",
    "moniswap.swapY2X(500)\n",
    "moniswap.swapY2X(1200)\n",
    "moniswap.swapY2X(500)\n",
    "moniswap.swapY2X(1200)\n",
    "moniswap.swapX2Y(800)\n",
    "moniswap.swapY2X(1000)\n",
    "moniswap.swapX2Y(500)\n",
    "moniswap.swapX2Y(1200)\n",
    "moniswap.swapY2X(800)\n",
    "moniswap.swapX2Y(1000)\n",
    "moniswap.swapY2X(500)\n",
    "moniswap.swapY2X(1200)\n",
    "moniswap.swapX2Y(800)\n",
    "moniswap.swapY2X(1000)\n",
    "moniswap.swapX2Y(500)\n",
    "moniswap.swapX2Y(1200)\n",
    "moniswap.swapY2X(800)\n",
    "moniswap.swapX2Y(1000)\n",
    "moniswap.swapY2X(500)\n",
    "moniswap.swapY2X(1200)\n",
    "moniswap.swapX2Y(800)\n",
    "moniswap.swapY2X(1000)\n",
    "moniswap.swapX2Y(500)\n",
    "moniswap.swapX2Y(1200)\n",
    "moniswap.swapY2X(800)\n",
    "\n",
    "# OUT -> \n",
    "moniswap.remove_liquidity(A_account, 10000)\n",
    "\n",
    "# 나올 떄 시장에서 동일가치를 유지하였다면, 뺄 때 항상 차익이 발생한다.\n",
    "print(\"A_account의 총 가치 : \", A_account.calculate_TVL(20,10))"
   ]
  },
  {
   "cell_type": "code",
   "execution_count": null,
   "metadata": {},
   "outputs": [],
   "source": []
  }
 ],
 "metadata": {
  "kernelspec": {
   "display_name": "Python 3",
   "language": "python",
   "name": "python3"
  },
  "language_info": {
   "codemirror_mode": {
    "name": "ipython",
    "version": 3
   },
   "file_extension": ".py",
   "mimetype": "text/x-python",
   "name": "python",
   "nbconvert_exporter": "python",
   "pygments_lexer": "ipython3",
   "version": "3.8.3"
  }
 },
 "nbformat": 4,
 "nbformat_minor": 4
}
