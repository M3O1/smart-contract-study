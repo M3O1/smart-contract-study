{
 "cells": [
  {
   "cell_type": "markdown",
   "metadata": {},
   "source": [
    "# Dex의 Price History\n",
    "\n",
    "----\n",
    "\n",
    "* **DATE** : 2021.11.06\n",
    "* **AUTHOR** : Kang Sang Jae\n",
    "* **Reference** : \n",
    "\n",
    "    * [Infura 사용해보기](https://medium.com/@sungjoon.yoon/infura-%EC%82%AC%EC%9A%A9%ED%95%B4%EB%B3%B4%EA%B8%B0-24af9bf12c4c)"
   ]
  },
  {
   "cell_type": "code",
   "execution_count": 3,
   "metadata": {},
   "outputs": [],
   "source": [
    "import json\n",
    "\n",
    "# Infura Key file\n",
    "KEY_DICT = json.load(open(\"../keys/infura.json\",'r'))\n",
    "\n",
    "project_id = KEY_DICT['projectId']"
   ]
  },
  {
   "cell_type": "markdown",
   "metadata": {},
   "source": [
    "## Ethereum Node 란? \n",
    "\n",
    "**Local Node**\n",
    "> A local node is started and controlled by you. It is as safe as you keep it. When you run geth or parity on your machine, you are running a local node.\n",
    "\n",
    "**Hosted Node**\n",
    "> A hosted node is controlled by someone else. When you connect to Infura, you are connected to a hosted node.\n",
    "\n",
    "\n",
    "블록체인은 무수히 많은 노드들의 집합체. 노드에 참여해야 필요한 데이터들을 받아올 수 있으니까 필수적으로 네트워크에 참여해야 함. 이때 우리는 로컬에 설치할지, 호스팅되고 있는 노드를 이용할지를 결정해야 함. \n",
    "\n",
    "우리는 호스팅 중인 노드를 이용해보자. 그중 하나가 바로 **INFURA** 라는 서비스이다. 이걸 먼저 이용해보면 어떨까 한다\n",
    "\n",
    "![](https://imgur.com/REA2sVI.png)"
   ]
  },
  {
   "cell_type": "markdown",
   "metadata": {},
   "source": [
    "## Web3 "
   ]
  },
  {
   "cell_type": "code",
   "execution_count": 1,
   "metadata": {},
   "outputs": [],
   "source": [
    "from web3 import Web3"
   ]
  },
  {
   "cell_type": "markdown",
   "metadata": {},
   "source": [
    "infura MainNET에 접속"
   ]
  },
  {
   "cell_type": "code",
   "execution_count": 4,
   "metadata": {},
   "outputs": [
    {
     "name": "stdout",
     "output_type": "stream",
     "text": [
      "True\n"
     ]
    }
   ],
   "source": [
    "w3 = Web3(\n",
    "    Web3.HTTPProvider(f\"https://mainnet.infura.io/v3/{project_id}\")\n",
    ")\n",
    "\n",
    "print(w3.isConnected())\n",
    "manager = w3.eth"
   ]
  },
  {
   "cell_type": "markdown",
   "metadata": {},
   "source": [
    "#### [1] 현재 이더리움의 Block 수"
   ]
  },
  {
   "cell_type": "code",
   "execution_count": 10,
   "metadata": {},
   "outputs": [
    {
     "name": "stdout",
     "output_type": "stream",
     "text": [
      "13605708\n"
     ]
    }
   ],
   "source": [
    "curr_block_number = manager.get_block_number()\n",
    "print(curr_block_number)"
   ]
  },
  {
   "cell_type": "markdown",
   "metadata": {},
   "source": [
    "#### [2] 최근 Block 정보 가져오기"
   ]
  },
  {
   "cell_type": "code",
   "execution_count": 11,
   "metadata": {
    "scrolled": true
   },
   "outputs": [
    {
     "data": {
      "text/plain": [
       "AttributeDict({'baseFeePerGas': 115080188571,\n",
       " 'difficulty': 11152175304952378,\n",
       " 'extraData': HexBytes('0x6575726f70652d6e6f727468312d31'),\n",
       " 'gasLimit': 29999859,\n",
       " 'gasUsed': 29982782,\n",
       " 'hash': HexBytes('0x5d0b5d67b70c0a7eeebf2cfc393df9c9ca4593b6e9a18841d76a34707a8dd39d'),\n",
       " 'logsBloom': HexBytes('0xbffdf41bd1129fe9d1cfb65bb015b7eed21add7f8b85475a13dd3cbffcfbd9af5fbfc1cb0895f2f8be8b5be4f01f11772ee9a22b4b9dfdb4277fde2ae7776f29cff147d2e49abbfbfb9bae7ef49c26f766b871ab857032d8bea6ffcb8e273594dbd603ffdfb2c00f455d528421f139f8e17faffdff8aadf2cbd12473457b64e4e05b972b6fe56fb7a9fb3fdb35aafd17df796a2747ed0878f8abcde81d76d5a06edd2ced03bfe8f31e2d4db2dd5ebc90f22de3b173af52fde36abdd7deedfe5d737ff6bbdbf24af4a1bfbdf1bfff5ff7da68bb115eff0fdf6e7875a3103e6e986c3bfb2f95f8559126f4f56dd537a89fa4eaf662a3a6eddc36ab799272887aa1'),\n",
       " 'miner': '0xEA674fdDe714fd979de3EdF0F56AA9716B898ec8',\n",
       " 'mixHash': HexBytes('0x45653ec954bbe4a1b9464023aeb68d05b8afe4526296fd7cb5605cb29c2cba22'),\n",
       " 'nonce': HexBytes('0x646b5f1705cc4b67'),\n",
       " 'number': 13605708,\n",
       " 'parentHash': HexBytes('0xa7c4f34dde5a428466c2ed5a31242831bda0332ab2a16bf2b0a242a2b98c4f31'),\n",
       " 'receiptsRoot': HexBytes('0x0af60d0cea9420e95df0cbc999cd9b2c0aafdfc894735ae36c9ad559ff18faba'),\n",
       " 'sha3Uncles': HexBytes('0x1dcc4de8dec75d7aab85b567b6ccd41ad312451b948a7413f0a142fd40d49347'),\n",
       " 'size': 129831,\n",
       " 'stateRoot': HexBytes('0x536e3b76de05e8b548ad58cbc7990c6ca1251b4eb9589c9a4042a28e614caeda'),\n",
       " 'timestamp': 1636779595,\n",
       " 'totalDifficulty': 34320879526407255105663,\n",
       " 'transactions': [HexBytes('0x8d3eb314f05282a00f82eca675c398b5998f807ccdf0044eae6460af7bafe32e'),\n",
       "  HexBytes('0xc1d8e2a6028636d873e9c90aabfb23d2f6c4044d692251d0537f6d326b8ec3bd'),\n",
       "  HexBytes('0xedd1894f3834dc4c4d966f902fe00e574685155701b6a82333358a8710082c95'),\n",
       "  HexBytes('0x39fc60436bd390f962bd05e6fc80bcf1105ba3ea2d8f56f01306bf2767ffe753'),\n",
       "  HexBytes('0x14bd5dc584e6fdfe7ee4fab7e556b54fdaacea805d99c4add7e8102be9ec41f0'),\n",
       "  HexBytes('0xd41961505aab9ed4f921aaaaf08a67be546b0700924c73d747911bcd722c7e5d'),\n",
       "  HexBytes('0x08fc75d4e2607e072e10cf608942aa934facefc5ed4f4a85c382ba1f39f75162'),\n",
       "  HexBytes('0x57c12efbce4ed88ea707ed270e91c9ea625806dd14f7ccd0cb80fafdd45fee41'),\n",
       "  HexBytes('0xb7635817e78260f552e7d311b84fe46095d453af557f06bb2bfb386d0254d3ec'),\n",
       "  HexBytes('0xcb5ddfd006e1f78f5df18f170bcb7bf22b749a0365453ffa29d644a72d380761'),\n",
       "  HexBytes('0x57301c26cbad4d622ebab791148cb732f123b2a757d273c9927d450f24b9fdd5'),\n",
       "  HexBytes('0xccb146089810563d4d5f1487c66174c4d1232718dc8788a58fa05a6d8bdfead5'),\n",
       "  HexBytes('0x58adf2db74729682a5fa1957f019435c457942496f41d0ac57fb6db79dfcc6b2'),\n",
       "  HexBytes('0xfac9bbd8e3fb321bb6d6ef58429951c2d594787a75c3bee4dae402fab13aff30'),\n",
       "  HexBytes('0xb67d9a53c0b5af1f46f3b476a795ae8fa7f4220a247bd91806d192122ca36eb9'),\n",
       "  HexBytes('0x56f3b446f8b6517d58a2d97dd92cffbaaeb025dca5bd050b668a8f9e3ef7fad1'),\n",
       "  HexBytes('0x4c72e138c96e884fbe7c9570538ef4e1e6ef9ef31556c462a67ab8f36f2074bf'),\n",
       "  HexBytes('0x419dd683466d434a6c4d406dd915cbaae6974bfdb21ddf86cba3dd024ac7a565'),\n",
       "  HexBytes('0x3e9fb77c7fc582dd6343b3c061f7d372d1db1e52211d7f121c61a37406ce54b3'),\n",
       "  HexBytes('0x07ef922c22de0c8376ddbc298eb6aa835ee160bf2bb29da42506676c6fffe554'),\n",
       "  HexBytes('0xe2c6db7dfee4bbcc1ec6e843943074cb3d87630ec97fcfb0dde14fabce05dd20'),\n",
       "  HexBytes('0xff41b840b5ef0c614f8b7afcde00c7b65594ab9e1c11e10f1186d73a9b13ad90'),\n",
       "  HexBytes('0xaf89522ac709d17e72caf8b4c506770445ed933eb79ed461b44ce9c5625107d7'),\n",
       "  HexBytes('0x4405b6c06aa043e6f0eb40e0bd2548d7676803d3a90e46444ab7a195d8bb0d3b'),\n",
       "  HexBytes('0x9f7798c79293bcf1e397a3f73730b8c131c13abb3b60742841f1c69161834955'),\n",
       "  HexBytes('0x978d8591b69a66014b84a9f8c376ad80e80b73d21249227ef9d7ea93e554ffac'),\n",
       "  HexBytes('0x1559a020e6ffa6a616590b4112f3008faa38238d7f64596d25e910715a632fb8'),\n",
       "  HexBytes('0x621741df417d228929f8b4264698da5359c9c50ecfccb49e16797e0fbedade33'),\n",
       "  HexBytes('0x3419aeb8dee8457fcea2f3987af834d1815fd1f043fba73c5e4c37f00a8590e4'),\n",
       "  HexBytes('0x473c84c939d1ef2b0d85872eff114e646349a43c626514274847541a46e442d9'),\n",
       "  HexBytes('0x7727968e7d5fc9e6e0ed52d224285065eca6d1e9acd364640366070454cb8687'),\n",
       "  HexBytes('0x2b1b7883f709170207e0ab830339f53a474c5d029ea1d605c19aac4d974a3590'),\n",
       "  HexBytes('0xbf2f785fee3920a312149174a0fe8b7a0751107adb60dfc8fb058214589fb42e'),\n",
       "  HexBytes('0x3ed3663e675d8c7bfc1dd69b7a30146aa11604ed9973ed21601dd2a390be4d49'),\n",
       "  HexBytes('0x9e2a7c91798988d094ac2169b62f6324efdef9bd11a4d11c285456ae82ef43fe'),\n",
       "  HexBytes('0x4c50aff83e8aad6ddb08003ce904d0d4bbf29826c3e1855da4c8e6e8b9070927'),\n",
       "  HexBytes('0x8953db1875061b494f1f46c3dadedcdeeaa9d0128c6438b3a69f2a11af716f52'),\n",
       "  HexBytes('0xfeff8f0eae4018281edb090e0c3e01341370352f3171b2bbfdb6688666cb773b'),\n",
       "  HexBytes('0xcb759d954cf7dde298a90ccb6bcdbdcaf3e54760e0a4f77d53434816edb8d93f'),\n",
       "  HexBytes('0xa1c962988367d2d67fac64e29377c04d4d9a6750bbcb6e72d43b58d81e4fc0f6'),\n",
       "  HexBytes('0x6882441f7c6349230f45467439f9b5161d329556ff295f0e7902c3edbab99279'),\n",
       "  HexBytes('0xab9a4a5e20cb6115a4db8d402926e047ff1c62f8fcacfee314a02109663b0b7b'),\n",
       "  HexBytes('0xb98a3d334ddb40060b5ad7b0dfc8d21b4ae45a5cc9f4083a74c617021a13af33'),\n",
       "  HexBytes('0xdc1eac77dae3fdd25c5f9cbbdd540f11c41a45e7f055bee22b7a95d0b47147b0'),\n",
       "  HexBytes('0x1c4c6e178f9cb1e89e4deb0393db048e92de25c3ac7b7e4c6dfca2018274141e'),\n",
       "  HexBytes('0x173846af02ef3cf3c6c503b5627dd6e53709b6ba3fb771354a5f80d328b237b2'),\n",
       "  HexBytes('0xc15e0ab8292459a41e691fd6b41ca9e3cdff2139b6fec6161aa9cf50b2317134'),\n",
       "  HexBytes('0x140b021fff41e03565bedbf83eb682cec69cc8951d3a349aba2734adf33367ef'),\n",
       "  HexBytes('0x232bd8bbde28571a9b18e3a06bea87981b30deea620b37dbdfa70b084d5f796c'),\n",
       "  HexBytes('0xdf11457d39d4a016cb44bce45e2f724e1b814e24bd1075a3789ba20ae3f1b614'),\n",
       "  HexBytes('0xb811a362f7877463efb0074d55d97a5ebc1641d4913d1464b5233e6de86c631c'),\n",
       "  HexBytes('0x6978e6c233fbed4a7b3651b8d54c05063442bf9450f87dde8c3a9527181a004e'),\n",
       "  HexBytes('0x50f7000dc43c7cc203622c9a2332aed8ac2649e53f7b4a8e9d5edf83ff85fff9'),\n",
       "  HexBytes('0x269729311ee3d6734f33991d9eab83bdf38bd108fb2aac1901dae809ef47b8d4'),\n",
       "  HexBytes('0xa3c27cde78b166650f3106290a8fd47db51afd39616aaf797bd65db7dad3b707'),\n",
       "  HexBytes('0x7d33ea52a38ba5a194c1da671dff9feadc9ef80d4d6269e80548b17875b4e8bb'),\n",
       "  HexBytes('0xa7de31a6e3d0d426ea64120c3603816a36536eeaa8c1c53c8c63657f71a3d710'),\n",
       "  HexBytes('0xddbe59a43417adaa4fe5754cf68ced83cbaba6ca8048dca537f0754b226e4bde'),\n",
       "  HexBytes('0xd9df48cda12369c3c1293526e9ab72addd07c68d3114ec6fdaf2a880ebe84c08'),\n",
       "  HexBytes('0xddc2b180b4754fbd80505b4b54c009040dd8784560f54d8ca46e2ce90bf547a5'),\n",
       "  HexBytes('0x8521159edb33b17d9b653646faf9f49c4469f79914473c4b7e7484dd909df2aa'),\n",
       "  HexBytes('0x8d720e8f30b134186636f1063630738b7280c805ffcf91666c9034f5973d8a7c'),\n",
       "  HexBytes('0xab1b7a8570862cc3e8a7da07ee8b3c32e9e4206f5ec1cad979361c3eac2bd944'),\n",
       "  HexBytes('0x62ca7b2fa6ab82ce10df14bea4385e2e3e9a57fdfa5356d17a211b91c2e3c662'),\n",
       "  HexBytes('0xeb815325b7197d13e9ae839e6af15af7b26c2b1e3395fcab70be20d9ef3e70c0'),\n",
       "  HexBytes('0xde220b504d6cb69016d5bb983eac5ab1a65a2a9c2d56202b5b344d09cc33d947'),\n",
       "  HexBytes('0x0f120a353a16f5d5fa265180dacb7921f781322fd7bdaa86e2c4d69117a1816b'),\n",
       "  HexBytes('0x7ebc10ebd0c72d8de1584518aa0acadd86f18c399bd27ede321f6b9d9c41fc5b'),\n",
       "  HexBytes('0x9badc4e953ea9359fbbdda92bdd97c99d661b93aae2027e17ff0bd3278f71143'),\n",
       "  HexBytes('0x8aa142aaf7f9e84c846135c8966020b5217520f8c3ea9c9349d119536dcad96b'),\n",
       "  HexBytes('0x6237bfd7460fb23ebf440373b5fd86ae71ad668bf79d8ca163fe721a5ddb877d'),\n",
       "  HexBytes('0x5f338fca12c791d3d4ff777f5e1bafdda195ea266badcf8cbeabc8431824b221'),\n",
       "  HexBytes('0x3b80ebb6bcb43dfc809b7299e169fc73840061ecd88e5a1cdb0e37468ef9d1a4'),\n",
       "  HexBytes('0xdd23d71dae6cf720553df6ec914945fe1b084086307a44c769263ae13b6077c5'),\n",
       "  HexBytes('0x38b7c84b4bb5ab0baf6d32d7df93b19fea6ff7bb508e36cb43d24ea007d8246c'),\n",
       "  HexBytes('0x290ef1115b1d640868826e0ca60e2d5bcd96f0f1943de376a81370463bfeb70d'),\n",
       "  HexBytes('0x9e67073177b6429b3e09ff2649953782db3ef4bcca1c0e80348029761ca5a4fb'),\n",
       "  HexBytes('0x7bb9e60fb91c66ac61623947f571cc219adeed00dc21bcaedfac70e7fb6777d9'),\n",
       "  HexBytes('0x6168390ca49a44229edfc0edefc75c702c68b75fb58ca5445ad8e9c6d2e1939f'),\n",
       "  HexBytes('0x5a35452b1e2bd1a4303466a97b35c746133c49cbb4d1eb25de47f444f607b776'),\n",
       "  HexBytes('0x9d0157c9cfdb2d2bc3784eb8483d317ccaadb4f1dece9266514134d730a616bb'),\n",
       "  HexBytes('0x363326c91cf81be2935eec3b555dbd030b41ce9dcc22da92fd953796d859e6e6'),\n",
       "  HexBytes('0xc16c60b11e2f0e4fa5b968df2dfd60121eb5aa09280c85978489da4855d82b95'),\n",
       "  HexBytes('0xe6771998c62fcb69f10c35c1f61a161b38387bfa2b0746ff4bb2fcc7248466f3'),\n",
       "  HexBytes('0x3073c9a8d3cb3ae14e58d08111f481882c974ef10130d6ad2bbcd4e6e17c57ab'),\n",
       "  HexBytes('0x5b3a10163d742b57921c7cb51984fe4056ea0cff0c01c5b93a6f348ed81f12c5'),\n",
       "  HexBytes('0x25ad71fd3e2bb9e1b21ce81aec0bfc3e053395044beca8290061774d727900ec'),\n",
       "  HexBytes('0x5b841481ed4b3a82355a816fa0a80c307fa3efdd3d50a57bdd3ebbbbf89924f7'),\n",
       "  HexBytes('0xcb31eaacd39b433d2c72aaccd4f246b3df4049fb3611118162bdbd8465b500d1'),\n",
       "  HexBytes('0x2d911435bab56e07b7a99e3085ebbe815e2252583b41430ac30c757142f955e4'),\n",
       "  HexBytes('0x809185c16eae01859cc4cad14bfb27f34487b9385e51ea204725fc93d3abc85c'),\n",
       "  HexBytes('0xdcd4a126f9cd6952f2049b7c352e4c5d492e9a6a392964e2ba9af4a98f58773b'),\n",
       "  HexBytes('0x894ed54e21f949661fbb0d472b120b3584cc308fa2f01cedcc598993ce90e1de'),\n",
       "  HexBytes('0xf4aea997f2b94052de015e7b611148cd6dcad22a9c6d23e428c1365a304e46e4'),\n",
       "  HexBytes('0xbce795548095a27a456ee0824541107197282b21050a71b95a06e4ef3b9a2afd'),\n",
       "  HexBytes('0xf7550a4b2fa0790b06ee29305958cb3e2e3bda54bc20e6bd11ab75e00b460c35'),\n",
       "  HexBytes('0xc52ceda35020fe3e15877f9d28430cb360f9079155d7d761d9b8279a254fb844'),\n",
       "  HexBytes('0xa5f96c8c0104e297a7f6fbf25ed31153bc08f8a22265e5ed7a56d34084417cc0'),\n",
       "  HexBytes('0x60e6f588e5f75219a657c8c47c742be387fd3911f45172cd8312120726e1b811'),\n",
       "  HexBytes('0x3a363de039e2c3d01cb1df66f334f33a47df3924ef2f613208bc0a82ab8d3d63'),\n",
       "  HexBytes('0x4f4750e32832f6c622bc088c8af9972498b3dba32d5a7ea75497ff09f9bdaa9c'),\n",
       "  HexBytes('0xfefc489bf1b0012c54f3b3abde8de47ce32a4c781ace16101eb9439832e020cf'),\n",
       "  HexBytes('0xaf5b52e4fc8769214cdaeb944b8555f07a0fa31ba491db2b9f41f36a7d71d1bc'),\n",
       "  HexBytes('0x0de2c778a4a9cf5a8ad4d043f613f7ce703e831e9bbd8e3009f3350faca11dd3'),\n",
       "  HexBytes('0x2934c1e017197e1ae5db76090819cb400eb8fd0b1d21f2ae8838d556a3a3c110'),\n",
       "  HexBytes('0x426f4f32bcd89fc9a2bf07652ee03513a04df776ad28d81ccb25bfa4342dfd16'),\n",
       "  HexBytes('0x633588ef7a89efcab7daf27840279444ee31eabafc23f6a4869b4903c7b9847c'),\n",
       "  HexBytes('0xdc676f2cb22e5d75ecfbe0b75839125b59165776c503bd2d0a5f6689e8b4b06d'),\n",
       "  HexBytes('0x3d19965fa0f952a5add5f74a341af6fd41342069dd28a29f850c2b4374107866'),\n",
       "  HexBytes('0xe7ba2a2748c39b9f0000e282a808126829d6258ca0f51583ccb591cae62df481'),\n",
       "  HexBytes('0x34ae6a8966a238356cfe3fd30b50c33e0be4225eed986420f8adc6bd739cde2e'),\n",
       "  HexBytes('0xaa54b8ba76b811cd28c94b22eab962d206ff14a2ccfc29261a9516c85180dd0a'),\n",
       "  HexBytes('0x597f4a2af04660bf2cbe472e3d9e6bdd91fc62e4717fef942de2c437dda7602e'),\n",
       "  HexBytes('0x77746a0526434fd6897651a94e6b6338a614147a3d0cfc2cc9d98a55fe96d4a7'),\n",
       "  HexBytes('0x3e497dbd7d938de292419d3a6141f11cc6dc423b96385763fae76c2c6aa233c4'),\n",
       "  HexBytes('0x5ba0c69f9d09d130a6a25703259162a359645bbde0294617f93edff8ab4be015'),\n",
       "  HexBytes('0x5ed5bdbe912da44363e43313a0a209bb64810a86d9d7f8a4b45318ac28afb102'),\n",
       "  HexBytes('0x2a785480f9e24a28a5f743f98aa7045c6cc1780d3ab961f3289d5984f7528754'),\n",
       "  HexBytes('0x48600453e54a3d047278a2e2dd3dcf987f164b8da21c7d379d9c5c576579fdda'),\n",
       "  HexBytes('0x30280938cd53d62e07a673466f2e504192ea0399ced9bcb6047599550dae0beb'),\n",
       "  HexBytes('0xd0d530b0ff572aa3ccc6bae99c26a93d9d144e98adc5d3267bb8e853a7495d4e'),\n",
       "  HexBytes('0x05a0d17ee3f6c5c81bcb003882df8fa8948a74653777467db6476719bc4e95e2'),\n",
       "  HexBytes('0xa846ff03ab02bbc969495991768dbb7e7804c9e4cf5b0af328c633d14be452d9'),\n",
       "  HexBytes('0xd137065453f45f335a6774c12bf4139f93e9b7d68d50c0baff6cd0ede5da47f1'),\n",
       "  HexBytes('0xbf8cfacb8923eac98906595b94b948569983aac1d5ef8f57b2466a47671ad174'),\n",
       "  HexBytes('0xc6c8d8e570301a2e6781b5fef98f2970a09ee030a4854c1c7ac70cbcb9756bd0'),\n",
       "  HexBytes('0x08ecf8b95cfe49174f8572ebe490352514d27c45952da76039f2e415c21ee5f4'),\n",
       "  HexBytes('0xc6add9b1078caed96da34afb373ce95b6fba47ed9d9da318a5df26ede16a2ed6'),\n",
       "  HexBytes('0xd02c80c25721b4c2f2a8e72394943844b5d1092c1803a11d76212dd38e59f686'),\n",
       "  HexBytes('0xeabd73d4db516bbdf757d8d227d2beb6aec53645432713470baefac4b91917d2'),\n",
       "  HexBytes('0x68f7d71c01e171e97d8a457871b2e992a0d203450540a71b197b6ecee7d198bc'),\n",
       "  HexBytes('0x0c9ce8e21d799d04faa9a6f33057d03ebe42fe47c2eff2d141a644d1bd920a0b'),\n",
       "  HexBytes('0xf66d963db137a8caac235201504943c0e4549b98b6fca02fdf362e63d0ff7f4c'),\n",
       "  HexBytes('0xac34adfd2959c50f1867933e5218129c3af47270460960d6881378d3867c1821'),\n",
       "  HexBytes('0xed7778a59e5eeca166e3b39abe6814decec9ef5735456c97b3357686d597c1bd'),\n",
       "  HexBytes('0x16b4b9635e94315af8c873b77db190507c27dac8eb834d24fdc3e57756715d8c'),\n",
       "  HexBytes('0x7f92cfbfb0312b14336593e938dda791be2ada0371207adacc311c53604e3f33'),\n",
       "  HexBytes('0x388200efae3be58335cc6e0d2b4aa2fa01c9950c4502135567edf402e7504126'),\n",
       "  HexBytes('0x0c792ab8597358dba592bbd1d2398e163702b92e666f267a68ec1baffae63635'),\n",
       "  HexBytes('0x161226d96462d3add5a89602fe4c6b5ec33aca9b0f976ff6c703decbe26bf6a9'),\n",
       "  HexBytes('0x8e9afd007580e4666e412aabc576775006940e43b99c062c309b245b3e032e50'),\n",
       "  HexBytes('0xc15aebe548687aaab5ab460ab0ef3b139ed317def19caf9053791d63bb40ecac'),\n",
       "  HexBytes('0x333e8bcf2d2ebe4f5ed0313e06a1967155c0da766b89a513de182332e32a826c'),\n",
       "  HexBytes('0x40c17bf9453f6601a097aab287a1a97275a4bf43f1b2f4ee070ea49861dd2b8e'),\n",
       "  HexBytes('0xc61b690dcd45b97442dff35d16dba2d9bd0595d98972695a90894abfc51cd110'),\n",
       "  HexBytes('0x2b4eaa91c583b0b2ec01a4ac237652635dc118c822fa66b70a17e5ff4b23c6fe'),\n",
       "  HexBytes('0x3f34b03bbbda8e1bdc15291b2c366d43e672f21b2e04cf82a8f11e4501d5a638'),\n",
       "  HexBytes('0xd10ba119f92d445350468560a0994219e6371337ac4fa4f974254aa1d1171d12'),\n",
       "  HexBytes('0x8ef25b08edd73e59eecc0f673390e6953d94c68a89c64ad3f9de96e8cfe0875a'),\n",
       "  HexBytes('0x0d015c0d50bce8533db0902b64495429f4d90489dc351d5f76caaf54f3a27502'),\n",
       "  HexBytes('0x3d6d3e40f0160b9ed2f2f80f7ae3798983ff702ec98971988faa55d953d01966'),\n",
       "  HexBytes('0x002e49cb920e97cf98890bc40951d37c8214b71ce2233131dd923b1c3232a489'),\n",
       "  HexBytes('0xd853c6fd815e9db2ef6f917cdf0566d4ca039b6b39ee19a8d6d820516265962b'),\n",
       "  HexBytes('0x36f2fda059d50470e92189e5c3917f795aaf75b45cd01d938ea09474425cc963'),\n",
       "  HexBytes('0xb13370a456b298fed7d24fddfd692e0a1ebd04f79eda289768614d807f65a801'),\n",
       "  HexBytes('0x5249272683edb057025bbbfaeef86abeb5c984ed67b06789cdfcebf0798372e3'),\n",
       "  HexBytes('0x46f0342fda29b061fdb6e96ed4cb5d3de3ed79111c4a55496dd95860a5e593bd'),\n",
       "  HexBytes('0x3eb2c4034daabf6c533ba53e8404c2528651e1c6919f1b6936bc17b07c386b8c'),\n",
       "  HexBytes('0x2f0de5baccbcae06a5ffef11079bd8a7808dd8f6aec6053c1d9c6945acc9b3b5'),\n",
       "  HexBytes('0x4136588aa6024d509dfc35f2d4877689c4ddd136ea2f1e0d2e79f4959188441f'),\n",
       "  HexBytes('0x233b28ed02eb756968447b77873f84be1f4dc7a9ebfd0476b74dbb8f27f20359'),\n",
       "  HexBytes('0xedef7af3d177d1399fd213cc6d5afd7ca70fdd4983096891737304accba0c67c'),\n",
       "  HexBytes('0x4d5f724af06fdf789c38f88d00e285c8daa0d6a14da120df96df38261810a924'),\n",
       "  HexBytes('0x1e90844fd07e17e5a9eb933fe93dee45183e513cfd6e1144aaeddc7bcb24cf97'),\n",
       "  HexBytes('0x94bdd4f5c2bcfb980edcca86cde88f9692a32b6c8e9f1d3d7054cba43632c8e6'),\n",
       "  HexBytes('0x0184c35c5a74cf73308d961f5e39f8eb09e8f1af19e5cba7a59b09a7fa70cafa'),\n",
       "  HexBytes('0xaa472533990c017e4df7ae98cb5893fc8247a94c7a15f3139fd4af3149a9ecb4'),\n",
       "  HexBytes('0xdd2283e5db813c192b0dfc6e4638b6b9680bd89a14f8a962260dfe1abf233609'),\n",
       "  HexBytes('0x7465f719988f9fe59507c675ec03a079bcbb046e44617f5093a491f70522bcef'),\n",
       "  HexBytes('0xcb2c7e5408cc6527d2df42f6c7afd357fbd48f2521089f374b4518418ce95a27'),\n",
       "  HexBytes('0x092853d75b323a9aa20a46d4534a8778ab416d1cbefd65f56a3e3581a5b8602e'),\n",
       "  HexBytes('0x5035e6a0bb9f87245ae302e67658ad64f75ecf9ef8a9693c20de2bb89164fb7d'),\n",
       "  HexBytes('0xd300cc3949211417bd58d6c4de0b929bccdc1b4a3696b78f85e8a162b9470da1'),\n",
       "  HexBytes('0x1b3e1062dcd6c42da7fa90dc6a355dd6e11670a6e2fa88d2aeac219299325585'),\n",
       "  HexBytes('0x4d04369133a00c96ea6d7126c423d0f9a67ae1fcb9fa1d5c1dab0b24b2419139'),\n",
       "  HexBytes('0xffdc5f67da802d251dbbd02309eca694b30f74ebacbfc8cdb0a758a41ba0aa7c'),\n",
       "  HexBytes('0xbebf6ff395cef35d1adb2e2c7880d1d3d4757f4b8768a5381a6d86d57dcd47bf'),\n",
       "  HexBytes('0x3a551865dc216efe9a451b130823f5253b8ca532c3a3ceb79dc605ccfd233c8c'),\n",
       "  HexBytes('0x550dac62868851f77291fcd28cadfa9db104d0333680c4aa335ccaf15670cd4b'),\n",
       "  HexBytes('0x92d701df7a06e8abccdb6c42e146c4a282753b593408cc5f4f5a69eb16d2c058'),\n",
       "  HexBytes('0xba3f3ba9456f58df8ea6913f9442d3f9f170cfd52d2d8cfb286db8fada7cfdbb'),\n",
       "  HexBytes('0x0c6d6fddc7835903bdc685631e2931ad5d3f1464ec4dd9bef81c845ecaa501e9'),\n",
       "  HexBytes('0xfac351b09bf3a556656e86befeda0a330ce2b327a30f4a5b69af3908d4ea5674'),\n",
       "  HexBytes('0xa3650a4437eb77c7beb5a19d70f529f0d0abd8d3dc870b6bb14b3a2532facefe'),\n",
       "  HexBytes('0x58aaaaa7fc0834af59c1e9e2c06ef5969672837f705f4652a09ed57011a8b9cd'),\n",
       "  HexBytes('0x0fcfef349220418bc8f9370a1ee81c85de1f7d184b9fcde54012ece574bbfd4a'),\n",
       "  HexBytes('0x8d408c0cc7faaf3bf8b0b4ac913e086618332d549716fb17b7d60e2a2d5637a8'),\n",
       "  HexBytes('0x1a857aaf741675e914ee1b452f602a9ece367fd160fd37e2be6bbabd8f5f5b77'),\n",
       "  HexBytes('0x13477daee6b5f5070d0345c2446ae89b61558d711a064ff632c9aae78934f810'),\n",
       "  HexBytes('0x828d369642eee3e79da752342bf92918ff8eded653aefbab7dddd20d39e703b0'),\n",
       "  HexBytes('0x16def68bdeccaff88c87a0582a3e3ffdd08cb9a1013e8e14526f4df405f8a041'),\n",
       "  HexBytes('0x16824434718be2326c9d0345da886138743f0e5a6043b65a8ebe2a7743643b93'),\n",
       "  HexBytes('0x6347c438f66b11f7900863ca09d88519b5ac4dfc0c6bf9e90bbbdffa060f63c6'),\n",
       "  HexBytes('0x765cc7186c3aed3b0e469b207243d841c70710622b908a6675dcd6a5e4af99f4'),\n",
       "  HexBytes('0x9919bde1106ed69a1b2041f6acb46e4e15a71245514bccb1ee30543e8a9fe273'),\n",
       "  HexBytes('0x0f450b6b1f9b1303bbb4d887bdd53fc595a3205abef6e94292b4ae42266346d1'),\n",
       "  HexBytes('0xeb9fb36a2973e507e2574be7fb48893d782a61c5545e5ada6f4cd8cb7b7a3f74'),\n",
       "  HexBytes('0x2ffe34315c8a220454aceef86445f30f16354077f249451b3a1fb1cf51c440eb'),\n",
       "  HexBytes('0xc2f782a591fdc824f1c4b46a1bbe5dad77acfdabc972d22a31896670227b6891'),\n",
       "  HexBytes('0xb8ac0d0a07377e097aa0119381f87828e80cbddf6a4673945e90788a711f7eb2'),\n",
       "  HexBytes('0x52754081d85483fc2bdfb0ac382bc58984963203a1c16d3a7d2b1c6786d1a15a'),\n",
       "  HexBytes('0x885a2942dae76140f130eb16c8159ae398d24fb4b51e1232eb0c5777e9f09e23'),\n",
       "  HexBytes('0xdb29e99d1c5a9b621d1c42e657ab4f5d6b4968ac55bd8903bb8c2380293c3249'),\n",
       "  HexBytes('0xbaec60328aae535d19f436988390caa476acd69db25de187f358993f46cf0952'),\n",
       "  HexBytes('0xe2d532e337cda4de58fc85ee7e97d2622efd79555c674c75a3c449a3358716b0'),\n",
       "  HexBytes('0x7e6ce1d18ecedd8075242b6dfe443afa876453847698a240a5b6611399805db7'),\n",
       "  HexBytes('0xee2abe29ad319ad200ec8e62e75da6dd0576154004a323c8c73b27df27de0446'),\n",
       "  HexBytes('0x61dca6540cd271756c922c5f9a60f4f2c0702e9cbb2844534364de106cbc0001'),\n",
       "  HexBytes('0x8f87e28704e705e07fe373c27b6cfef92cc2c57c2930a7e507f28e755728a319'),\n",
       "  HexBytes('0x5090fe320a3ca8b9fbc0094c9720e6287a1b47a09cba4f8b474bf002413869c3'),\n",
       "  HexBytes('0x22c49db5523a638d4b0342eaba7388f0fb018dab2267626431e4b0746c53da3f'),\n",
       "  HexBytes('0x1122ca74b105e74db71f1dca4aec8a3ea9ac7f08f294fd43a520b7d25f34e5d8'),\n",
       "  HexBytes('0x232503fc53447ecd497630620d6e68300d6dad1247705a445240a5902b26221f'),\n",
       "  HexBytes('0x40ffd48be14ede0543234836cfbab7ba59cbf535624322bbb30f55ae7c847981'),\n",
       "  HexBytes('0x2809b346638937f705434d7ef9815db7f6345f5643c6f152b3d552b0ae837ca2'),\n",
       "  HexBytes('0x760701814da4b826beef43c3314f43cd11246d1661b9a715b3feab317cec35e1'),\n",
       "  HexBytes('0x4a369828f7b7ca3700962840cb04be0fafb42629ff3c77da6dc7766f55131965'),\n",
       "  HexBytes('0xcf1132103c422d62050f6dd1206249e37a5c62406871e7ba506e34c88d679d44'),\n",
       "  HexBytes('0xea81eb88350ecc32b89f52b44b3626b912669b407054572c9e43b0609ee979be'),\n",
       "  HexBytes('0xb5c5c1800b45e93af41ecb9d7c1414735548cf637da96339d3ec45d1ff2f208b'),\n",
       "  HexBytes('0x1468dc7bb1d62fe06587a787c9dd7188b385130e45c4f3b7d49485e6989d7b28'),\n",
       "  HexBytes('0x4cd08f3431c52bc2a0900c50bfa35acec5a9e013f2d6e67948d4cc396f5a52f0'),\n",
       "  HexBytes('0x3607d5d1a421d605d6fabae033f222344cdf4d89174b35a9cc4d418655c9c90b'),\n",
       "  HexBytes('0x290109b14a6316411376637afd7510ee0527cbdddbda38c3049868a561e3a52f'),\n",
       "  HexBytes('0xd9511d176fbfc6b8d8e5bfb353c88604fc6f8417d3c826664f50dc72ae42e691'),\n",
       "  HexBytes('0x11aca283377ae226d61ec0b6e4eb2464a0be1f7baf67f2e2897d745cb3642020'),\n",
       "  HexBytes('0x172bda05cfada00c2e264ad259d2045e3d495a45fd9d89739e8abc2da36e3eda'),\n",
       "  HexBytes('0x9819b8b760aef3ea8b761a053009a72ae3a565c55afebe34e3e10ff1cd6168dc'),\n",
       "  HexBytes('0x802f0686d947e122d3a8353d31eb4aed7262db8e2a6b4e410c462f500b74e820'),\n",
       "  HexBytes('0x458c83adadc6cddf9dc885026f1c10a0c1e7e4db1b4ac4406945b6701dc031b4'),\n",
       "  HexBytes('0xe30376b783ac02d5e455b40912e45c32f5794d93593d7a32d1157b09888085a6'),\n",
       "  HexBytes('0x3e29b82f4008fb39ce8ac07d8d7a3304312247788eb64c7a4262cfc2e256f123'),\n",
       "  HexBytes('0xbe4b636c417d211671980e55593295e1dd65b414cdc326f068fc39201bc84dfc'),\n",
       "  HexBytes('0xdb1762c9d37db0b1a997e08ef1fb1cb5bb075e58c7cc98310a4a2ffcac8ad53a'),\n",
       "  HexBytes('0x133cc541457049dacb5115cbfdffcd23bb545417a0e6d3dc089e81e944ca4d8c'),\n",
       "  HexBytes('0x507fe6722a80a3aa8d31437f1c214a6495d3d5c724495c0ac429506b470762a6'),\n",
       "  HexBytes('0x9afb810fd8471993dd7dd8ee8c51b8f60b004a55616e262a411777486cb2262d'),\n",
       "  HexBytes('0x1c52299a24e72b0ffd07a70a1e63c77af79ee31c10920dd319b119ad1952b7f7'),\n",
       "  HexBytes('0xb61872c0061f9d6971847bc2ed0de4cff67fc3c1fd2f468258747e35b137f55d'),\n",
       "  HexBytes('0x04c8d1fa48133cd790d6ba88512d6166a64d763fa7e301f22f2cf9e78c502248'),\n",
       "  HexBytes('0x17d23f009635ed99fbbb71829e3bbcc5a68921bd2197e3091b4a6aa786167b53'),\n",
       "  HexBytes('0x0787f7a816a828042099b227b2f0fdd8c15e6439b412110aa3e6dfbac9b03c41'),\n",
       "  HexBytes('0x19a0da1135bc1dfa4daad7781087216ca74073798b7a0a00324f9bf71f811db7'),\n",
       "  HexBytes('0x94354bcaafad9f587e650a8525b732164b54c3ca69c27e1781486b307caf8264'),\n",
       "  HexBytes('0x66f9724000d078eda0071b27982386eb76210383cffb0c47990edcc5213026e4'),\n",
       "  HexBytes('0x5ef78a2f7a15abe308270bff11c21b521edae28874bbb22b8fc4b710ed25dff0'),\n",
       "  HexBytes('0x83115addfec3d50b5dd7378a86f34df7be163251fdbcadceb319db3fece1e2d1'),\n",
       "  HexBytes('0x3f2e1cd8d54ae4892d56d8716b45dd10c0d9f2450dbe371e7df21b2577bf07a1'),\n",
       "  HexBytes('0xc6cd033327827bf9eeb7893e9a9832968bd8d6bb67941e14018e21ee0c906ec0'),\n",
       "  HexBytes('0xe7d02402cae0098d63403bd3964d64c61dcb97b79a799db671fe72e9fbadbacf'),\n",
       "  HexBytes('0xf35d9e615599490e856bff3f33bc56d5b61a8fade3148549034b8c4cc4ab7598'),\n",
       "  HexBytes('0x388d88eb8471e32c14d5c12879d95854915361502bd59cd173e994355214f804'),\n",
       "  HexBytes('0x6d1eecaf2790f3bc8c3baa8adb30587ed2581c2f32b1e15dec0e00d2fc9f8bd1'),\n",
       "  HexBytes('0x42d96fa02af8a230189d816ba9903625f037b0872d65bccf538869d98466ed4d'),\n",
       "  HexBytes('0xb99e204218e3f8ebfdb40198d89bcbd8ff9be1c150cbbe8638eb776f63f5f311'),\n",
       "  HexBytes('0x9c085cf802c7ed2d9268520eae2ea5561d24f81026915402c81af2b3f7589d47'),\n",
       "  HexBytes('0xbf64c2da4619e311074cdbb12318dfcd3669f6321751b533f8545ba776439013'),\n",
       "  HexBytes('0x536439027db87244be3032b73e4363dcb43de0fc0a3eab98f7faaf2f7fb15cd4'),\n",
       "  HexBytes('0x8c897c7e02d61902776e76fc0af4e96a3b21d9b40148c97ef7de90647ab76406'),\n",
       "  HexBytes('0x7c5139410406e98a1f665a1cd7f0b03add9fce35ab17dc46ee209478e636e3d4'),\n",
       "  HexBytes('0xb25cd2e3e561c3476fd98216a3f200849be7e37ca56dc4eaa816fcb363df7faa'),\n",
       "  HexBytes('0x605a6a19483b864c59f9792791ee50a8c2da7064411da912c581fd12f1388380'),\n",
       "  HexBytes('0xdcf49205a0155f13733094deadd3a180a602f9609761cb3efccc55565a751e95'),\n",
       "  HexBytes('0xd0504e81d3f0826289b4601ccaa874ccabf30626d9e0a41da002a042908e6840'),\n",
       "  HexBytes('0x70de51823b65a8dbe71a1aec0517fc4414d3163c7b23766eac7dd512868f764c'),\n",
       "  HexBytes('0x1edd230d65c674da4f22bbd163acac8705cf6c0fab4614188390287258b9f91c'),\n",
       "  HexBytes('0x9aca338fc1c3d4f7193a2d0c1c851ef2138e272e9ae4d5ca9462e7147d1ed1bd'),\n",
       "  HexBytes('0x6a712041130e4f0e224d05cffe1c0e41c094898a520bf278c8147e0d91d84053'),\n",
       "  HexBytes('0x991097c84b5a319897ba348adc3bf1af964097114e0ecee810087f27e93f4ad1'),\n",
       "  HexBytes('0x4a89ef821f80677a78d26315fb3cf8e404367c3f9627fa2802301d985fc8c0f6'),\n",
       "  HexBytes('0x66973db51d04e975efd871293371e8c05f5f73ddc522a5d476d28ef4b48dd8f3'),\n",
       "  HexBytes('0xd82b25a653e12dd03b7f59fff71bb90fbebed640a4834992ecd090d4a3e26b9e'),\n",
       "  HexBytes('0x839b2ff505df1f58f572b0c30dc03b2f3ca085958d002c31800262793d69f788'),\n",
       "  HexBytes('0x3a1cbfef8a743194e47c27a2789e57151f39cd0b56612fda1f78b97a57d36bdd'),\n",
       "  HexBytes('0xc68e11b5acb4f105c18549998cf073ea0c198760d35a4d4e5d428f70948661e5'),\n",
       "  HexBytes('0xc39d5497144f721c7b88a9275771670afef27c3c76618eeb266af9d6cfaf0d04'),\n",
       "  HexBytes('0xaee63d04be4eb5293ce2d1fddf344a05f7173d0e8070656c8fc0e0fcfab62be7'),\n",
       "  HexBytes('0x98a155bcc0ea76f9ca8a8b528c524620832dc78b061248b665cdae6cec2540bb'),\n",
       "  HexBytes('0x3a7c0177126d7d55341e22fe518d436061ab7563311cf31e46752c7e35dab1a6'),\n",
       "  HexBytes('0x1c31520d6db7400deb3d94b522465c518cb22a03896c0693c1719b95346f1100'),\n",
       "  HexBytes('0xd1ae5554e28f98d13a466ecf550a1f4956d30389c9c071bec3718a3c47a1058b'),\n",
       "  HexBytes('0x41cc77d124fa6a41b0e1c3910af6accbc44ab6412f9e87fac972c9ef3ca66303'),\n",
       "  HexBytes('0xb4a63bea2090912ecbb0131a32793662753ab2580f0dc57dd54d700ac5bbb996'),\n",
       "  HexBytes('0xa2b2e68e0657a1312c09261520fed9e5e43273a67eb59fa2de18ce33994d3ad8'),\n",
       "  HexBytes('0x74853de0b00a5b30e755bee0eb59eee5f4475ab7f62259610d470d2a96b8044b'),\n",
       "  HexBytes('0xd70dad4edeca1d9568b5a68c37786e49077012cd10c8ac6a1a1a468dd4595e68'),\n",
       "  HexBytes('0x9e5beea08346934b9ce9e236a8300b0ad11e6759973e6f6e7ab445fe67bbb8bf'),\n",
       "  HexBytes('0x7f4e72bb3906e261526191aeb6ad7f3da3afe4f3a422f22cab951fb11cfdeb42'),\n",
       "  HexBytes('0xd8b18715a5f53f3cb515415832d430aed4c1e896d21626dd9e6535d91f232672'),\n",
       "  HexBytes('0x077b32615804f8fbfb080937486fcc45943edbd510c56413af40199445d4411d'),\n",
       "  HexBytes('0x4645d9d27e0ccfd1c59eeca2dd05a76239406e065926b5ec1743b73c8fd62862'),\n",
       "  HexBytes('0xdb1471a7838da53f8e92e1bc115ece3e25a9cb17eb80ab847cf083f1239948e6'),\n",
       "  HexBytes('0x554a41e0fc3e887444af0c2b9b331c489930fff5cea0c95648ce20a7cbb58957'),\n",
       "  HexBytes('0x6dd3f218d7623077d080d395828a417633be32639c9848f5c99d8c72ee75e851'),\n",
       "  HexBytes('0xec9b5a038c978b1cf25f96b6ebb6970858b5082cf095118e09b3798363c23de8'),\n",
       "  HexBytes('0x9979885e34858b141f00138289c539df4c2971bd9c2dbd975df5f93c0eb09951'),\n",
       "  HexBytes('0xb22e04c5722e3d8fe2016985c2bcd1c93d61c20657c2aa69cabc5460a23e65a2'),\n",
       "  HexBytes('0x790f1bf809eb5b7aefd2ee5cac8333219581af7b8440216ed8234f0494b5f8d5'),\n",
       "  HexBytes('0xc4117741b6b4c72f189862d273805b1486ad48a4c95d68e222cdced2eba1faae'),\n",
       "  HexBytes('0x8b94d029fee43d774a54f6433d72c114a7e57016dfc5877b87cbb45347f69b03'),\n",
       "  HexBytes('0x2c198513bb9f7a248182bdc625fd940302d010708993c12d9acffec4c9d24564'),\n",
       "  HexBytes('0x357d43c688e1ba3bfd3ca707cc16bc2aeca4fac67f946df0d05fbc7dda962ba3'),\n",
       "  HexBytes('0xefab7d8b237d4f0bb097a001460d9f38b1ef07331399725e70759e7439e87187'),\n",
       "  HexBytes('0x59c36e18be7c6f80515ee0c9b4e42a2e4d80494e35946984162b9396ad21a1bd'),\n",
       "  HexBytes('0x560791827e5ac12d57cf83a66f8ec5ef8c0e3639b9d03485789bf123fc163030'),\n",
       "  HexBytes('0x0b82f500e9f7ea0c4aa8d2750f4f1a3d16b4d8a23b245a89f6b1c75b001aa34a'),\n",
       "  HexBytes('0xc9af224e51efbae0d61c5a5c7b6b2e9a95dbe2407f6e23d719a66f55f5d26b0e'),\n",
       "  HexBytes('0x255c898f4960e31e9a59c65b3ba384c80712d8812c822ac9cbc36c6b71bfeca8'),\n",
       "  HexBytes('0xfd795be565e95a136d2e09c4311c9d6ff67e8ad49bec43b85016ee8a35e48bd8'),\n",
       "  HexBytes('0x28c5b896352edd312635af94559ef78444e0c0e89d50865a471bcbfed25c405a'),\n",
       "  HexBytes('0x9d41042fde84f007b77a3fe25f817f4f0caffe95f25e37182951ffec1caad718'),\n",
       "  HexBytes('0x6bfb74a537979eea726f51b736dd5834e12c9a18219ee4d293db0a8c71fb925f'),\n",
       "  HexBytes('0x8324551daf06526c3714394d582f5614c9dfc0fa39e3c867c96bdaad40c7a2de'),\n",
       "  HexBytes('0x98c7eccd1595ac23057596d542585516db2661c90e257993f3e7c7f6d761793e'),\n",
       "  HexBytes('0x91ebb1a251e04735d22600d62a41b1c631c738fbed66e9ea5f676ee9df88d4e1'),\n",
       "  HexBytes('0xed8f0958ecbe568988d67e8e7aa98083b7743cc58c16bfa36193ca3dbd5a5ee8'),\n",
       "  HexBytes('0xcbe153df9ea81fe461507892b36dda2a6d9d534debc97229dca80a0b2a588356'),\n",
       "  HexBytes('0x39df101062e1605cc1055b0b6417497dd1ebaf163cd42bf20377b4711691f98f'),\n",
       "  HexBytes('0x2d2dbb247772f30c1b7b4deeff373d19541cf358e9e34bf5639cf8415c6d7ca6'),\n",
       "  HexBytes('0xe23bf100104eb3c7e11b771ee8b0b78b93dcf70b67566dd553adfc4f0553e1bd'),\n",
       "  HexBytes('0x77c1a22e629ee1dda203b139749cd69b392db8ebe57ddfe4767ac44045cfcc48'),\n",
       "  HexBytes('0x4399e2bf59a68be79574bbabe076c5d96c64fa6c2200d218017d908bbb327b0f'),\n",
       "  HexBytes('0xfb03bc4e83f503d480e9c4b6d2582b5ba287827e733e183ef8468f9be80a26ca'),\n",
       "  HexBytes('0x9b9669b9c899e66e5c1e845bedbf0d12f6e56ed5690d17fda56c348b2be8994a'),\n",
       "  HexBytes('0xb7dbe7f342b313ad0e9054bc10080cd8d02a1d34fd1f3603398001103beb7e26'),\n",
       "  HexBytes('0xfc69afefa5047a7df91a3e6f5c094ac8cceb3e44d536d4467a91761a3e689f7d'),\n",
       "  HexBytes('0xb7746718ff3864f448e44cf8f4c3c38ca8d990d337a9586576996d346d0d1afb'),\n",
       "  HexBytes('0xa677e0ca2bf06f3b771162a949a8150ab680262b7ebdd8a344ca81088a023876'),\n",
       "  HexBytes('0xbb899fb07ce3e9cc6116d83cbf0862f4f331e63cf50fabb3c11459f8d4f61c00'),\n",
       "  HexBytes('0x716cd3a12880c9dc2b97c0a23d2c5eee2479670b8c5d2e37f20375e80150c7e9'),\n",
       "  HexBytes('0x33bcf99f770bbfcb0e304dd5df3ebfd69d6e0f487a48232d6c62673f19dc4be4'),\n",
       "  HexBytes('0x426d99a01c4a4ea4628624e957de7f276a9fd43f97efda45f1ad3c0ba280055a'),\n",
       "  HexBytes('0xdd0ea3e13682668909b830fa9c85d94e86b6785d14ffb85f0d62ec88042278d1'),\n",
       "  HexBytes('0x80aa21eaa67b356639a11b852715794b7c679d34aec92dfc6243ef0d4d6f48a3'),\n",
       "  HexBytes('0x1eddf7124060ef191a2dedb39e32de5d213231b35f23d1f7dc91f1310f6f5473'),\n",
       "  HexBytes('0x863ac42fbec1728f365821b0a8150092de51b891fe6d289f44d2cb9f5b058d8e'),\n",
       "  HexBytes('0x5eef26883cc9b6a0ea25d627dde456eb43f6884add16c44373a22911effa52d6'),\n",
       "  HexBytes('0xf2635338076c546f597f830e383e715911cb0bafe305ae6c19159ef97577e155'),\n",
       "  HexBytes('0x4d38d23a7629850783e2f216b872ddccfb3942b2f0ff3a8125b143f60e7e2af6'),\n",
       "  HexBytes('0x61cee5701916a46755092d3a3a22b69043e28e94aa047580a156b96f09511a73'),\n",
       "  HexBytes('0xadfb781618e3b209cf26c33cf3622d37c374f71bb4387d171b37e4a0dce6f7a4'),\n",
       "  HexBytes('0x2412fd2b65cf44633ad35f6c290bf23fb237ffac776d50b08dd358e8274fd440'),\n",
       "  HexBytes('0xf6413b69d40ef3220671ba1c42c8af6e5c7ec48e5652587b6bd5689f2cca2233'),\n",
       "  HexBytes('0x339c85ee320f0e24f9f5387e1d2d4082047c748b34a903b801b1110292ab2dfe'),\n",
       "  HexBytes('0x809e29c7306cec7c58cc6539c9bfb270e06c61bfd1d1320e29c963b83dfecc65'),\n",
       "  HexBytes('0x2ba6ccdf8fd98fc737caa2b29295fe329c020162e60f562989d53c218f9bda36'),\n",
       "  HexBytes('0xaaf15b892e7d0e80d18b79ab9c96e8704402c5fc87a8d85b0a9a44283bb9a078'),\n",
       "  HexBytes('0x85ad4fa2cb2f377967571c7d945f6415d3a0e464daec9d9b3d6d03feb7e0d8b0'),\n",
       "  HexBytes('0xba8d02cc757d602e97194a5cdc97241c24f72ab43baebbb5ce306db51ff77f72'),\n",
       "  HexBytes('0xbcb8b1970bd7bc79d6c983272f0200ae1c43fa1cc7e566a49f6a8f2c2bb6f5fc'),\n",
       "  HexBytes('0xe6a1d5641f9ede2f93ef71f239709bb0acabdb9b962dafefc92472465fffcbb0'),\n",
       "  HexBytes('0xec13a9af33a8def68daa3b7739e8e1f7e6ae2c8248225c1761e138e3e2c4dd4b'),\n",
       "  HexBytes('0x2e966eac4c9087c9c729c0e0d6692d4bfbbd9bc2567b6f77c15e43e8d9e65461'),\n",
       "  HexBytes('0x3ac06bfaf60802e3d717b1087c1397fb3327761502cf2a002a9adf16c03c8053'),\n",
       "  HexBytes('0x87fbe1108ddeb39b2953804716e99f55ef7705c9c08d4ed8cfeb4b6bea6478a6'),\n",
       "  HexBytes('0xe0e0c7d41caba02d8c2d93affeabf3b30fd42df5d7d538989343d076392e8adc'),\n",
       "  HexBytes('0xff482ca2d68c5f61cbe0b8056bcc60cb337045a685687b61d52c88d388e9dac7'),\n",
       "  HexBytes('0x48f6058b0ce2b1fc166896e85337b186663319217bac683193b31f2195430444'),\n",
       "  HexBytes('0xfa05aaadb78c60df2ac19268e616a0d8526e08267569248787cc16918d053057'),\n",
       "  HexBytes('0xf7c94ab29f4b847700a066aba4df57bffa3537de9a84a0ea592a570d1849e49f'),\n",
       "  HexBytes('0xce62549aba0999e88c14c323533cc084cc57bc0fd7511f469c2907f3b02e5bbd'),\n",
       "  HexBytes('0xad4526985fc4e4c67466b588ad843ef9d4ef1c142f4842169d3137f902f68476'),\n",
       "  HexBytes('0xc7afbe3d01fbe015978159340b4d426b71cd5727552efa54267e1679dfab6154'),\n",
       "  HexBytes('0xf0b49ec143c8543cba7a14a65eab32b83cc1e36e40100eba99062ec725fe6125'),\n",
       "  HexBytes('0x0b51f88fde219dc30ff7b6cf6380115e80308dcac8677d275e1aeb465e0f2bb2'),\n",
       "  HexBytes('0xf3ec618182e8e6a8a13e2173418c9fb2ff27e5de25704916ce0e7c6dcdcb1a3a'),\n",
       "  HexBytes('0x7a102c6b5078c57cf9ecae064e4e3c0bd7d70f7baee530fbc41aa0290f839452'),\n",
       "  HexBytes('0x08c9728eaee214c520eebf2db6953b74bf7774ac524117e4b045fe8f7c50edab'),\n",
       "  HexBytes('0x34c677ba3946240e45891493674aa98831cf2d7d2cb090c30db1c756cf5fe83d'),\n",
       "  HexBytes('0x96cd6e9730e9fcba4899dfc2d87a2001a6cd8cca05d6e8495fdc20c929b68600'),\n",
       "  HexBytes('0x456e320f4436b492114a8a13657a464e9d6f0d9b4b75e456088771dcaa99dd3b'),\n",
       "  HexBytes('0x218e706edcc1d55fc74527c6283b668de46a1dde42823a23ade5e57f39383f00'),\n",
       "  HexBytes('0xada28b1afa3eeceb6bd89c987aa410019cc0cfe60bd0bc51e10b8c8d94491290'),\n",
       "  HexBytes('0x41fbe00b56c2da49db07b137c330e510e23ce14d862f4d2b394c77ca8a460863'),\n",
       "  HexBytes('0xf6d58b96e7a25b257102c86283f2ad9a87afd1651bae446d5d9e12068c207efa'),\n",
       "  HexBytes('0x6ff2d18e9b824bd98afb0425e4fd6dd76969d6fde52ccc335e005e9786730ecc'),\n",
       "  HexBytes('0x05102ab3837aecfecc385f8ba25480b93d1b3e5d591438888c88941ace2f92f7'),\n",
       "  HexBytes('0xd6d1b1ba320143b455474457adab1a818966bff79a9c373e8fcfd22e3f31f561'),\n",
       "  HexBytes('0x9131c87e27dda8762457daa3f5554203ba824ef37805a73c7dd66415180f925d'),\n",
       "  HexBytes('0x107f07679242ee9860a7555b915757b46fc57d071faa8eafa16a61cd92e32700'),\n",
       "  HexBytes('0x52300de9c770248b82ba018da783e218d0dc234e05585677dab85ff39011f1ee'),\n",
       "  HexBytes('0x767f6b0012e408bf653cf4f8f0d27cb4773182fa531148efe65a4e0be142376a'),\n",
       "  HexBytes('0x8bf9c167887e01977e5e3f9e4ed3858fff943e0be8a6d391111d284b6511bd59'),\n",
       "  HexBytes('0xf74ddd32577346b44542e0875f78ed91e1b3cf1dd43a339802d07044e2c04c0a'),\n",
       "  HexBytes('0xf2e48e8677d36a44405a520693cd767b10101b9dc2c88805a64d88bdfc960c3b'),\n",
       "  HexBytes('0xf718302d3e95a50347386052b4d26cfa04a0b77f42d8858df74d7c6f7bc61fcc'),\n",
       "  HexBytes('0x51ed43eabd4ebdb20bc845c11697a705285f520656cef3c2c64700af0e9b4fad'),\n",
       "  HexBytes('0x59d31881687e46e5f8630e9a6485557ca21d1aded26ad6ffac675878068d6fff'),\n",
       "  HexBytes('0x61b88e87f3496b7c1e4571e1f7accfb00a454fdd21dbf3e6f98400b50e1c960e'),\n",
       "  HexBytes('0x9a4ca9bc7fcef67fcb44fb6431e0b4fab717843a095a69e42e51cfb4c32b00fd'),\n",
       "  HexBytes('0x3ba02ec2573df0729784b78d1f3708cf258dae6ef3e3696eaf758c0a3120f45f'),\n",
       "  HexBytes('0x69a9f589dfeb8e0760eafb385772e8d387b599906977866d45b06d83d12dbd21'),\n",
       "  HexBytes('0xe38119c710507bc7995753be8d0523631d75998a70828bfec4d578cc326b7f22'),\n",
       "  HexBytes('0xbd5dcd1e66d8a64780e7ac91d73931070ec86847c34a5afc79731cd0a3184bf0'),\n",
       "  HexBytes('0x07a15f99e08193f61caa44c9176ac95806c84fc49d6aa2da1e6779434b16fdd8'),\n",
       "  HexBytes('0x18ec6215560f91dc28337d83f4a6f91be676b0f2627a4da7b698c4b730f43f79'),\n",
       "  HexBytes('0x7758e0c2ec25fff0532ecfe8df2170c7b7c21987e4490ecbe2a07ce2c4fbafad'),\n",
       "  HexBytes('0x9574ce8afb502b1760158f071010fa63b4e54f1c38b44b58dbc475f57cfd9077'),\n",
       "  HexBytes('0xe0460821a4cff25a422b094f8fdfe64965d942e32b7a5b00901c391455d5a866'),\n",
       "  HexBytes('0xeed534aedb7861247b7d46eee6d5e35149fe23e9f30da78d58f3cdeeed11aaf3'),\n",
       "  HexBytes('0xcc4f627628366a0d818112a5db0463ac8103ca1170637dd0c81bc169fee34d6b'),\n",
       "  HexBytes('0x704df990705838d7b63d5794b2a68ffd4256156f72e4fd0f288da8eb0312b0ce'),\n",
       "  HexBytes('0xb1e9e440728f66abc182375aca6c5f356a543dbaeff7139c410eb7a8c6c44abb'),\n",
       "  HexBytes('0x782c623a29e430482e72c520b0816dc26879ce683430768c3161f8a947980387'),\n",
       "  HexBytes('0xd6b1bed50d8432693fac97651f6adae392063954946cfa621d49c819fe768956'),\n",
       "  HexBytes('0x99724e7636b5e2e3595216ce7d0f8a9cdb195cd4c2f40608d239167c61110451'),\n",
       "  HexBytes('0x4a0512a31945d8af894ee57344c29c322f1d3b187bc90b9e8cac4ebebf083965'),\n",
       "  HexBytes('0xa0255374529b7b821eebbc3ff28acdc7570490ada5316ab5ed01864386eabd0b'),\n",
       "  HexBytes('0xf8c9f6764540b2f7b175299d81cb417840c1a33dd3737458ad3f1baf01d56d90'),\n",
       "  HexBytes('0xc05f391d07dd8a2aad6a547c8f4bd9f2957417aba1adc886aa33770c7e98690e'),\n",
       "  HexBytes('0x7f5f7e6cd5a0d72df6e032891c0089d2f9317c44f48b4214fe9c794eeb652926'),\n",
       "  HexBytes('0x129937b5de58f5c036ceaf9977f17f3677d231d692cb53e3886e3140878ce488'),\n",
       "  HexBytes('0x8f57fa06ebcecc5a04c89bda5ec14e5964ca6f69d06701a8280ed676604a7361'),\n",
       "  HexBytes('0xeae5f6ef3504ee9c24330c4c32d7e22617a32d27e88c69863a07876ac46bd407'),\n",
       "  HexBytes('0x3d2d79803428348bdf35db6a13b688f97c65bbe4fd3aa2f87a682c312d5e35dc'),\n",
       "  HexBytes('0x688caf089ab06cd2feb2a0891f4c17c5eae6dda695f0cac90283f558eb8deb5c'),\n",
       "  HexBytes('0x433df4fcf4d08ca6cac701bebfbf6596e4ef74c3d0e9cd2382a1b9d6b4e88074'),\n",
       "  HexBytes('0xc152e445a9b73aa90d5cd61ca320a84f1dd573afde1f6aeb9e4da9c9ee5c4642'),\n",
       "  HexBytes('0xfb872b0f69d36415ba2d11ea3dce52f0de4c35c807e7f1f6467711cba6e0e85e'),\n",
       "  HexBytes('0x0d4239953f092fbbec689b288b30d00921fb1f702d25ced8f5a611870a9909d7'),\n",
       "  HexBytes('0x6f002985fbe507bcc1c86a0a95691e5d7f718a3ae2a0dec438bbc429c4e5d16a'),\n",
       "  HexBytes('0x591e64f109a4363004e0b273a3712368105828f20578ee087d71f20af33efbde'),\n",
       "  HexBytes('0x344baa7c51d4ae2a14643d9bcaebd2bffff74894b2a905266aae42ff98096ad7'),\n",
       "  HexBytes('0x31a6aa7b8e5b7324a21b3c4d711eb50c0d521dc8191399655cd1fe0c10e58b14'),\n",
       "  HexBytes('0x0bd042ebb8c8051800d5283def9fc33d9032eaefbe658434701e6a0395c47f9a'),\n",
       "  HexBytes('0xaff1d1e2f547b5c1274158b874f4bab73cb379432597d6bd0aa0d038413b997d'),\n",
       "  HexBytes('0xfb526714e676d8c812c7e6927ffc0745ef928be17e99a4ff85ba990999fdc3bc'),\n",
       "  HexBytes('0x66c6c0bbf02122cbf72c7b18e07e15f7b92a0689aa3afe195421fea81b5816b2'),\n",
       "  HexBytes('0x7eff7f8fea4c3f4d26add630c0a1ab391ffa48487e50317024c8be78fb0ca5c6')],\n",
       " 'transactionsRoot': HexBytes('0x28f977e87f4cd29b598ca93a46cf76044776dff50a0c68609990ec6a0c9ccd57'),\n",
       " 'uncles': []})"
      ]
     },
     "execution_count": 11,
     "metadata": {},
     "output_type": "execute_result"
    }
   ],
   "source": [
    "latest_block = manager.get_block('latest')\n",
    "latest_block"
   ]
  },
  {
   "cell_type": "markdown",
   "metadata": {},
   "source": [
    "### [3] 계정의 잔액 정보 가져오기"
   ]
  },
  {
   "cell_type": "code",
   "execution_count": 13,
   "metadata": {},
   "outputs": [],
   "source": [
    "# 부테린 주소\n",
    "vitalik_address = \"0xAb5801a7D398351b8bE11C439e05C5B3259aeC9B\""
   ]
  },
  {
   "cell_type": "code",
   "execution_count": 14,
   "metadata": {},
   "outputs": [
    {
     "data": {
      "text/plain": [
       "104114638737747418521"
      ]
     },
     "execution_count": 14,
     "metadata": {},
     "output_type": "execute_result"
    }
   ],
   "source": [
    "# 부테린 잔액\n",
    "vitalik_balance = manager.get_balance(vitalik_address)\n",
    "vitalik_balance"
   ]
  },
  {
   "cell_type": "markdown",
   "metadata": {},
   "source": [
    "*ether 단위로 변경*"
   ]
  },
  {
   "cell_type": "code",
   "execution_count": 15,
   "metadata": {},
   "outputs": [
    {
     "data": {
      "text/plain": [
       "Decimal('104.114638737747418521')"
      ]
     },
     "execution_count": 15,
     "metadata": {},
     "output_type": "execute_result"
    }
   ],
   "source": [
    "w3.fromWei(vitalik_balance, 'ether')"
   ]
  },
  {
   "cell_type": "markdown",
   "metadata": {},
   "source": [
    "### [4] 트랜잭션보기"
   ]
  },
  {
   "cell_type": "code",
   "execution_count": 19,
   "metadata": {},
   "outputs": [
    {
     "name": "stdout",
     "output_type": "stream",
     "text": [
      "b'\\xcb]\\xdf\\xd0\\x06\\xe1\\xf7\\x8f]\\xf1\\x8f\\x17\\x0b\\xcb{\\xf2+t\\x9a\\x03eE?\\xfa)\\xd6D\\xa7-8\\x07a'\n"
     ]
    }
   ],
   "source": []
  },
  {
   "cell_type": "code",
   "execution_count": 21,
   "metadata": {},
   "outputs": [
    {
     "data": {
      "text/plain": [
       "HexBytes('0xedd1894f3834dc4c4d966f902fe00e574685155701b6a82333358a8710082c95')"
      ]
     },
     "execution_count": 21,
     "metadata": {},
     "output_type": "execute_result"
    }
   ],
   "source": [
    "latest_block['transactions'][2]"
   ]
  },
  {
   "cell_type": "code",
   "execution_count": 20,
   "metadata": {},
   "outputs": [
    {
     "name": "stdout",
     "output_type": "stream",
     "text": [
      "AttributeDict({'accessList': [], 'blockHash': HexBytes('0x5d0b5d67b70c0a7eeebf2cfc393df9c9ca4593b6e9a18841d76a34707a8dd39d'), 'blockNumber': 13605708, 'chainId': '0x1', 'from': '0x7b9d4D8772b8705dDc7456Daf821c3022DDa0504', 'gas': 350000, 'gasPrice': 147080188571, 'hash': HexBytes('0x8d3eb314f05282a00f82eca675c398b5998f807ccdf0044eae6460af7bafe32e'), 'input': '0x6e8dbd9c0000000000000000000000000000000000000000000000000000000000cf9b4e6928bd6afd272c6026a7627eeefb6bf49cb2b7200000000000000000000000000000000000000000000000000000000000000000000000004042d737707240000000000000000000000000000000000000000000000000000000000000000000000000000000000000000000000000000000000000000c127b276993b07cb2440000000000000000000000000000000000000000000147ea4f7c2b1de0b7a3e40000000000000000000000000000000000000000000000068c35dea845f75d480000000000000000000000000000000000000000000000000000000000000000', 'maxFeePerGas': 160996347873, 'maxPriorityFeePerGas': 32000000000, 'nonce': 5578, 'r': HexBytes('0xc562c66ea9159df779e83c322b9f5323fbec6351bedd4ac054b868ae27e3438c'), 's': HexBytes('0x43e5ca4d92992b86057aa677c8941fb2fb1a5482588ee95d85161fef6c7c89ef'), 'to': '0x56bb71C3Fb82f3af2cE143DbAeb4A3828Be2c552', 'transactionIndex': 0, 'type': '0x2', 'v': 1, 'value': 0})\n",
      "AttributeDict({'accessList': [], 'blockHash': HexBytes('0x5d0b5d67b70c0a7eeebf2cfc393df9c9ca4593b6e9a18841d76a34707a8dd39d'), 'blockNumber': 13605708, 'chainId': '0x1', 'from': '0x1c3ff92523C0656a32f31507ccEb20857Cc80429', 'gas': 249196, 'gasPrice': 225220142841, 'hash': HexBytes('0xc1d8e2a6028636d873e9c90aabfb23d2f6c4044d692251d0537f6d326b8ec3bd'), 'input': '0x0400cf9b4c0588e6a0c2ddd26feeb64f039a2c41296fcb3f56400000a626eb9cc7dec00703586414d0811e1ba202144300009d9681d71142049594020bd863d34d9f48d9df5801a0b86991c6218b36c1d19d4a2e9eb0ce3606eb48f8e9f10c22840b613cda05a0c5fdb59a4d6cd7ef0000000000000000000000000000000000000000000000001f4fd0ceb3ffffa8000000000000000000000000000000000000000000000000000000026da7c6bd000000000000000000000000000000000000000000000000000000026da7c6bd0000000000000000000000000000000000000000000005ed1157b917a7a94a2a0000000000000000000000000000000000000000000005ed1157b917a7a94a2a0000000000000000000000000000000000000000000000001ff5c245077281b9', 'maxFeePerGas': 253990189983, 'maxPriorityFeePerGas': 110139954270, 'nonce': 6121, 'r': HexBytes('0x08e72c035ac929b390e051afc6418cd0c31df9bf06e03a7e9f14fbdf3edfec8e'), 's': HexBytes('0x10fe98d51124f607bcae2e81b5a5f54f942833b41a8cd26d51d88f3b889508dd'), 'to': '0x7Cf09D7A9A74f746EDcb06949B9d64bCd9D1604f', 'transactionIndex': 1, 'type': '0x2', 'v': 1, 'value': 0})\n",
      "AttributeDict({'accessList': [], 'blockHash': HexBytes('0x5d0b5d67b70c0a7eeebf2cfc393df9c9ca4593b6e9a18841d76a34707a8dd39d'), 'blockNumber': 13605708, 'chainId': '0x1', 'from': '0x33Cc820bc02f3105853c4787bC5C420436177819', 'gas': 300000, 'gasPrice': 115080188571, 'hash': HexBytes('0xedd1894f3834dc4c4d966f902fe00e574685155701b6a82333358a8710082c95'), 'input': '0x5c1ac005000000000000000000000000000000000000000000000000000000000000009100000000000000000000000000000000000000000000000059b7500696f6e4000000000000000000000000000000000000000000000001bc163403e480c000000000000000000000000000000000000000000000000000005a926beece70dc0000000000000000000000000000000000000000000000003558dce19228740000000000000000000000000000000000000000000000000000000886c98b760000', 'maxFeePerGas': 235612782798, 'maxPriorityFeePerGas': 0, 'nonce': 119, 'r': HexBytes('0xa632914841e7e3715325d046a910bd616a76794686645f29561435ccfc73fd58'), 's': HexBytes('0x030ef8b5341a7d8264cd3f544d33c17e4a9b04168f5de44a88a54efa49686d63'), 'to': '0xDD56a5C540C68FC348dFa04aE6BC51BD301363a4', 'transactionIndex': 2, 'type': '0x2', 'v': 0, 'value': 0})\n",
      "AttributeDict({'accessList': [], 'blockHash': HexBytes('0x5d0b5d67b70c0a7eeebf2cfc393df9c9ca4593b6e9a18841d76a34707a8dd39d'), 'blockNumber': 13605708, 'chainId': '0x1', 'from': '0xbEd72EbCd350E6AfDEe71A0a9d2271b0519131F1', 'gas': 54083, 'gasPrice': 219000000000, 'hash': HexBytes('0x39fc60436bd390f962bd05e6fc80bcf1105ba3ea2d8f56f01306bf2767ffe753'), 'input': '0x82f8711700000000000000000000000000000000000000000000000000000000000016f800000000000000000000000000000000000000000000000000000000000000400000000000000000000000000000000000000000000000000000000000000041242bff0ef303a87f899812238ccb977f207cd364c132a87217f8bdff1ce3ffb30d484db303146925645e40ccec665daece983a3b1fabd1b9548f450495e8d8b71b00000000000000000000000000000000000000000000000000000000000000', 'maxFeePerGas': 219000000000, 'maxPriorityFeePerGas': 219000000000, 'nonce': 7, 'r': HexBytes('0xe26373e6143abf5e95dddcff9c9e5e5906da396acb5883f600f998513bc5e9d0'), 's': HexBytes('0x139a48350d13c012b3e88a0ab1ee3b5815758c0805f852a8ca3da34ffc6a7aaf'), 'to': '0xF1F3ca6268f330fDa08418db12171c3173eE39C9', 'transactionIndex': 3, 'type': '0x2', 'v': 0, 'value': 0})\n",
      "AttributeDict({'blockHash': HexBytes('0x5d0b5d67b70c0a7eeebf2cfc393df9c9ca4593b6e9a18841d76a34707a8dd39d'), 'blockNumber': 13605708, 'from': '0x843a97185dE92a8FD214eFa8E14bF67e97892342', 'gas': 21000, 'gasPrice': 200000000000, 'hash': HexBytes('0x14bd5dc584e6fdfe7ee4fab7e556b54fdaacea805d99c4add7e8102be9ec41f0'), 'input': '0x', 'nonce': 67, 'r': HexBytes('0xbcbb1516f132cb00d0c2d7f7af8fed8c25b61da88d2d7cb96d2358a034416f60'), 's': HexBytes('0x6149fb5df12cde073cb47cdf1a726971aa2f46f8c3a7523358dfce0c74d6f63a'), 'to': '0x2Eaa82538Bc040E2DF9196208D23b87958A99bB6', 'transactionIndex': 4, 'type': '0x0', 'v': 37, 'value': 100000000000000000})\n",
      "AttributeDict({'blockHash': HexBytes('0x5d0b5d67b70c0a7eeebf2cfc393df9c9ca4593b6e9a18841d76a34707a8dd39d'), 'blockNumber': 13605708, 'from': '0x91aaE0aAfd9D2d730111b395c6871f248d7Bd728', 'gas': 21000, 'gasPrice': 196450471061, 'hash': HexBytes('0xd41961505aab9ed4f921aaaaf08a67be546b0700924c73d747911bcd722c7e5d'), 'input': '0x', 'nonce': 1187, 'r': HexBytes('0x075b1323e5bfda39739c0d186cc997636c04e0d2a7f5ee22b9671cffb4a3a840'), 's': HexBytes('0x7292f82e92b3d6a269a2358949124acc2f536a655643f283330d20b37d13f6e9'), 'to': '0x91aaE0aAfd9D2d730111b395c6871f248d7Bd728', 'transactionIndex': 5, 'type': '0x0', 'v': 37, 'value': 0})\n",
      "AttributeDict({'blockHash': HexBytes('0x5d0b5d67b70c0a7eeebf2cfc393df9c9ca4593b6e9a18841d76a34707a8dd39d'), 'blockNumber': 13605708, 'from': '0x00129A6cD3A9882106123affb4bd7F617Cda3Ea8', 'gas': 21000, 'gasPrice': 187000000000, 'hash': HexBytes('0x08fc75d4e2607e072e10cf608942aa934facefc5ed4f4a85c382ba1f39f75162'), 'input': '0x', 'nonce': 10460, 'r': HexBytes('0xb7cdaab70ebde2b812e217d2b3e5647966dfaec916438626fa7c3745616f475d'), 's': HexBytes('0x5be4c30c925c0c9a34d5d3976de6cf09e9dcecafc73dd6ac8a6880a180e302e9'), 'to': '0x0016C0d0343e8f2c3A7b6A51606B84B1545Ec606', 'transactionIndex': 6, 'type': '0x0', 'v': 37, 'value': 150013608000000000})\n",
      "AttributeDict({'blockHash': HexBytes('0x5d0b5d67b70c0a7eeebf2cfc393df9c9ca4593b6e9a18841d76a34707a8dd39d'), 'blockNumber': 13605708, 'from': '0x43f746D88396DE6547BE1df0A2f3fC6C9EBe1fB5', 'gas': 21000, 'gasPrice': 187000000000, 'hash': HexBytes('0x57c12efbce4ed88ea707ed270e91c9ea625806dd14f7ccd0cb80fafdd45fee41'), 'input': '0x', 'nonce': 25171, 'r': HexBytes('0x3994e113c7b4cee7ffc459325abff561f2662ed4c63bf9750eacf7ae87883a31'), 's': HexBytes('0x5112c9f3ce81225694161625faeab43384f6c7ec334cfd50dc9f972f01bad7b0'), 'to': '0x0016C0d0343e8f2c3A7b6A51606B84B1545Ec606', 'transactionIndex': 7, 'type': '0x0', 'v': 38, 'value': 260687208000000000})\n",
      "AttributeDict({'blockHash': HexBytes('0x5d0b5d67b70c0a7eeebf2cfc393df9c9ca4593b6e9a18841d76a34707a8dd39d'), 'blockNumber': 13605708, 'from': '0x000E20A2eEFA97815F3F5057Fcd8920Acf1Ae0dE', 'gas': 21000, 'gasPrice': 187000000000, 'hash': HexBytes('0xb7635817e78260f552e7d311b84fe46095d453af557f06bb2bfb386d0254d3ec'), 'input': '0x', 'nonce': 10153, 'r': HexBytes('0x84642941ecc6f9acdfcf591b02cf9054e6f38bc00768a76ce1afcf35177bf9ac'), 's': HexBytes('0x6c90a3d2deb6b05cfaf0e894d7e4d26095a2629802fe2987402a472fe6ee0b2e'), 'to': '0x0016C0d0343e8f2c3A7b6A51606B84B1545Ec606', 'transactionIndex': 8, 'type': '0x0', 'v': 37, 'value': 208234344000000000})\n",
      "AttributeDict({'blockHash': HexBytes('0x5d0b5d67b70c0a7eeebf2cfc393df9c9ca4593b6e9a18841d76a34707a8dd39d'), 'blockNumber': 13605708, 'from': '0xcBd103E66d283D98de20B06043C0C6Cd3A3996D8', 'gas': 21000, 'gasPrice': 187000000000, 'hash': HexBytes('0xcb5ddfd006e1f78f5df18f170bcb7bf22b749a0365453ffa29d644a72d380761'), 'input': '0x', 'nonce': 54, 'r': HexBytes('0x88530e378852abb6c8e27ff281b22c2a9aba43a09d0b89c6b1a22b9cd20aa365'), 's': HexBytes('0x77716338cbead6283c7d87016a6a066a1fe261a5d4318cad319f6dd105f17cfb'), 'to': '0x0016C0d0343e8f2c3A7b6A51606B84B1545Ec606', 'transactionIndex': 9, 'type': '0x0', 'v': 37, 'value': 193942555622604366})\n"
     ]
    }
   ],
   "source": [
    "for transaction in latest_block['transactions'][:10]:\n",
    "    print(manager.get_transaction(transaction))"
   ]
  },
  {
   "cell_type": "code",
   "execution_count": 12,
   "metadata": {},
   "outputs": [
    {
     "name": "stdout",
     "output_type": "stream",
     "text": [
      "AttributeDict({'blockHash': HexBytes('0x5d0b5d67b70c0a7eeebf2cfc393df9c9ca4593b6e9a18841d76a34707a8dd39d'), 'blockNumber': 13605708, 'contractAddress': None, 'cumulativeGasUsed': 126669, 'effectiveGasPrice': 147080188571, 'from': '0x7b9d4D8772b8705dDc7456Daf821c3022DDa0504', 'gasUsed': 126669, 'logs': [AttributeDict({'address': '0xC02aaA39b223FE8D0A0e5C4F27eAD9083C756Cc2', 'blockHash': HexBytes('0x5d0b5d67b70c0a7eeebf2cfc393df9c9ca4593b6e9a18841d76a34707a8dd39d'), 'blockNumber': 13605708, 'data': '0x0000000000000000000000000000000000000000000000004042d73770724000', 'logIndex': 0, 'removed': False, 'topics': [HexBytes('0xddf252ad1be2c89b69c2b068fc378daa952ba7f163c4a11628f55a4df523b3ef'), HexBytes('0x00000000000000000000000094c43145d2ae2f99a65ac6efcca9bd73b6da8637'), HexBytes('0x0000000000000000000000009d9681d71142049594020bd863d34d9f48d9df58')], 'transactionHash': HexBytes('0x8d3eb314f05282a00f82eca675c398b5998f807ccdf0044eae6460af7bafe32e'), 'transactionIndex': 0}), AttributeDict({'address': '0xf8E9F10c22840b613cdA05A0c5Fdb59A4d6cd7eF', 'blockHash': HexBytes('0x5d0b5d67b70c0a7eeebf2cfc393df9c9ca4593b6e9a18841d76a34707a8dd39d'), 'blockNumber': 13605708, 'data': '0x000000000000000000000000000000000000000000000c127b276993b07cb244', 'logIndex': 1, 'removed': False, 'topics': [HexBytes('0xddf252ad1be2c89b69c2b068fc378daa952ba7f163c4a11628f55a4df523b3ef'), HexBytes('0x0000000000000000000000009d9681d71142049594020bd863d34d9f48d9df58'), HexBytes('0x00000000000000000000000094c43145d2ae2f99a65ac6efcca9bd73b6da8637')], 'transactionHash': HexBytes('0x8d3eb314f05282a00f82eca675c398b5998f807ccdf0044eae6460af7bafe32e'), 'transactionIndex': 0}), AttributeDict({'address': '0x9d9681d71142049594020bD863D34D9F48d9DF58', 'blockHash': HexBytes('0x5d0b5d67b70c0a7eeebf2cfc393df9c9ca4593b6e9a18841d76a34707a8dd39d'), 'blockNumber': 13605708, 'data': '0x000000000000000000000000000000000000000000000006cc78b5dfb6699d48000000000000000000000000000000000000000000013bd7d454c18a303af1a0', 'logIndex': 2, 'removed': False, 'topics': [HexBytes('0x1c411e9a96e071241c2f21f7726b17ae89e3cab4c78be50e062b03a9fffbbad1')], 'transactionHash': HexBytes('0x8d3eb314f05282a00f82eca675c398b5998f807ccdf0044eae6460af7bafe32e'), 'transactionIndex': 0}), AttributeDict({'address': '0x9d9681d71142049594020bD863D34D9F48d9DF58', 'blockHash': HexBytes('0x5d0b5d67b70c0a7eeebf2cfc393df9c9ca4593b6e9a18841d76a34707a8dd39d'), 'blockNumber': 13605708, 'data': '0x0000000000000000000000000000000000000000000000004042d7377072400000000000000000000000000000000000000000000000000000000000000000000000000000000000000000000000000000000000000000000000000000000000000000000000000000000000000000000000000000000c127b276993b07cb244', 'logIndex': 3, 'removed': False, 'topics': [HexBytes('0xd78ad95fa46c994b6551d0da85fc275fe613ce37657fb8d5e3d130840159d822'), HexBytes('0x00000000000000000000000094c43145d2ae2f99a65ac6efcca9bd73b6da8637'), HexBytes('0x00000000000000000000000094c43145d2ae2f99a65ac6efcca9bd73b6da8637')], 'transactionHash': HexBytes('0x8d3eb314f05282a00f82eca675c398b5998f807ccdf0044eae6460af7bafe32e'), 'transactionIndex': 0})], 'logsBloom': HexBytes('0x00200000000000000000000180000000000200000000000000000000000000000000000000000020000000000000000002000000080000000000000000000000000000000000000000000008000000200000000000000000000000000000000000000000000000000000000000000000000000000000000000000010000000000000000000000000000001000000000000200000000000080000004000000000000000000000000000000000001000000000000000800080000000000000000000000002000000000000000000000000000000000000001000000000000000000000200000000000000000000000000000004000000000040000100000000000'), 'status': 1, 'to': '0x56bb71C3Fb82f3af2cE143DbAeb4A3828Be2c552', 'transactionHash': HexBytes('0x8d3eb314f05282a00f82eca675c398b5998f807ccdf0044eae6460af7bafe32e'), 'transactionIndex': 0, 'type': '0x2'})\n",
      "AttributeDict({'blockHash': HexBytes('0x5d0b5d67b70c0a7eeebf2cfc393df9c9ca4593b6e9a18841d76a34707a8dd39d'), 'blockNumber': 13605708, 'contractAddress': None, 'cumulativeGasUsed': 327707, 'effectiveGasPrice': 225220142841, 'from': '0x1c3ff92523C0656a32f31507ccEb20857Cc80429', 'gasUsed': 201038, 'logs': [AttributeDict({'address': '0xA0b86991c6218b36c1d19D4a2e9Eb0cE3606eB48', 'blockHash': HexBytes('0x5d0b5d67b70c0a7eeebf2cfc393df9c9ca4593b6e9a18841d76a34707a8dd39d'), 'blockNumber': 13605708, 'data': '0x000000000000000000000000000000000000000000000000000000026da7c6bd', 'logIndex': 4, 'removed': False, 'topics': [HexBytes('0xddf252ad1be2c89b69c2b068fc378daa952ba7f163c4a11628f55a4df523b3ef'), HexBytes('0x00000000000000000000000088e6a0c2ddd26feeb64f039a2c41296fcb3f5640'), HexBytes('0x000000000000000000000000a626eb9cc7dec00703586414d0811e1ba2021443')], 'transactionHash': HexBytes('0xc1d8e2a6028636d873e9c90aabfb23d2f6c4044d692251d0537f6d326b8ec3bd'), 'transactionIndex': 1}), AttributeDict({'address': '0xC02aaA39b223FE8D0A0e5C4F27eAD9083C756Cc2', 'blockHash': HexBytes('0x5d0b5d67b70c0a7eeebf2cfc393df9c9ca4593b6e9a18841d76a34707a8dd39d'), 'blockNumber': 13605708, 'data': '0x0000000000000000000000000000000000000000000000001f4fd0ceb3ffffa8', 'logIndex': 5, 'removed': False, 'topics': [HexBytes('0xddf252ad1be2c89b69c2b068fc378daa952ba7f163c4a11628f55a4df523b3ef'), HexBytes('0x0000000000000000000000007cf09d7a9a74f746edcb06949b9d64bcd9d1604f'), HexBytes('0x00000000000000000000000088e6a0c2ddd26feeb64f039a2c41296fcb3f5640')], 'transactionHash': HexBytes('0xc1d8e2a6028636d873e9c90aabfb23d2f6c4044d692251d0537f6d326b8ec3bd'), 'transactionIndex': 1}), AttributeDict({'address': '0x88e6A0c2dDD26FEEb64F039a2c41296FcB3f5640', 'blockHash': HexBytes('0x5d0b5d67b70c0a7eeebf2cfc393df9c9ca4593b6e9a18841d76a34707a8dd39d'), 'blockNumber': 13605708, 'data': '0xfffffffffffffffffffffffffffffffffffffffffffffffffffffffd925839430000000000000000000000000000000000000000000000001f4fd0ceb3ffffa80000000000000000000000000000000000003970892a65fe9675c3ec851b937f000000000000000000000000000000000000000000000001e22dce4894c9faf6000000000000000000000000000000000000000000000000000000000002edb7', 'logIndex': 6, 'removed': False, 'topics': [HexBytes('0xc42079f94a6350d7e6235f29174924f928cc2ac818eb64fed8004e115fbcca67'), HexBytes('0x0000000000000000000000007cf09d7a9a74f746edcb06949b9d64bcd9d1604f'), HexBytes('0x000000000000000000000000a626eb9cc7dec00703586414d0811e1ba2021443')], 'transactionHash': HexBytes('0xc1d8e2a6028636d873e9c90aabfb23d2f6c4044d692251d0537f6d326b8ec3bd'), 'transactionIndex': 1}), AttributeDict({'address': '0xf8E9F10c22840b613cdA05A0c5Fdb59A4d6cd7eF', 'blockHash': HexBytes('0x5d0b5d67b70c0a7eeebf2cfc393df9c9ca4593b6e9a18841d76a34707a8dd39d'), 'blockNumber': 13605708, 'data': '0x0000000000000000000000000000000000000000000005ed1157b917a7a94a2a', 'logIndex': 7, 'removed': False, 'topics': [HexBytes('0xddf252ad1be2c89b69c2b068fc378daa952ba7f163c4a11628f55a4df523b3ef'), HexBytes('0x000000000000000000000000a626eb9cc7dec00703586414d0811e1ba2021443'), HexBytes('0x0000000000000000000000009d9681d71142049594020bd863d34d9f48d9df58')], 'transactionHash': HexBytes('0xc1d8e2a6028636d873e9c90aabfb23d2f6c4044d692251d0537f6d326b8ec3bd'), 'transactionIndex': 1}), AttributeDict({'address': '0xa626EB9cC7Dec00703586414d0811E1ba2021443', 'blockHash': HexBytes('0x5d0b5d67b70c0a7eeebf2cfc393df9c9ca4593b6e9a18841d76a34707a8dd39d'), 'blockNumber': 13605708, 'data': '0x000000000000000000000000000000000000000000000000000004d73e3ef3fb0000000000000000000000000000000000000000000bd35d766c446e3783d358', 'logIndex': 8, 'removed': False, 'topics': [HexBytes('0x1c411e9a96e071241c2f21f7726b17ae89e3cab4c78be50e062b03a9fffbbad1')], 'transactionHash': HexBytes('0xc1d8e2a6028636d873e9c90aabfb23d2f6c4044d692251d0537f6d326b8ec3bd'), 'transactionIndex': 1}), AttributeDict({'address': '0xa626EB9cC7Dec00703586414d0811E1ba2021443', 'blockHash': HexBytes('0x5d0b5d67b70c0a7eeebf2cfc393df9c9ca4593b6e9a18841d76a34707a8dd39d'), 'blockNumber': 13605708, 'data': '0x000000000000000000000000000000000000000000000000000000026da7c6bd000000000000000000000000000000000000000000000000000000000000000000000000000000000000000000000000000000000000000000000000000000000000000000000000000000000000000000000000000005ed1157b917a7a94a2a', 'logIndex': 9, 'removed': False, 'topics': [HexBytes('0xd78ad95fa46c994b6551d0da85fc275fe613ce37657fb8d5e3d130840159d822'), HexBytes('0x0000000000000000000000007cf09d7a9a74f746edcb06949b9d64bcd9d1604f'), HexBytes('0x0000000000000000000000009d9681d71142049594020bd863d34d9f48d9df58')], 'transactionHash': HexBytes('0xc1d8e2a6028636d873e9c90aabfb23d2f6c4044d692251d0537f6d326b8ec3bd'), 'transactionIndex': 1}), AttributeDict({'address': '0xC02aaA39b223FE8D0A0e5C4F27eAD9083C756Cc2', 'blockHash': HexBytes('0x5d0b5d67b70c0a7eeebf2cfc393df9c9ca4593b6e9a18841d76a34707a8dd39d'), 'blockNumber': 13605708, 'data': '0x0000000000000000000000000000000000000000000000001ff5c245077281b9', 'logIndex': 10, 'removed': False, 'topics': [HexBytes('0xddf252ad1be2c89b69c2b068fc378daa952ba7f163c4a11628f55a4df523b3ef'), HexBytes('0x0000000000000000000000009d9681d71142049594020bd863d34d9f48d9df58'), HexBytes('0x0000000000000000000000007cf09d7a9a74f746edcb06949b9d64bcd9d1604f')], 'transactionHash': HexBytes('0xc1d8e2a6028636d873e9c90aabfb23d2f6c4044d692251d0537f6d326b8ec3bd'), 'transactionIndex': 1}), AttributeDict({'address': '0x9d9681d71142049594020bD863D34D9F48d9DF58', 'blockHash': HexBytes('0x5d0b5d67b70c0a7eeebf2cfc393df9c9ca4593b6e9a18841d76a34707a8dd39d'), 'blockNumber': 13605708, 'data': '0x000000000000000000000000000000000000000000000006ac82f39aaef71b8f0000000000000000000000000000000000000000000141c4e5ac7aa1d7e43bca', 'logIndex': 11, 'removed': False, 'topics': [HexBytes('0x1c411e9a96e071241c2f21f7726b17ae89e3cab4c78be50e062b03a9fffbbad1')], 'transactionHash': HexBytes('0xc1d8e2a6028636d873e9c90aabfb23d2f6c4044d692251d0537f6d326b8ec3bd'), 'transactionIndex': 1}), AttributeDict({'address': '0x9d9681d71142049594020bD863D34D9F48d9DF58', 'blockHash': HexBytes('0x5d0b5d67b70c0a7eeebf2cfc393df9c9ca4593b6e9a18841d76a34707a8dd39d'), 'blockNumber': 13605708, 'data': '0x00000000000000000000000000000000000000000000000000000000000000000000000000000000000000000000000000000000000005ed1157b917a7a94a2a0000000000000000000000000000000000000000000000001ff5c245077281b90000000000000000000000000000000000000000000000000000000000000000', 'logIndex': 12, 'removed': False, 'topics': [HexBytes('0xd78ad95fa46c994b6551d0da85fc275fe613ce37657fb8d5e3d130840159d822'), HexBytes('0x0000000000000000000000007cf09d7a9a74f746edcb06949b9d64bcd9d1604f'), HexBytes('0x0000000000000000000000007cf09d7a9a74f746edcb06949b9d64bcd9d1604f')], 'transactionHash': HexBytes('0xc1d8e2a6028636d873e9c90aabfb23d2f6c4044d692251d0537f6d326b8ec3bd'), 'transactionIndex': 1})], 'logsBloom': HexBytes('0x00200000810000000000000180000000000200008000000000000000040000000000000200000000000008000004000002000000080020000008000000000000000000000000000808000008000000200000000000000000000000000000000000040000000000000000000000000000000000000000000000000010000800000000000000000000200001000000000000200000010000080000004000000000000000000000200000000000001000000000000000800080002000000008000000000002000000000000000000000000000000000000001000000000000000000000200000080000000010000000000000000000000400000000100000000000'), 'status': 1, 'to': '0x7Cf09D7A9A74f746EDcb06949B9d64bCd9D1604f', 'transactionHash': HexBytes('0xc1d8e2a6028636d873e9c90aabfb23d2f6c4044d692251d0537f6d326b8ec3bd'), 'transactionIndex': 1, 'type': '0x2'})\n"
     ]
    },
    {
     "name": "stdout",
     "output_type": "stream",
     "text": [
      "AttributeDict({'blockHash': HexBytes('0x5d0b5d67b70c0a7eeebf2cfc393df9c9ca4593b6e9a18841d76a34707a8dd39d'), 'blockNumber': 13605708, 'contractAddress': None, 'cumulativeGasUsed': 436435, 'effectiveGasPrice': 115080188571, 'from': '0x33Cc820bc02f3105853c4787bC5C420436177819', 'gasUsed': 108728, 'logs': [AttributeDict({'address': '0x0F5D2fB29fb7d3CFeE444a200298f468908cC942', 'blockHash': HexBytes('0x5d0b5d67b70c0a7eeebf2cfc393df9c9ca4593b6e9a18841d76a34707a8dd39d'), 'blockNumber': 13605708, 'data': '0x0000000000000000000000000000000000000000000001bc163403e480c00000', 'logIndex': 13, 'removed': False, 'topics': [HexBytes('0xddf252ad1be2c89b69c2b068fc378daa952ba7f163c4a11628f55a4df523b3ef'), HexBytes('0x000000000000000000000000dd56a5c540c68fc348dfa04ae6bc51bd301363a4'), HexBytes('0x00000000000000000000000011b1f53204d03e5529f09eb3091939e4fd8c9cf3')], 'transactionHash': HexBytes('0xedd1894f3834dc4c4d966f902fe00e574685155701b6a82333358a8710082c95'), 'transactionIndex': 2}), AttributeDict({'address': '0xC02aaA39b223FE8D0A0e5C4F27eAD9083C756Cc2', 'blockHash': HexBytes('0x5d0b5d67b70c0a7eeebf2cfc393df9c9ca4593b6e9a18841d76a34707a8dd39d'), 'blockNumber': 13605708, 'data': '0x00000000000000000000000000000000000000000000000059b7500696f6e400', 'logIndex': 14, 'removed': False, 'topics': [HexBytes('0xddf252ad1be2c89b69c2b068fc378daa952ba7f163c4a11628f55a4df523b3ef'), HexBytes('0x00000000000000000000000011b1f53204d03e5529f09eb3091939e4fd8c9cf3'), HexBytes('0x000000000000000000000000dd56a5c540c68fc348dfa04ae6bc51bd301363a4')], 'transactionHash': HexBytes('0xedd1894f3834dc4c4d966f902fe00e574685155701b6a82333358a8710082c95'), 'transactionIndex': 2}), AttributeDict({'address': '0x11b1f53204d03E5529F09EB3091939e4Fd8c9CF3', 'blockHash': HexBytes('0x5d0b5d67b70c0a7eeebf2cfc393df9c9ca4593b6e9a18841d76a34707a8dd39d'), 'blockNumber': 13605708, 'data': '0x00000000000000000000000000000000000000000001074d8e9675042f511d150000000000000000000000000000000000000000000000350083381cc668afb7', 'logIndex': 15, 'removed': False, 'topics': [HexBytes('0x1c411e9a96e071241c2f21f7726b17ae89e3cab4c78be50e062b03a9fffbbad1')], 'transactionHash': HexBytes('0xedd1894f3834dc4c4d966f902fe00e574685155701b6a82333358a8710082c95'), 'transactionIndex': 2}), AttributeDict({'address': '0x11b1f53204d03E5529F09EB3091939e4Fd8c9CF3', 'blockHash': HexBytes('0x5d0b5d67b70c0a7eeebf2cfc393df9c9ca4593b6e9a18841d76a34707a8dd39d'), 'blockNumber': 13605708, 'data': '0x0000000000000000000000000000000000000000000001bc163403e480c000000000000000000000000000000000000000000000000000000000000000000000000000000000000000000000000000000000000000000000000000000000000000000000000000000000000000000000000000000000000059b7500696f6e400', 'logIndex': 16, 'removed': False, 'topics': [HexBytes('0xd78ad95fa46c994b6551d0da85fc275fe613ce37657fb8d5e3d130840159d822'), HexBytes('0x000000000000000000000000dd56a5c540c68fc348dfa04ae6bc51bd301363a4'), HexBytes('0x000000000000000000000000dd56a5c540c68fc348dfa04ae6bc51bd301363a4')], 'transactionHash': HexBytes('0xedd1894f3834dc4c4d966f902fe00e574685155701b6a82333358a8710082c95'), 'transactionIndex': 2})], 'logsBloom': HexBytes('0x00300000000000000008000080000000000000000000000000000000000000000020000000000000000000000000000002002000080080000000000000000000000000000000000000000008000000200000000000000010000000000000000000000000000000000000008000000100000000000000000000000010000000000000000000000080000000000000000000000000000000080000004000000000000000000000000000000000000000000000000000000000000000000000004000000002000000000000000000000000000000001000001000000000000000000000200000000000000000000000008000000000000000000000000000000000'), 'status': 1, 'to': '0xDD56a5C540C68FC348dFa04aE6BC51BD301363a4', 'transactionHash': HexBytes('0xedd1894f3834dc4c4d966f902fe00e574685155701b6a82333358a8710082c95'), 'transactionIndex': 2, 'type': '0x2'})\n",
      "AttributeDict({'blockHash': HexBytes('0x5d0b5d67b70c0a7eeebf2cfc393df9c9ca4593b6e9a18841d76a34707a8dd39d'), 'blockNumber': 13605708, 'contractAddress': None, 'cumulativeGasUsed': 485601, 'effectiveGasPrice': 219000000000, 'from': '0xbEd72EbCd350E6AfDEe71A0a9d2271b0519131F1', 'gasUsed': 49166, 'logs': [AttributeDict({'address': '0xF1F3ca6268f330fDa08418db12171c3173eE39C9', 'blockHash': HexBytes('0x5d0b5d67b70c0a7eeebf2cfc393df9c9ca4593b6e9a18841d76a34707a8dd39d'), 'blockNumber': 13605708, 'data': '0x00000000000000000000000000000000000000000000000000000000000016f80000000000000000000000000000000000000000000000000000000000000002', 'logIndex': 17, 'removed': False, 'topics': [HexBytes('0x84dfc8ca06308fffaa4f1db726d14912516138f571803591e31f6e861115fabe'), HexBytes('0x000000000000000000000000bed72ebcd350e6afdee71a0a9d2271b0519131f1')], 'transactionHash': HexBytes('0x39fc60436bd390f962bd05e6fc80bcf1105ba3ea2d8f56f01306bf2767ffe753'), 'transactionIndex': 3})], 'logsBloom': HexBytes('0x00000000000000000000000000000000000000000000000000000000000000000000000000000000000000800000000000000000000000000040000000000000000000000000000000000000000000000000000000000000000000000000000000000000008000000000000000000000000008000000000000000000000000000000000000000000000000000000000000000000000000000000000000000000000000000000000000000000000000000000000000000000000000000008000000000000000000000000000000000000000080000000000000000000000000000000000000000100200000000000000200000000000000000000000000000000'), 'status': 1, 'to': '0xF1F3ca6268f330fDa08418db12171c3173eE39C9', 'transactionHash': HexBytes('0x39fc60436bd390f962bd05e6fc80bcf1105ba3ea2d8f56f01306bf2767ffe753'), 'transactionIndex': 3, 'type': '0x2'})\n",
      "AttributeDict({'blockHash': HexBytes('0x5d0b5d67b70c0a7eeebf2cfc393df9c9ca4593b6e9a18841d76a34707a8dd39d'), 'blockNumber': 13605708, 'contractAddress': None, 'cumulativeGasUsed': 506601, 'effectiveGasPrice': 200000000000, 'from': '0x843a97185dE92a8FD214eFa8E14bF67e97892342', 'gasUsed': 21000, 'logs': [], 'logsBloom': HexBytes('0x00000000000000000000000000000000000000000000000000000000000000000000000000000000000000000000000000000000000000000000000000000000000000000000000000000000000000000000000000000000000000000000000000000000000000000000000000000000000000000000000000000000000000000000000000000000000000000000000000000000000000000000000000000000000000000000000000000000000000000000000000000000000000000000000000000000000000000000000000000000000000000000000000000000000000000000000000000000000000000000000000000000000000000000000000000000'), 'status': 1, 'to': '0x2Eaa82538Bc040E2DF9196208D23b87958A99bB6', 'transactionHash': HexBytes('0x14bd5dc584e6fdfe7ee4fab7e556b54fdaacea805d99c4add7e8102be9ec41f0'), 'transactionIndex': 4, 'type': '0x0'})\n",
      "AttributeDict({'blockHash': HexBytes('0x5d0b5d67b70c0a7eeebf2cfc393df9c9ca4593b6e9a18841d76a34707a8dd39d'), 'blockNumber': 13605708, 'contractAddress': None, 'cumulativeGasUsed': 527601, 'effectiveGasPrice': 196450471061, 'from': '0x91aaE0aAfd9D2d730111b395c6871f248d7Bd728', 'gasUsed': 21000, 'logs': [], 'logsBloom': HexBytes('0x00000000000000000000000000000000000000000000000000000000000000000000000000000000000000000000000000000000000000000000000000000000000000000000000000000000000000000000000000000000000000000000000000000000000000000000000000000000000000000000000000000000000000000000000000000000000000000000000000000000000000000000000000000000000000000000000000000000000000000000000000000000000000000000000000000000000000000000000000000000000000000000000000000000000000000000000000000000000000000000000000000000000000000000000000000000'), 'status': 1, 'to': '0x91aaE0aAfd9D2d730111b395c6871f248d7Bd728', 'transactionHash': HexBytes('0xd41961505aab9ed4f921aaaaf08a67be546b0700924c73d747911bcd722c7e5d'), 'transactionIndex': 5, 'type': '0x0'})\n",
      "AttributeDict({'blockHash': HexBytes('0x5d0b5d67b70c0a7eeebf2cfc393df9c9ca4593b6e9a18841d76a34707a8dd39d'), 'blockNumber': 13605708, 'contractAddress': None, 'cumulativeGasUsed': 548601, 'effectiveGasPrice': 187000000000, 'from': '0x00129A6cD3A9882106123affb4bd7F617Cda3Ea8', 'gasUsed': 21000, 'logs': [], 'logsBloom': HexBytes('0x00000000000000000000000000000000000000000000000000000000000000000000000000000000000000000000000000000000000000000000000000000000000000000000000000000000000000000000000000000000000000000000000000000000000000000000000000000000000000000000000000000000000000000000000000000000000000000000000000000000000000000000000000000000000000000000000000000000000000000000000000000000000000000000000000000000000000000000000000000000000000000000000000000000000000000000000000000000000000000000000000000000000000000000000000000000'), 'status': 1, 'to': '0x0016C0d0343e8f2c3A7b6A51606B84B1545Ec606', 'transactionHash': HexBytes('0x08fc75d4e2607e072e10cf608942aa934facefc5ed4f4a85c382ba1f39f75162'), 'transactionIndex': 6, 'type': '0x0'})\n"
     ]
    },
    {
     "name": "stdout",
     "output_type": "stream",
     "text": [
      "AttributeDict({'blockHash': HexBytes('0x5d0b5d67b70c0a7eeebf2cfc393df9c9ca4593b6e9a18841d76a34707a8dd39d'), 'blockNumber': 13605708, 'contractAddress': None, 'cumulativeGasUsed': 569601, 'effectiveGasPrice': 187000000000, 'from': '0x43f746D88396DE6547BE1df0A2f3fC6C9EBe1fB5', 'gasUsed': 21000, 'logs': [], 'logsBloom': HexBytes('0x00000000000000000000000000000000000000000000000000000000000000000000000000000000000000000000000000000000000000000000000000000000000000000000000000000000000000000000000000000000000000000000000000000000000000000000000000000000000000000000000000000000000000000000000000000000000000000000000000000000000000000000000000000000000000000000000000000000000000000000000000000000000000000000000000000000000000000000000000000000000000000000000000000000000000000000000000000000000000000000000000000000000000000000000000000000'), 'status': 1, 'to': '0x0016C0d0343e8f2c3A7b6A51606B84B1545Ec606', 'transactionHash': HexBytes('0x57c12efbce4ed88ea707ed270e91c9ea625806dd14f7ccd0cb80fafdd45fee41'), 'transactionIndex': 7, 'type': '0x0'})\n",
      "AttributeDict({'blockHash': HexBytes('0x5d0b5d67b70c0a7eeebf2cfc393df9c9ca4593b6e9a18841d76a34707a8dd39d'), 'blockNumber': 13605708, 'contractAddress': None, 'cumulativeGasUsed': 590601, 'effectiveGasPrice': 187000000000, 'from': '0x000E20A2eEFA97815F3F5057Fcd8920Acf1Ae0dE', 'gasUsed': 21000, 'logs': [], 'logsBloom': HexBytes('0x00000000000000000000000000000000000000000000000000000000000000000000000000000000000000000000000000000000000000000000000000000000000000000000000000000000000000000000000000000000000000000000000000000000000000000000000000000000000000000000000000000000000000000000000000000000000000000000000000000000000000000000000000000000000000000000000000000000000000000000000000000000000000000000000000000000000000000000000000000000000000000000000000000000000000000000000000000000000000000000000000000000000000000000000000000000'), 'status': 1, 'to': '0x0016C0d0343e8f2c3A7b6A51606B84B1545Ec606', 'transactionHash': HexBytes('0xb7635817e78260f552e7d311b84fe46095d453af557f06bb2bfb386d0254d3ec'), 'transactionIndex': 8, 'type': '0x0'})\n",
      "AttributeDict({'blockHash': HexBytes('0x5d0b5d67b70c0a7eeebf2cfc393df9c9ca4593b6e9a18841d76a34707a8dd39d'), 'blockNumber': 13605708, 'contractAddress': None, 'cumulativeGasUsed': 611601, 'effectiveGasPrice': 187000000000, 'from': '0xcBd103E66d283D98de20B06043C0C6Cd3A3996D8', 'gasUsed': 21000, 'logs': [], 'logsBloom': HexBytes('0x00000000000000000000000000000000000000000000000000000000000000000000000000000000000000000000000000000000000000000000000000000000000000000000000000000000000000000000000000000000000000000000000000000000000000000000000000000000000000000000000000000000000000000000000000000000000000000000000000000000000000000000000000000000000000000000000000000000000000000000000000000000000000000000000000000000000000000000000000000000000000000000000000000000000000000000000000000000000000000000000000000000000000000000000000000000'), 'status': 1, 'to': '0x0016C0d0343e8f2c3A7b6A51606B84B1545Ec606', 'transactionHash': HexBytes('0xcb5ddfd006e1f78f5df18f170bcb7bf22b749a0365453ffa29d644a72d380761'), 'transactionIndex': 9, 'type': '0x0'})\n"
     ]
    }
   ],
   "source": [
    "for transaction in latest_block['transactions'][:10]:\n",
    "    print(manager.get_transaction_receipt(transaction))"
   ]
  },
  {
   "cell_type": "code",
   "execution_count": null,
   "metadata": {},
   "outputs": [],
   "source": []
  }
 ],
 "metadata": {
  "kernelspec": {
   "display_name": "Python 3",
   "language": "python",
   "name": "python3"
  },
  "language_info": {
   "codemirror_mode": {
    "name": "ipython",
    "version": 3
   },
   "file_extension": ".py",
   "mimetype": "text/x-python",
   "name": "python",
   "nbconvert_exporter": "python",
   "pygments_lexer": "ipython3",
   "version": "3.8.3"
  }
 },
 "nbformat": 4,
 "nbformat_minor": 4
}
