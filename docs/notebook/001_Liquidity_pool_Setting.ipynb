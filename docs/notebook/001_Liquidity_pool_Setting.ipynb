{
 "cells": [
  {
   "cell_type": "markdown",
   "metadata": {},
   "source": [
    "# Dex 구성하기 [1] 유동성 풀 구성하기\n",
    "\n",
    "----\n",
    "\n",
    "* **DATE** : 2021.11.06\n",
    "* **AUTHOR** : Kang Sang Jae\n",
    "* **Reference** : [Arxiv Paper](https://arxiv.org/pdf/2103.12732.pdf)"
   ]
  },
  {
   "cell_type": "markdown",
   "metadata": {},
   "source": [
    "## DEX(Decentralized Exchanges)\n",
    "\n",
    "![](https://imgur.com/59bo6nZ.png)\n",
    "\n",
    "기존 중앙화된 금융시장에서는 환전하거나, 주식을 사려면 꼭 은행이나 증권 거래소 같은 중개 시스템을 이용해야만 했습니다. 이러다 보니 모든 금융 정보는 금융 시장 중개인 시스템이 독점하게 되고, 그들이 지정한 수수료에 따라 금융 소비자들은 돈을 내야 했습니다. \n",
    "\n",
    "\n",
    "DeFI의 목표는 **블록체인 시스템** 아래에서 은행, PG, 펀드, 증권 등의 중개자 없이 Peer to Peer로 금융 거래가 이루어지도록 만드는 것입니다. 이 중 암호화폐를 Peer to Peer로 교환할 수 있도록 만들어주는 시스템이 바로 **DEX(Decentrialized Exchange)**입니다."
   ]
  },
  {
   "cell_type": "markdown",
   "metadata": {},
   "source": [
    "---"
   ]
  },
  {
   "cell_type": "markdown",
   "metadata": {},
   "source": [
    "## DEX 의 참여자들\n",
    "\n",
    "![](https://imgur.com/5okhKmb.png)\n"
   ]
  },
  {
   "cell_type": "markdown",
   "metadata": {},
   "source": [
    "DEX의 참여자는 둘 중 하나이다. \n",
    "\n",
    "* **유동성 공급자(Liquidity Provider, LP)** : 돈을 바꾸어 주는 사람\n",
    "* **거래 수요자 (Exchange User, trader)** : 돈을 바꾸길 희망하는 사람\n",
    "\n",
    "Trader들은 시장 내에서 좀 더 싸게 자신이 원하는 토큰을 구매하길 희망하는 사람들이고, <br>\n",
    "LP는 거래 수요자들에게 토큰을 교환해줌으로써 일정 부분 수수료를 수취하는 사람이다. \n",
    "\n",
    "LP의 입장에서 우선 살펴 보자. <br>\n",
    "**시장 내 가치 비율과 동일하게** 두 토큰을 SWAP만 해줄 수 있다면, 자신은 **손해 없이** 수수료만 수취함으로써 이익을 누릴 수 있을 것이다. <br>\n",
    "시장 내 가치 비율과 동일하게만 구성할 수 있다면, 유동성 공급자 입장에서는 SWAP이 많이 발생할수록 유리한 상황이다. \n",
    "\n",
    "그렇다면 LP의 입장에서는 어떻게 자신의 토큰을 구성했을 때, 최대 이익을 누릴 수 있을까?\n"
   ]
  },
  {
   "cell_type": "markdown",
   "metadata": {},
   "source": [
    "----"
   ]
  },
  {
   "cell_type": "markdown",
   "metadata": {},
   "source": [
    "## 풀을 구성하는 기준\n",
    "\n",
    "두 토큰 $X$, $Y$가 있다고 해보자. 교환 요청은 $ X \\rightarrow Y$의 방향 (X를 받아서, Y를 줌)으로 이루어질수도 있고, $Y \\rightarrow X$의 방향 (Y를 받아서, X를 줌)으로 이루어질 수도 있다. \n",
    "<br>\n",
    "유동성 공급자의 입장에서는, Trader들이 $ X \\rightarrow Y$을 요청할지, $ Y \\rightarrow X$을 요청할지 모르는 상황이다. \n",
    "그렇기 때문에 유동성 공급자는 두 토큰을 모두 보유하고 있어야 SWAP 요청에 따라 처리가 가능하다. \n",
    "<br>"
   ]
  },
  {
   "cell_type": "markdown",
   "metadata": {},
   "source": [
    "한번 상황을 가정해보자. 현재 바이낸스에서 X라는 코인이 20달러에 거래되고 있고, Y라는 코인이 10달러에 거래되고 있다고 해보자. \n",
    "\n",
    "$$\n",
    "P_x = 20$ \\\\\n",
    "P_y = 10$ \n",
    "$$\n",
    "\n",
    "그리고 LP로 참여하기 희망하는 사람이 400만 달러를 보유하고 있다고 해보자. 그러면 각 토큰을 얼마씩 사는게 좋을까?\n",
    "\n",
    "1. 토큰 X에 100만 달러 구매, 토큰 Y에 300만 달러 구매\n",
    "2. 토큰 X에 200만 달러 구매, 토큰 Y에 200만 달러 구매\n",
    "3. 토큰 X에 300만 달러 구매, 토큰 Y에 100만 달러 구매 \n"
   ]
  },
  {
   "cell_type": "markdown",
   "metadata": {},
   "source": [
    "LP의 입장에서는 2번이 가장 균형 상태이다 왜냐하면, 1번의 경우에는 $X->Y$의 요청은 100만 달러밖에 처리 못하고, 3번의 경우에는 $Y->X$의 요청이 100만 달러 밖에 처리 못하기 때문이다.\n",
    "\n",
    "$X->Y$ 방향의 SWAP 요청이 150만 달러로 발생할 경우, 1번은 50만 달러만큼의 거래량을 잃어버리게 되고, 거꾸로 $Y->X$ 방향의 SWAP 요청이 150만 달러 발생할 경우, 3번도 50만 달러만큼의 거래량을 잃어버리게 되기 때문이다."
   ]
  },
  {
   "cell_type": "markdown",
   "metadata": {},
   "source": [
    "즉 두 토큰에 대한 투자는 동일할 때, SWAP 효율이 가장 우수하다. 각 토큰에 대한 투자 가치는 결국 각 토큰의 가격($P_x$)과 토큰의 공급량($S_x$)으로 구성된다. \n",
    "\n",
    "$$\n",
    "V_x = P_x \\cdot S_x \\\\\n",
    "V_y = P_y \\cdot S_y\n",
    "$$"
   ]
  },
  {
   "cell_type": "markdown",
   "metadata": {},
   "source": [
    "LP의 입장에서 $S_x$와 $S_y$의 비율은 두 토큰의 가치 총합이 $V_x = V_y$ 만족하도록 구성하면 된다.\n",
    "\n",
    "$\n",
    "\\because V_x = V_y \\\\\n",
    "P_x \\cdot S_x = P_y \\cdot S_y \\\\\n",
    "S_x = \\frac{P_y}{P_x} \\cdot S_y\n",
    "$"
   ]
  },
  {
   "cell_type": "markdown",
   "metadata": {},
   "source": [
    "위의 케이스에서 토큰 X의 가격이 20달러이고, 토큰 Y의 가격이 10달러로 구성되어 있다면, 토큰 X의 공급량과 토큰 Y의 공급량은 **가격에 반비례하게** 1:2의 구성으로 두어야 한다."
   ]
  },
  {
   "cell_type": "markdown",
   "metadata": {},
   "source": [
    "----"
   ]
  },
  {
   "cell_type": "markdown",
   "metadata": {},
   "source": [
    "### 실제 풀의 사례 확인해보기\n",
    "\n",
    "* reference [info.uniswap](https://v2.info.uniswap.org/pair/0x21b8065d10f73ee2e260e5b47d3344d3ced7596e)\n",
    "\n",
    "![](https://imgur.com/pmnaHdC.png)\n",
    "\n",
    "\n",
    "\n",
    "![](https://imgur.com/k6Hd02l.png)"
   ]
  },
  {
   "cell_type": "markdown",
   "metadata": {},
   "source": [
    "실제로 유니스왑에 WISE토큰과 ETH토큰의 비율을 한번 보자. "
   ]
  },
  {
   "cell_type": "code",
   "execution_count": 1,
   "metadata": {},
   "outputs": [],
   "source": [
    "# 풀 내의 WISE 토큰 공급량\n",
    "supply_WISE = 320_211_182\n",
    "# 풀 내의 ETH 토큰 공급량\n",
    "supply_ETH = 46_335\n",
    "\n",
    "# 거래소 WISE 토큰 가격\n",
    "price_WISE = 0.650700\n",
    "# 거래소 ETH 토큰 가격\n",
    "price_ETH = 4_476.21"
   ]
  },
  {
   "cell_type": "code",
   "execution_count": 5,
   "metadata": {},
   "outputs": [],
   "source": [
    "# 풀 내 WISE 토큰의 총합\n",
    "value_WISE = supply_WISE * price_WISE\n",
    "\n",
    "# 풀 내의 ETH 토큰의 총합\n",
    "value_ETH = supply_ETH * price_ETH"
   ]
  },
  {
   "cell_type": "code",
   "execution_count": 3,
   "metadata": {},
   "outputs": [
    {
     "data": {
      "text/plain": [
       "208361416.12739998"
      ]
     },
     "execution_count": 3,
     "metadata": {},
     "output_type": "execute_result"
    }
   ],
   "source": [
    "value_WISE"
   ]
  },
  {
   "cell_type": "code",
   "execution_count": 4,
   "metadata": {},
   "outputs": [
    {
     "data": {
      "text/plain": [
       "207405190.35"
      ]
     },
     "execution_count": 4,
     "metadata": {},
     "output_type": "execute_result"
    }
   ],
   "source": [
    "value_ETH"
   ]
  },
  {
   "cell_type": "markdown",
   "metadata": {},
   "source": [
    "현재 풀 내에 있는 두 토큰의 가치 총합은 거의 비슷하게 유지되고 있는 것을 확인할 수 있다."
   ]
  },
  {
   "cell_type": "markdown",
   "metadata": {},
   "source": [
    "----\n",
    "\n",
    "*Copyright 2021.11 M3O1(Kang Sang Jae) all rights reserved.*"
   ]
  }
 ],
 "metadata": {
  "kernelspec": {
   "display_name": "Python 3",
   "language": "python",
   "name": "python3"
  },
  "language_info": {
   "codemirror_mode": {
    "name": "ipython",
    "version": 3
   },
   "file_extension": ".py",
   "mimetype": "text/x-python",
   "name": "python",
   "nbconvert_exporter": "python",
   "pygments_lexer": "ipython3",
   "version": "3.8.3"
  }
 },
 "nbformat": 4,
 "nbformat_minor": 4
}
