{
 "cells": [
  {
   "cell_type": "markdown",
   "metadata": {},
   "source": [
    "# Ethereum MainNet 블록을 Big-Query로 탐색하기\n",
    "\n",
    "----\n",
    "\n",
    "* **DATE** : 2021.11.12\n",
    "* **AUTHOR** : Kang Sang Jae\n",
    "* **Reference** : \n",
    "\n",
    "    * [Full relational diagram for Ethereum public data on Google BigQuery](https://medium.com/google-cloud/full-relational-diagram-for-ethereum-public-data-on-google-bigquery-2825fdf0fb0b)\n",
    "    * [SQL On Ethereum: How To Work With All the Data From a Transaction](https://towardsdatascience.com/sql-on-ethereum-how-to-work-with-all-the-data-from-a-transaction-103f94f902e5)\n",
    "    * [What is crypto data](https://towardsdatascience.com/what-is-crypto-data-fef70ecadf7b)\n",
    "    * [Unlocking the Secrets of an Ethereum Transaction](https://medium.com/coinmonks/discovering-the-secrets-of-an-ethereum-transaction-64febb00935c)\n",
    "    * [Decoding Ethereum smart contract data](https://towardsdatascience.com/decoding-ethereum-smart-contract-data-eed513a65f76)\n",
    "    * [The data behind the NFT hype](https://towardsdatascience.com/the-data-behind-the-nft-hype-32f6f92c27cb)\n",
    "    * [Understanding event logs on the Ethereum blockchain](https://medium.com/mycrypto/understanding-event-logs-on-the-ethereum-blockchain-f4ae7ba50378)"
   ]
  },
  {
   "cell_type": "code",
   "execution_count": 1,
   "metadata": {},
   "outputs": [],
   "source": [
    "%matplotlib inline\n",
    "import os\n",
    "import json\n",
    "import requests\n",
    "from functools import lru_cache\n",
    "from web3 import Web3\n",
    "import pandas as pd\n",
    "import matplotlib.pyplot as plt\n",
    "import eth_utils\n",
    "\n",
    "# GCP 인증서 다운 받기\n",
    "os.environ['GOOGLE_APPLICATION_CREDENTIALS'] = (\n",
    "    os.path.abspath(\"../keys/gcp.json\"))\n",
    "\n",
    "# Infura Key file\n",
    "KEY_DICT = json.load(open(\"../keys/infura.json\",'r'))\n",
    "\n",
    "project_id = KEY_DICT['projectId']\n",
    "\n",
    "ETHERSCAN_DICT = json.load(open(\"../keys/etherscan.json\"))"
   ]
  },
  {
   "cell_type": "code",
   "execution_count": 2,
   "metadata": {},
   "outputs": [],
   "source": [
    "@lru_cache(maxsize=1024)\n",
    "def get_abi(contract_address):\n",
    "    apiKey = ETHERSCAN_DICT['apiKey']\n",
    "    return requests.get(f\"https://api.etherscan.io/api?apiKey={apiKey}&module=contract&action=getabi&address={contract_address}\").json()"
   ]
  },
  {
   "cell_type": "code",
   "execution_count": 3,
   "metadata": {},
   "outputs": [],
   "source": [
    "%load_ext google.cloud.bigquery"
   ]
  },
  {
   "cell_type": "markdown",
   "metadata": {},
   "source": [
    "## 1.  SWAP의 대상이 되는 토큰 살펴보기"
   ]
  },
  {
   "cell_type": "markdown",
   "metadata": {},
   "source": [
    "**1.1 현재 시장 내에 있는 `ERC-20` Token 리스트를 가져오기**\n",
    "\n",
    "````\n",
    "Token data. Data is exported using https://github.com/medvedev1088/ethereum-etl\n",
    "````\n",
    "\n",
    "\n",
    "| Field name | Type | Mode | Description |\n",
    "| --- | --- | --- | --- |\n",
    "| address | STRING | REQUIRED | The address of the ERC20 token | \n",
    "| symbol | STRING | NULLABLE | The symbol of the ERC20 token | \n",
    "| name | STRING | NULLABLE | The name of the ERC20 token | \n",
    "| decimals | STRING | NULLABLE | The number of decimals the token uses. | Use safe_cast for casting to NUMERIC or FLOAT64 | \n",
    "| total_supply | STRING | NULLABLE | The total token supply. Use safe_cast for casting to NUMERIC or FLOAT64 | \n",
    "| block_timestamp | TIMESTAMP | REQUIRED | Timestamp of the block where | this token was created | \n",
    "| block_number | INTEGER | REQUIRED | Block number where this token was created | \n",
    "| block_hash | STRING | REQUIRED | Hash of the block where this token was created"
   ]
  },
  {
   "cell_type": "code",
   "execution_count": 4,
   "metadata": {},
   "outputs": [
    {
     "name": "stderr",
     "output_type": "stream",
     "text": [
      "Query complete after 0.04s: 100%|██████████| 2/2 [00:00<00:00, 1018.28query/s]                        \n",
      "Downloading: 100%|██████████| 207353/207353 [00:10<00:00, 19537.05rows/s]\n"
     ]
    }
   ],
   "source": [
    "%%bigquery token_df\n",
    "\n",
    "SELECT * \n",
    "FROM `bigquery-public-data.crypto_ethereum.tokens`;"
   ]
  },
  {
   "cell_type": "code",
   "execution_count": 5,
   "metadata": {},
   "outputs": [
    {
     "data": {
      "text/html": [
       "<div>\n",
       "<style scoped>\n",
       "    .dataframe tbody tr th:only-of-type {\n",
       "        vertical-align: middle;\n",
       "    }\n",
       "\n",
       "    .dataframe tbody tr th {\n",
       "        vertical-align: top;\n",
       "    }\n",
       "\n",
       "    .dataframe thead th {\n",
       "        text-align: right;\n",
       "    }\n",
       "</style>\n",
       "<table border=\"1\" class=\"dataframe\">\n",
       "  <thead>\n",
       "    <tr style=\"text-align: right;\">\n",
       "      <th></th>\n",
       "      <th>address</th>\n",
       "      <th>symbol</th>\n",
       "      <th>name</th>\n",
       "      <th>decimals</th>\n",
       "      <th>total_supply</th>\n",
       "      <th>block_timestamp</th>\n",
       "      <th>block_number</th>\n",
       "      <th>block_hash</th>\n",
       "    </tr>\n",
       "  </thead>\n",
       "  <tbody>\n",
       "    <tr>\n",
       "      <th>0</th>\n",
       "      <td>0x54994ba4b4a42297b3b88e27185cde1f51dca288</td>\n",
       "      <td>Alia</td>\n",
       "      <td>Xanalia</td>\n",
       "      <td>None</td>\n",
       "      <td>0</td>\n",
       "      <td>2021-11-12 07:02:07+00:00</td>\n",
       "      <td>13599860</td>\n",
       "      <td>0x35e88b97eb3a4091fa850e273b127eb444186a3a716b...</td>\n",
       "    </tr>\n",
       "    <tr>\n",
       "      <th>1</th>\n",
       "      <td>0xf2693018f665b3d30cafacb1d5407b997c9ce432</td>\n",
       "      <td>MAMI</td>\n",
       "      <td>Malaysian Asset Marry Investment</td>\n",
       "      <td>18</td>\n",
       "      <td>0</td>\n",
       "      <td>2021-11-12 09:53:56+00:00</td>\n",
       "      <td>13600633</td>\n",
       "      <td>0x01a2c7cf35f4cb134c2023e927d0465fa662f0adf919...</td>\n",
       "    </tr>\n",
       "    <tr>\n",
       "      <th>2</th>\n",
       "      <td>0xfc1d7291ce8e8e081fba1731850f7ece65cf7bfe</td>\n",
       "      <td>GAN</td>\n",
       "      <td>GanCoin</td>\n",
       "      <td>4</td>\n",
       "      <td>1000000000000</td>\n",
       "      <td>2021-11-12 03:06:23+00:00</td>\n",
       "      <td>13598811</td>\n",
       "      <td>0x878c88b4bd19d26e6768353ce9ae580afec26b67a7a4...</td>\n",
       "    </tr>\n",
       "    <tr>\n",
       "      <th>3</th>\n",
       "      <td>0x4907cda3d215d363e3a6d731673c9eb54d6c9ccc</td>\n",
       "      <td>KOR</td>\n",
       "      <td>KOREA Token</td>\n",
       "      <td>8</td>\n",
       "      <td>1000000000000</td>\n",
       "      <td>2021-11-12 02:30:24+00:00</td>\n",
       "      <td>13598652</td>\n",
       "      <td>0x6920da0165c722775133351180f03dfb8a8045d5e432...</td>\n",
       "    </tr>\n",
       "    <tr>\n",
       "      <th>4</th>\n",
       "      <td>0x80647538b718b62001b1edb12cf3935d4ccf867f</td>\n",
       "      <td>YAGMI</td>\n",
       "      <td>YAGMI</td>\n",
       "      <td>18</td>\n",
       "      <td>100000000000000000000000000</td>\n",
       "      <td>2021-11-12 00:23:41+00:00</td>\n",
       "      <td>13598082</td>\n",
       "      <td>0xe8603b0b4dc96d01903bb28056b146f52cc5cc8d8b0f...</td>\n",
       "    </tr>\n",
       "    <tr>\n",
       "      <th>...</th>\n",
       "      <td>...</td>\n",
       "      <td>...</td>\n",
       "      <td>...</td>\n",
       "      <td>...</td>\n",
       "      <td>...</td>\n",
       "      <td>...</td>\n",
       "      <td>...</td>\n",
       "      <td>...</td>\n",
       "    </tr>\n",
       "    <tr>\n",
       "      <th>207348</th>\n",
       "      <td>0x5bbfbc195bb980286d5a3a9c5e57070379a55d9f</td>\n",
       "      <td>MoM</td>\n",
       "      <td>Money of Money</td>\n",
       "      <td>238</td>\n",
       "      <td>50000000</td>\n",
       "      <td>2017-08-26 13:41:06+00:00</td>\n",
       "      <td>4206062</td>\n",
       "      <td>0x2f369daee14fd74964ad51ecdc5a2dfda05fcbefd95b...</td>\n",
       "    </tr>\n",
       "    <tr>\n",
       "      <th>207349</th>\n",
       "      <td>0x3f58b1d0e6f9a9efb021afb9bde847d2d39bdb9d</td>\n",
       "      <td>BTS</td>\n",
       "      <td>BeatsToken</td>\n",
       "      <td>238</td>\n",
       "      <td>390000000</td>\n",
       "      <td>2019-12-20 18:15:32+00:00</td>\n",
       "      <td>9136812</td>\n",
       "      <td>0xf1ad8b671d1e4f223422f465336595442ff956ea8937...</td>\n",
       "    </tr>\n",
       "    <tr>\n",
       "      <th>207350</th>\n",
       "      <td>0x6857910f1b57600f1a8a9b4dc468f6937a4e180e</td>\n",
       "      <td>DANK</td>\n",
       "      <td>DankCoin</td>\n",
       "      <td>254</td>\n",
       "      <td>1157920892373161954235709850086879078532699846...</td>\n",
       "      <td>2017-08-06 03:53:02+00:00</td>\n",
       "      <td>4122509</td>\n",
       "      <td>0x2482ee5c116f41ea6d193b3fdb74ac6696712338739e...</td>\n",
       "    </tr>\n",
       "    <tr>\n",
       "      <th>207351</th>\n",
       "      <td>0x4b258bf860db33ed1201181529453afd67d41d61</td>\n",
       "      <td>CAPY</td>\n",
       "      <td>CapyCOIN</td>\n",
       "      <td>255</td>\n",
       "      <td>1157920892373161954235709850086879078532699846...</td>\n",
       "      <td>2017-05-09 07:47:10+00:00</td>\n",
       "      <td>3676169</td>\n",
       "      <td>0x29c1d34cd0c1833027c07dd49e37b79df5d1ed2226a3...</td>\n",
       "    </tr>\n",
       "    <tr>\n",
       "      <th>207352</th>\n",
       "      <td>0x75baa52804ddffea0e442ee90231d7fa2612faa0</td>\n",
       "      <td>NOTUSD</td>\n",
       "      <td>NOTUSD</td>\n",
       "      <td>255</td>\n",
       "      <td>1157920892373161954235709850086879078532699846...</td>\n",
       "      <td>2020-04-29 22:57:15+00:00</td>\n",
       "      <td>9970317</td>\n",
       "      <td>0xd36d5f9d3cc651a3fcf8295563c6351bd5381a524bd1...</td>\n",
       "    </tr>\n",
       "  </tbody>\n",
       "</table>\n",
       "<p>207353 rows × 8 columns</p>\n",
       "</div>"
      ],
      "text/plain": [
       "                                           address  symbol  \\\n",
       "0       0x54994ba4b4a42297b3b88e27185cde1f51dca288    Alia   \n",
       "1       0xf2693018f665b3d30cafacb1d5407b997c9ce432    MAMI   \n",
       "2       0xfc1d7291ce8e8e081fba1731850f7ece65cf7bfe     GAN   \n",
       "3       0x4907cda3d215d363e3a6d731673c9eb54d6c9ccc     KOR   \n",
       "4       0x80647538b718b62001b1edb12cf3935d4ccf867f   YAGMI   \n",
       "...                                            ...     ...   \n",
       "207348  0x5bbfbc195bb980286d5a3a9c5e57070379a55d9f     MoM   \n",
       "207349  0x3f58b1d0e6f9a9efb021afb9bde847d2d39bdb9d     BTS   \n",
       "207350  0x6857910f1b57600f1a8a9b4dc468f6937a4e180e    DANK   \n",
       "207351  0x4b258bf860db33ed1201181529453afd67d41d61    CAPY   \n",
       "207352  0x75baa52804ddffea0e442ee90231d7fa2612faa0  NOTUSD   \n",
       "\n",
       "                                    name decimals  \\\n",
       "0                                Xanalia     None   \n",
       "1       Malaysian Asset Marry Investment       18   \n",
       "2                                GanCoin        4   \n",
       "3                            KOREA Token        8   \n",
       "4                                  YAGMI       18   \n",
       "...                                  ...      ...   \n",
       "207348                    Money of Money      238   \n",
       "207349                        BeatsToken      238   \n",
       "207350                          DankCoin      254   \n",
       "207351                          CapyCOIN      255   \n",
       "207352                            NOTUSD      255   \n",
       "\n",
       "                                             total_supply  \\\n",
       "0                                                       0   \n",
       "1                                                       0   \n",
       "2                                           1000000000000   \n",
       "3                                           1000000000000   \n",
       "4                             100000000000000000000000000   \n",
       "...                                                   ...   \n",
       "207348                                           50000000   \n",
       "207349                                          390000000   \n",
       "207350  1157920892373161954235709850086879078532699846...   \n",
       "207351  1157920892373161954235709850086879078532699846...   \n",
       "207352  1157920892373161954235709850086879078532699846...   \n",
       "\n",
       "                 block_timestamp  block_number  \\\n",
       "0      2021-11-12 07:02:07+00:00      13599860   \n",
       "1      2021-11-12 09:53:56+00:00      13600633   \n",
       "2      2021-11-12 03:06:23+00:00      13598811   \n",
       "3      2021-11-12 02:30:24+00:00      13598652   \n",
       "4      2021-11-12 00:23:41+00:00      13598082   \n",
       "...                          ...           ...   \n",
       "207348 2017-08-26 13:41:06+00:00       4206062   \n",
       "207349 2019-12-20 18:15:32+00:00       9136812   \n",
       "207350 2017-08-06 03:53:02+00:00       4122509   \n",
       "207351 2017-05-09 07:47:10+00:00       3676169   \n",
       "207352 2020-04-29 22:57:15+00:00       9970317   \n",
       "\n",
       "                                               block_hash  \n",
       "0       0x35e88b97eb3a4091fa850e273b127eb444186a3a716b...  \n",
       "1       0x01a2c7cf35f4cb134c2023e927d0465fa662f0adf919...  \n",
       "2       0x878c88b4bd19d26e6768353ce9ae580afec26b67a7a4...  \n",
       "3       0x6920da0165c722775133351180f03dfb8a8045d5e432...  \n",
       "4       0xe8603b0b4dc96d01903bb28056b146f52cc5cc8d8b0f...  \n",
       "...                                                   ...  \n",
       "207348  0x2f369daee14fd74964ad51ecdc5a2dfda05fcbefd95b...  \n",
       "207349  0xf1ad8b671d1e4f223422f465336595442ff956ea8937...  \n",
       "207350  0x2482ee5c116f41ea6d193b3fdb74ac6696712338739e...  \n",
       "207351  0x29c1d34cd0c1833027c07dd49e37b79df5d1ed2226a3...  \n",
       "207352  0xd36d5f9d3cc651a3fcf8295563c6351bd5381a524bd1...  \n",
       "\n",
       "[207353 rows x 8 columns]"
      ]
     },
     "execution_count": 5,
     "metadata": {},
     "output_type": "execute_result"
    }
   ],
   "source": [
    "token_df"
   ]
  },
  {
   "cell_type": "markdown",
   "metadata": {},
   "source": [
    "**1.2 최근 1달 간 시장 내 `ERC-20` Token의 거래량을 가져오기**\n",
    "\n",
    "````\n",
    "The most popular type of transaction on the Ethereum blockchain invokes a contract of type ERC20 to perform a transfer operation, moving some number of tokens from one 20-byte address to another 20-byte address. This table contains the subset of those transactions and has further processed and denormalized the data to make it easier to consume for analysis of token transfer events. Data is exported using https://github.com/medvedev1088/ethereum-etl\n",
    "````\n",
    "\n",
    "\n",
    "| Field name | Type | Mode | Description |\n",
    "| --- | --- | --- | --- |\n",
    "| token_address | STRING | REQUIRED | ERC20 token address | \n",
    "| from_address | STRING | NULLABLE | Address of the sender | \n",
    "| to_address | STRING | NULLABLE | Address of the receiver | \n",
    "| value | STRING | NULLABLE | Amount of tokens transferred (ERC20) / id of the token transferred (ERC721). Use safe_cast for casting to NUMERIC or FLOAT64 | \n",
    "| transaction_hash | STRING | REQUIRED | Transaction hash | \n",
    "| log_index | INTEGER | REQUIRED | Log index in the transaction receipt | \n",
    "| block_timestamp | TIMESTAMP | REQUIRED | Timestamp of the block where this transfer was in | \n",
    "| block_number | INTEGER | REQUIRED | Block number where this transfer was in | \n",
    "| block_hash | STRING | REQUIRED | Hash of the block where this transfer was in"
   ]
  },
  {
   "cell_type": "code",
   "execution_count": 6,
   "metadata": {},
   "outputs": [
    {
     "name": "stderr",
     "output_type": "stream",
     "text": [
      "Query complete after 0.00s: 100%|██████████| 3/3 [00:00<00:00, 1841.22query/s]                        \n",
      "Downloading: 100%|██████████| 32106/32106 [00:04<00:00, 7519.91rows/s]\n"
     ]
    }
   ],
   "source": [
    "%%bigquery token_transfer_df\n",
    "\n",
    "SELECT \n",
    "    token_address as address, \n",
    "    COUNT(*) as totalCount, \n",
    "    SUM(SAFE_CAST(value AS FLOAT64)) as totalAmount\n",
    "\n",
    "FROM \n",
    "   `bigquery-public-data.crypto_ethereum.token_transfers`\n",
    "\n",
    "WHERE 1=1\n",
    "    AND DATE(block_timestamp) >= '2021-10-01' \n",
    "    AND DATE(block_timestamp) < '2021-11-01'\n",
    "    AND SAFE_CAST(value AS FLOAT64) IS NOT NULL\n",
    "GROUP BY token_address"
   ]
  },
  {
   "cell_type": "markdown",
   "metadata": {},
   "source": [
    "**거래량(거래금액) 상위 10개**"
   ]
  },
  {
   "cell_type": "code",
   "execution_count": 7,
   "metadata": {},
   "outputs": [],
   "source": [
    "top10_address_by_amount = (\n",
    "    token_transfer_df\n",
    "    [token_transfer_df.address.isin(token_df.address)]\n",
    "    .sort_values(\"totalAmount\",ascending=False)\n",
    "    .iloc[:10]\n",
    "    .address\n",
    ")"
   ]
  },
  {
   "cell_type": "code",
   "execution_count": 8,
   "metadata": {},
   "outputs": [
    {
     "data": {
      "text/html": [
       "<div>\n",
       "<style scoped>\n",
       "    .dataframe tbody tr th:only-of-type {\n",
       "        vertical-align: middle;\n",
       "    }\n",
       "\n",
       "    .dataframe tbody tr th {\n",
       "        vertical-align: top;\n",
       "    }\n",
       "\n",
       "    .dataframe thead th {\n",
       "        text-align: right;\n",
       "    }\n",
       "</style>\n",
       "<table border=\"1\" class=\"dataframe\">\n",
       "  <thead>\n",
       "    <tr style=\"text-align: right;\">\n",
       "      <th></th>\n",
       "      <th>address</th>\n",
       "      <th>symbol</th>\n",
       "      <th>name</th>\n",
       "      <th>decimals</th>\n",
       "      <th>total_supply</th>\n",
       "      <th>block_timestamp</th>\n",
       "      <th>block_number</th>\n",
       "      <th>block_hash</th>\n",
       "    </tr>\n",
       "  </thead>\n",
       "  <tbody>\n",
       "    <tr>\n",
       "      <th>8047</th>\n",
       "      <td>0x095c3f21a8ddf9307e5d7091f8ee5d1dcfd2d705</td>\n",
       "      <td>vatomlabs.avocados::1182::v1</td>\n",
       "      <td>vatomlabs.avocados::1182::v1::avocadosfrommexi...</td>\n",
       "      <td>None</td>\n",
       "      <td>1</td>\n",
       "      <td>2020-01-23 18:17:08+00:00</td>\n",
       "      <td>9339532</td>\n",
       "      <td>0x5ac454f25eee5041c2712d7458c7bd435fcc5a3426b7...</td>\n",
       "    </tr>\n",
       "    <tr>\n",
       "      <th>10004</th>\n",
       "      <td>0x970fbc3126e19dc57f6649133436c2def00051a8</td>\n",
       "      <td>WAW</td>\n",
       "      <td>EterArt</td>\n",
       "      <td>None</td>\n",
       "      <td>12</td>\n",
       "      <td>2018-12-12 17:38:37+00:00</td>\n",
       "      <td>6874244</td>\n",
       "      <td>0xb1ed64956901ab7fc82a4b891fa65e667866f60500c9...</td>\n",
       "    </tr>\n",
       "    <tr>\n",
       "      <th>10866</th>\n",
       "      <td>0xd8a7c7daed6e7fd480d4cea3af336a97411fe25c</td>\n",
       "      <td>IntelButterfliesNRF19</td>\n",
       "      <td>blockv.nrf::ButterflyFolder::v2::Butterfly01::v2</td>\n",
       "      <td>None</td>\n",
       "      <td>229</td>\n",
       "      <td>2019-01-12 04:32:47+00:00</td>\n",
       "      <td>7051712</td>\n",
       "      <td>0x35f292d290ebd17f6b9a86cc3d92e81d8500c61d479e...</td>\n",
       "    </tr>\n",
       "    <tr>\n",
       "      <th>11019</th>\n",
       "      <td>0xfd89ea92f6ec07d955e2adbba2400ca1a6369028</td>\n",
       "      <td>SUPERWORLD</td>\n",
       "      <td>SuperWorld</td>\n",
       "      <td>None</td>\n",
       "      <td>667</td>\n",
       "      <td>2018-06-29 23:58:16+00:00</td>\n",
       "      <td>5877613</td>\n",
       "      <td>0x4015e3fd4e70db0006265458f3abe004a7bbabb74281...</td>\n",
       "    </tr>\n",
       "    <tr>\n",
       "      <th>11025</th>\n",
       "      <td>0x5536b6aadd29eaf0db112bb28046a5fad3761bd4</td>\n",
       "      <td>PXCN</td>\n",
       "      <td>PixelCons</td>\n",
       "      <td>None</td>\n",
       "      <td>705</td>\n",
       "      <td>2018-12-02 18:44:38+00:00</td>\n",
       "      <td>6814010</td>\n",
       "      <td>0x1e8f9420e7736444d6868d436a23efb022ee397c040b...</td>\n",
       "    </tr>\n",
       "    <tr>\n",
       "      <th>11052</th>\n",
       "      <td>0x909899c5dbb5002610dd8543b6f638be56e3b17e</td>\n",
       "      <td>PLASMABEARS</td>\n",
       "      <td>Plasma Bears</td>\n",
       "      <td>None</td>\n",
       "      <td>999</td>\n",
       "      <td>2019-03-12 23:45:38+00:00</td>\n",
       "      <td>7357333</td>\n",
       "      <td>0x8cd40be8345da2b99fc51574a709a9575690546a77e6...</td>\n",
       "    </tr>\n",
       "    <tr>\n",
       "      <th>11238</th>\n",
       "      <td>0xb55c5cac5014c662fdbf21a2c59cd45403c482fd</td>\n",
       "      <td>CLV</td>\n",
       "      <td>Clovers</td>\n",
       "      <td>None</td>\n",
       "      <td>3355</td>\n",
       "      <td>2019-08-16 20:38:38+00:00</td>\n",
       "      <td>8363701</td>\n",
       "      <td>0x6e5693d359d2816f4607864e0ce7b31a497248416278...</td>\n",
       "    </tr>\n",
       "    <tr>\n",
       "      <th>205824</th>\n",
       "      <td>0xd2c53d97273bbdd27fcb29adda965ed6ca7d1500</td>\n",
       "      <td>STACKX</td>\n",
       "      <td>StackX</td>\n",
       "      <td>18</td>\n",
       "      <td>1000000000000000000000000000000000000</td>\n",
       "      <td>2021-10-14 03:21:06+00:00</td>\n",
       "      <td>13413927</td>\n",
       "      <td>0xf0c248ca8664d33e6814a14dd38f2372a97b66ff4a47...</td>\n",
       "    </tr>\n",
       "    <tr>\n",
       "      <th>205870</th>\n",
       "      <td>0xf106a8a6118f5c70b6ef5c8925a623f45ec258d6</td>\n",
       "      <td>LP Token</td>\n",
       "      <td>FEGex PRO</td>\n",
       "      <td>18</td>\n",
       "      <td>1000000000000000000267300423504921343</td>\n",
       "      <td>2021-10-23 05:41:44+00:00</td>\n",
       "      <td>13471997</td>\n",
       "      <td>0x272d9f1670823c041b3f129b780ef7e2226a739fa291...</td>\n",
       "    </tr>\n",
       "    <tr>\n",
       "      <th>206042</th>\n",
       "      <td>0xb879d2de140452c94b573994b239b76d599b9853</td>\n",
       "      <td>bar</td>\n",
       "      <td>barter network</td>\n",
       "      <td>18</td>\n",
       "      <td>1000000000000000000000000000000000000000</td>\n",
       "      <td>2019-03-01 22:55:15+00:00</td>\n",
       "      <td>7286558</td>\n",
       "      <td>0x1ce59f2565cc770eedc30a049a8701ca7dce41dadfcd...</td>\n",
       "    </tr>\n",
       "  </tbody>\n",
       "</table>\n",
       "</div>"
      ],
      "text/plain": [
       "                                           address  \\\n",
       "8047    0x095c3f21a8ddf9307e5d7091f8ee5d1dcfd2d705   \n",
       "10004   0x970fbc3126e19dc57f6649133436c2def00051a8   \n",
       "10866   0xd8a7c7daed6e7fd480d4cea3af336a97411fe25c   \n",
       "11019   0xfd89ea92f6ec07d955e2adbba2400ca1a6369028   \n",
       "11025   0x5536b6aadd29eaf0db112bb28046a5fad3761bd4   \n",
       "11052   0x909899c5dbb5002610dd8543b6f638be56e3b17e   \n",
       "11238   0xb55c5cac5014c662fdbf21a2c59cd45403c482fd   \n",
       "205824  0xd2c53d97273bbdd27fcb29adda965ed6ca7d1500   \n",
       "205870  0xf106a8a6118f5c70b6ef5c8925a623f45ec258d6   \n",
       "206042  0xb879d2de140452c94b573994b239b76d599b9853   \n",
       "\n",
       "                              symbol  \\\n",
       "8047    vatomlabs.avocados::1182::v1   \n",
       "10004                            WAW   \n",
       "10866          IntelButterfliesNRF19   \n",
       "11019                     SUPERWORLD   \n",
       "11025                           PXCN   \n",
       "11052                    PLASMABEARS   \n",
       "11238                            CLV   \n",
       "205824                        STACKX   \n",
       "205870                      LP Token   \n",
       "206042                           bar   \n",
       "\n",
       "                                                     name decimals  \\\n",
       "8047    vatomlabs.avocados::1182::v1::avocadosfrommexi...     None   \n",
       "10004                                             EterArt     None   \n",
       "10866    blockv.nrf::ButterflyFolder::v2::Butterfly01::v2     None   \n",
       "11019                                          SuperWorld     None   \n",
       "11025                                           PixelCons     None   \n",
       "11052                                        Plasma Bears     None   \n",
       "11238                                             Clovers     None   \n",
       "205824                                             StackX       18   \n",
       "205870                                          FEGex PRO       18   \n",
       "206042                                     barter network       18   \n",
       "\n",
       "                                    total_supply           block_timestamp  \\\n",
       "8047                                           1 2020-01-23 18:17:08+00:00   \n",
       "10004                                         12 2018-12-12 17:38:37+00:00   \n",
       "10866                                        229 2019-01-12 04:32:47+00:00   \n",
       "11019                                        667 2018-06-29 23:58:16+00:00   \n",
       "11025                                        705 2018-12-02 18:44:38+00:00   \n",
       "11052                                        999 2019-03-12 23:45:38+00:00   \n",
       "11238                                       3355 2019-08-16 20:38:38+00:00   \n",
       "205824     1000000000000000000000000000000000000 2021-10-14 03:21:06+00:00   \n",
       "205870     1000000000000000000267300423504921343 2021-10-23 05:41:44+00:00   \n",
       "206042  1000000000000000000000000000000000000000 2019-03-01 22:55:15+00:00   \n",
       "\n",
       "        block_number                                         block_hash  \n",
       "8047         9339532  0x5ac454f25eee5041c2712d7458c7bd435fcc5a3426b7...  \n",
       "10004        6874244  0xb1ed64956901ab7fc82a4b891fa65e667866f60500c9...  \n",
       "10866        7051712  0x35f292d290ebd17f6b9a86cc3d92e81d8500c61d479e...  \n",
       "11019        5877613  0x4015e3fd4e70db0006265458f3abe004a7bbabb74281...  \n",
       "11025        6814010  0x1e8f9420e7736444d6868d436a23efb022ee397c040b...  \n",
       "11052        7357333  0x8cd40be8345da2b99fc51574a709a9575690546a77e6...  \n",
       "11238        8363701  0x6e5693d359d2816f4607864e0ce7b31a497248416278...  \n",
       "205824      13413927  0xf0c248ca8664d33e6814a14dd38f2372a97b66ff4a47...  \n",
       "205870      13471997  0x272d9f1670823c041b3f129b780ef7e2226a739fa291...  \n",
       "206042       7286558  0x1ce59f2565cc770eedc30a049a8701ca7dce41dadfcd...  "
      ]
     },
     "execution_count": 8,
     "metadata": {},
     "output_type": "execute_result"
    }
   ],
   "source": [
    "token_df[token_df.address.isin(top10_address_by_amount)]"
   ]
  },
  {
   "cell_type": "code",
   "execution_count": 9,
   "metadata": {},
   "outputs": [],
   "source": [
    "top10_address_by_count = (\n",
    "    token_transfer_df\n",
    "    [token_transfer_df.address.isin(token_df.address)]    \n",
    "    .sort_values(\"totalCount\",ascending=False)\n",
    "    .iloc[:10]\n",
    "    .address\n",
    ")"
   ]
  },
  {
   "cell_type": "code",
   "execution_count": 10,
   "metadata": {},
   "outputs": [
    {
     "data": {
      "text/html": [
       "<div>\n",
       "<style scoped>\n",
       "    .dataframe tbody tr th:only-of-type {\n",
       "        vertical-align: middle;\n",
       "    }\n",
       "\n",
       "    .dataframe tbody tr th {\n",
       "        vertical-align: top;\n",
       "    }\n",
       "\n",
       "    .dataframe thead th {\n",
       "        text-align: right;\n",
       "    }\n",
       "</style>\n",
       "<table border=\"1\" class=\"dataframe\">\n",
       "  <thead>\n",
       "    <tr style=\"text-align: right;\">\n",
       "      <th></th>\n",
       "      <th>address</th>\n",
       "      <th>symbol</th>\n",
       "      <th>name</th>\n",
       "      <th>decimals</th>\n",
       "      <th>total_supply</th>\n",
       "      <th>block_timestamp</th>\n",
       "      <th>block_number</th>\n",
       "      <th>block_hash</th>\n",
       "    </tr>\n",
       "  </thead>\n",
       "  <tbody>\n",
       "    <tr>\n",
       "      <th>60759</th>\n",
       "      <td>0xdac17f958d2ee523a2206206994597c13d831ec7</td>\n",
       "      <td>USDT</td>\n",
       "      <td>Tether USD</td>\n",
       "      <td>6</td>\n",
       "      <td>60057493363429</td>\n",
       "      <td>2017-11-28 00:41:21+00:00</td>\n",
       "      <td>4634748</td>\n",
       "      <td>0x1420761dbff0321c42a4bda163af2d7500d723b0139a...</td>\n",
       "    </tr>\n",
       "    <tr>\n",
       "      <th>68005</th>\n",
       "      <td>0x2260fac5e5542a773aa44fbcfedf7c193bc2c599</td>\n",
       "      <td>WBTC</td>\n",
       "      <td>Wrapped BTC</td>\n",
       "      <td>8</td>\n",
       "      <td>9387148386</td>\n",
       "      <td>2018-11-24 21:45:52+00:00</td>\n",
       "      <td>6766284</td>\n",
       "      <td>0x63baa5fa01a06cb5121871b235544d0eb7fa4e73a2d3...</td>\n",
       "    </tr>\n",
       "    <tr>\n",
       "      <th>92895</th>\n",
       "      <td>0x653430560be843c4a3d143d0110e896c2ab8ac0d</td>\n",
       "      <td>MOF</td>\n",
       "      <td>Molecular Future</td>\n",
       "      <td>16</td>\n",
       "      <td>1000000000000000000000000</td>\n",
       "      <td>2017-12-19 07:42:57+00:00</td>\n",
       "      <td>4758812</td>\n",
       "      <td>0x037da57c96152ce1ceab6dce4b3153717b86a757e97e...</td>\n",
       "    </tr>\n",
       "    <tr>\n",
       "      <th>121674</th>\n",
       "      <td>0x27c70cd1946795b66be9d954418546998b546634</td>\n",
       "      <td>LEASH</td>\n",
       "      <td>DOGE KILLER</td>\n",
       "      <td>18</td>\n",
       "      <td>122222220000000000000000</td>\n",
       "      <td>2020-09-01 22:07:48+00:00</td>\n",
       "      <td>10777939</td>\n",
       "      <td>0x1413f03aa1e38cdbba510344c035cbecfaaea5d61e6c...</td>\n",
       "    </tr>\n",
       "    <tr>\n",
       "      <th>127613</th>\n",
       "      <td>0xc02aaa39b223fe8d0a0e5c4f27ead9083c756cc2</td>\n",
       "      <td>WETH</td>\n",
       "      <td>Wrapped Ether</td>\n",
       "      <td>18</td>\n",
       "      <td>2406609700709750988256543</td>\n",
       "      <td>2017-12-12 11:17:35+00:00</td>\n",
       "      <td>4719568</td>\n",
       "      <td>0xd6e5f60d6b2367e74cd2aa520dbeb104826c3932eb48...</td>\n",
       "    </tr>\n",
       "    <tr>\n",
       "      <th>178997</th>\n",
       "      <td>0x514910771af9ca656af840dff83e8264ecf986ca</td>\n",
       "      <td>LINK</td>\n",
       "      <td>ChainLink Token</td>\n",
       "      <td>18</td>\n",
       "      <td>1000000000000000000000000000</td>\n",
       "      <td>2017-09-16 21:26:29+00:00</td>\n",
       "      <td>4281611</td>\n",
       "      <td>0x44dd61bbf85faf839df366147928e35510957a29f1ce...</td>\n",
       "    </tr>\n",
       "    <tr>\n",
       "      <th>183070</th>\n",
       "      <td>0x4e15361fd6b4bb609fa63c81a2be19d873717870</td>\n",
       "      <td>FTM</td>\n",
       "      <td>Fantom Token</td>\n",
       "      <td>18</td>\n",
       "      <td>1987133655189934657006349375</td>\n",
       "      <td>2018-06-14 12:39:02+00:00</td>\n",
       "      <td>5787425</td>\n",
       "      <td>0x32536c97e0a194a6b1b158ee60a948f4b1e063b38387...</td>\n",
       "    </tr>\n",
       "    <tr>\n",
       "      <th>186018</th>\n",
       "      <td>0x0f5d2fb29fb7d3cfee444a200298f468908cc942</td>\n",
       "      <td>MANA</td>\n",
       "      <td>Decentraland MANA</td>\n",
       "      <td>18</td>\n",
       "      <td>2534650758473437434327976460</td>\n",
       "      <td>2017-08-15 19:18:09+00:00</td>\n",
       "      <td>4162059</td>\n",
       "      <td>0x827e4054b323d8b8ef63f731c5edc605102ec83cc625...</td>\n",
       "    </tr>\n",
       "    <tr>\n",
       "      <th>187900</th>\n",
       "      <td>0x9b9647431632af44be02ddd22477ed94d14aacaa</td>\n",
       "      <td>KOK</td>\n",
       "      <td>KOK Coin</td>\n",
       "      <td>18</td>\n",
       "      <td>5000000000000000000000000000</td>\n",
       "      <td>2020-02-24 03:33:43+00:00</td>\n",
       "      <td>9543746</td>\n",
       "      <td>0xe7115f852f072f01779cf8f8326ee039af079d080c82...</td>\n",
       "    </tr>\n",
       "    <tr>\n",
       "      <th>204655</th>\n",
       "      <td>0x95ad61b0a150d79219dcf64e1e6cc01f0b64c4ce</td>\n",
       "      <td>SHIB</td>\n",
       "      <td>SHIBA INU</td>\n",
       "      <td>18</td>\n",
       "      <td>1000000000000000000000000000000000</td>\n",
       "      <td>2020-07-31 18:32:43+00:00</td>\n",
       "      <td>10569013</td>\n",
       "      <td>0x678dc99c448fc2dbc10081160066b5f654c916340c79...</td>\n",
       "    </tr>\n",
       "  </tbody>\n",
       "</table>\n",
       "</div>"
      ],
      "text/plain": [
       "                                           address symbol               name  \\\n",
       "60759   0xdac17f958d2ee523a2206206994597c13d831ec7   USDT         Tether USD   \n",
       "68005   0x2260fac5e5542a773aa44fbcfedf7c193bc2c599   WBTC        Wrapped BTC   \n",
       "92895   0x653430560be843c4a3d143d0110e896c2ab8ac0d    MOF   Molecular Future   \n",
       "121674  0x27c70cd1946795b66be9d954418546998b546634  LEASH        DOGE KILLER   \n",
       "127613  0xc02aaa39b223fe8d0a0e5c4f27ead9083c756cc2   WETH      Wrapped Ether   \n",
       "178997  0x514910771af9ca656af840dff83e8264ecf986ca   LINK    ChainLink Token   \n",
       "183070  0x4e15361fd6b4bb609fa63c81a2be19d873717870    FTM       Fantom Token   \n",
       "186018  0x0f5d2fb29fb7d3cfee444a200298f468908cc942   MANA  Decentraland MANA   \n",
       "187900  0x9b9647431632af44be02ddd22477ed94d14aacaa    KOK           KOK Coin   \n",
       "204655  0x95ad61b0a150d79219dcf64e1e6cc01f0b64c4ce   SHIB          SHIBA INU   \n",
       "\n",
       "       decimals                        total_supply           block_timestamp  \\\n",
       "60759         6                      60057493363429 2017-11-28 00:41:21+00:00   \n",
       "68005         8                          9387148386 2018-11-24 21:45:52+00:00   \n",
       "92895        16           1000000000000000000000000 2017-12-19 07:42:57+00:00   \n",
       "121674       18            122222220000000000000000 2020-09-01 22:07:48+00:00   \n",
       "127613       18           2406609700709750988256543 2017-12-12 11:17:35+00:00   \n",
       "178997       18        1000000000000000000000000000 2017-09-16 21:26:29+00:00   \n",
       "183070       18        1987133655189934657006349375 2018-06-14 12:39:02+00:00   \n",
       "186018       18        2534650758473437434327976460 2017-08-15 19:18:09+00:00   \n",
       "187900       18        5000000000000000000000000000 2020-02-24 03:33:43+00:00   \n",
       "204655       18  1000000000000000000000000000000000 2020-07-31 18:32:43+00:00   \n",
       "\n",
       "        block_number                                         block_hash  \n",
       "60759        4634748  0x1420761dbff0321c42a4bda163af2d7500d723b0139a...  \n",
       "68005        6766284  0x63baa5fa01a06cb5121871b235544d0eb7fa4e73a2d3...  \n",
       "92895        4758812  0x037da57c96152ce1ceab6dce4b3153717b86a757e97e...  \n",
       "121674      10777939  0x1413f03aa1e38cdbba510344c035cbecfaaea5d61e6c...  \n",
       "127613       4719568  0xd6e5f60d6b2367e74cd2aa520dbeb104826c3932eb48...  \n",
       "178997       4281611  0x44dd61bbf85faf839df366147928e35510957a29f1ce...  \n",
       "183070       5787425  0x32536c97e0a194a6b1b158ee60a948f4b1e063b38387...  \n",
       "186018       4162059  0x827e4054b323d8b8ef63f731c5edc605102ec83cc625...  \n",
       "187900       9543746  0xe7115f852f072f01779cf8f8326ee039af079d080c82...  \n",
       "204655      10569013  0x678dc99c448fc2dbc10081160066b5f654c916340c79...  "
      ]
     },
     "execution_count": 10,
     "metadata": {},
     "output_type": "execute_result"
    }
   ],
   "source": [
    "token_df[token_df.address.isin(top10_address_by_count)]"
   ]
  },
  {
   "cell_type": "markdown",
   "metadata": {},
   "source": [
    "일단 여기서 가장 거래량이 많은 USDT와 WBTC를 한번 보자"
   ]
  },
  {
   "cell_type": "markdown",
   "metadata": {},
   "source": [
    "## 2.  SWAP의 대상이 되는 토큰 살펴보기"
   ]
  },
  {
   "cell_type": "markdown",
   "metadata": {},
   "source": [
    "### 2.1. UNISWAP V3의 SWAP Pool 찾기\n",
    "\n",
    "Uniswap의 Pool을 탐색하기 위해서는 Uniswap V3의 Smart Contract를 이용해야 함"
   ]
  },
  {
   "cell_type": "code",
   "execution_count": 13,
   "metadata": {},
   "outputs": [],
   "source": [
    "# USDT 토큰 주소와 WBTC 토큰 주소\n",
    "# c.f) checksumAddress란, 잘못 오입력되지 않도록 체크섬 처리한 주소 정보\n",
    "# EIP-55 스펙으로 정의됨 : https://github.com/ethereum/EIPs/blob/master/EIPS/eip-55.md#specification\n",
    "\n",
    "USDT_ADDRESS = Web3.toChecksumAddress(\n",
    "    \"0xdac17f958d2ee523a2206206994597c13d831ec7\"\n",
    ")\n",
    "WBTC_ADDRESS = Web3.toChecksumAddress(\n",
    "    \"0x2260fac5e5542a773aa44fbcfedf7c193bc2c599\"\n",
    ")\n",
    "\n",
    "# UNISWAP ADDRESS 주소\n",
    "UNISWAP_V3_FACTORY_ADDRESS = Web3.toChecksumAddress(\n",
    "    \"0x1F98431c8aD98523631AE4a59f267346ea31F984\"\n",
    ")"
   ]
  },
  {
   "cell_type": "markdown",
   "metadata": {},
   "source": [
    "소스 코드를 실행하기 위해서는 스마트 컨트랙트의 Interface 정보가 필요하다. 이것은 소스코드를 컴파일하는 과정에서 ABI 파일 형태로 만들어지는데, etherscan같은 사이트에서는 주요 컨트랙트의 ABI 파일을 제공해준다."
   ]
  },
  {
   "cell_type": "code",
   "execution_count": 14,
   "metadata": {},
   "outputs": [],
   "source": [
    "@lru_cache(maxsize=1024)\n",
    "def get_abi(contract_address:str)->str:\n",
    "    # abi 가져오기\n",
    "    apiKey = ETHERSCAN_DICT['apiKey']\n",
    "    url = f\"https://api.etherscan.io/api?apiKey={apiKey}&module=contract&action=getabi&address={contract_address}\"\n",
    "    return requests.get(url).json().get('result', \"\")"
   ]
  },
  {
   "cell_type": "markdown",
   "metadata": {},
   "source": [
    "아래와 같이 구조 정보가 나와있다."
   ]
  },
  {
   "cell_type": "code",
   "execution_count": 15,
   "metadata": {},
   "outputs": [
    {
     "data": {
      "text/plain": [
       "'[{\"inputs\":[],\"stateMutability\":\"nonpayable\",\"type\":\"constructor\"},{\"anonymous\":false,\"inputs\":[{\"indexed\":true,\"internalType\":\"uint24\",\"name\":\"fee\",\"type\":\"uint24\"},{\"indexed\":true,\"internalType\":\"int24\",\"name\":\"tickSpacing\",\"type\":\"int24\"}],\"name\":\"FeeAmountEnabled\",\"type\":\"event\"},{\"anonymous\":false,\"inputs\":[{\"indexed\":true,\"internalType\":\"address\",\"name\":\"oldOwner\",\"type\":\"address\"},{\"indexed\":true,\"internalType\":\"address\",\"name\":\"newOwner\",\"type\":\"address\"}],\"name\":\"OwnerChanged\",\"type\":\"event\"},{\"anonymous\":false,\"inputs\":[{\"indexed\":true,\"internalType\":\"address\",\"name\":\"token0\",\"type\":\"address\"},{\"indexed\":true,\"internalType\":\"address\",\"name\":\"token1\",\"type\":\"address\"},{\"indexed\":true,\"internalType\":\"uint24\",\"name\":\"fee\",\"type\":\"uint24\"},{\"indexed\":false,\"internalType\":\"int24\",\"name\":\"tickSpacing\",\"type\":\"int24\"},{\"indexed\":false,\"internalType\":\"address\",\"name\":\"pool\",\"type\":\"address\"}],\"name\":\"PoolCreated\",\"type\":\"event\"},{\"inputs\":[{\"internalType\":\"address\",\"name\":\"tokenA\",\"type\":\"address\"},{\"internalType\":\"address\",\"name\":\"tokenB\",\"type\":\"address\"},{\"internalType\":\"uint24\",\"name\":\"fee\",\"type\":\"uint24\"}],\"name\":\"createPool\",\"outputs\":[{\"internalType\":\"address\",\"name\":\"pool\",\"type\":\"address\"}],\"stateMutability\":\"nonpayable\",\"type\":\"function\"},{\"inputs\":[{\"internalType\":\"uint24\",\"name\":\"fee\",\"type\":\"uint24\"},{\"internalType\":\"int24\",\"name\":\"tickSpacing\",\"type\":\"int24\"}],\"name\":\"enableFeeAmount\",\"outputs\":[],\"stateMutability\":\"nonpayable\",\"type\":\"function\"},{\"inputs\":[{\"internalType\":\"uint24\",\"name\":\"\",\"type\":\"uint24\"}],\"name\":\"feeAmountTickSpacing\",\"outputs\":[{\"internalType\":\"int24\",\"name\":\"\",\"type\":\"int24\"}],\"stateMutability\":\"view\",\"type\":\"function\"},{\"inputs\":[{\"internalType\":\"address\",\"name\":\"\",\"type\":\"address\"},{\"internalType\":\"address\",\"name\":\"\",\"type\":\"address\"},{\"internalType\":\"uint24\",\"name\":\"\",\"type\":\"uint24\"}],\"name\":\"getPool\",\"outputs\":[{\"internalType\":\"address\",\"name\":\"\",\"type\":\"address\"}],\"stateMutability\":\"view\",\"type\":\"function\"},{\"inputs\":[],\"name\":\"owner\",\"outputs\":[{\"internalType\":\"address\",\"name\":\"\",\"type\":\"address\"}],\"stateMutability\":\"view\",\"type\":\"function\"},{\"inputs\":[],\"name\":\"parameters\",\"outputs\":[{\"internalType\":\"address\",\"name\":\"factory\",\"type\":\"address\"},{\"internalType\":\"address\",\"name\":\"token0\",\"type\":\"address\"},{\"internalType\":\"address\",\"name\":\"token1\",\"type\":\"address\"},{\"internalType\":\"uint24\",\"name\":\"fee\",\"type\":\"uint24\"},{\"internalType\":\"int24\",\"name\":\"tickSpacing\",\"type\":\"int24\"}],\"stateMutability\":\"view\",\"type\":\"function\"},{\"inputs\":[{\"internalType\":\"address\",\"name\":\"_owner\",\"type\":\"address\"}],\"name\":\"setOwner\",\"outputs\":[],\"stateMutability\":\"nonpayable\",\"type\":\"function\"}]'"
      ]
     },
     "execution_count": 15,
     "metadata": {},
     "output_type": "execute_result"
    }
   ],
   "source": [
    "get_abi(UNISWAP_V3_FACTORY_ADDRESS)"
   ]
  },
  {
   "cell_type": "markdown",
   "metadata": {},
   "source": [
    "컨트랙트와 컨트랙트 주소가 있으면, 컨트랙트에서 함수들을 호출할 수 있다. \n",
    "그런데 컨트랙트의 정보에서 붙기 위해서는 필수적으로 운영중인 메인넷의 이더리움 노드에 접근이 필수적이다. 자신의 로컬 컴퓨터를 메인넷의 이더리움 노드로 운영할 수도 있지만, infura와 같은 node provider을 이용할수도 잇다.\n",
    "\n",
    "![](https://imgur.com/Se5U2nV.png)"
   ]
  },
  {
   "cell_type": "code",
   "execution_count": 18,
   "metadata": {},
   "outputs": [],
   "source": [
    "def get_contract(contract_address):\n",
    "    # infura 노드를 통해, Main넷에 붙기\n",
    "    w3 = Web3(\n",
    "        Web3.HTTPProvider(f\"https://mainnet.infura.io/v3/{project_id}\")\n",
    "    )\n",
    "\n",
    "    # Contract 가져오기\n",
    "    return w3.eth.contract(\n",
    "        address=Web3.toChecksumAddress(contract_address), \n",
    "        abi=get_abi(Web3.toChecksumAddress(contract_address)))"
   ]
  },
  {
   "cell_type": "code",
   "execution_count": 19,
   "metadata": {},
   "outputs": [],
   "source": [
    "# 컨트랙트 정보 불러오기\n",
    "contract = get_contract(UNISWAP_V3_FACTORY_ADDRESS)"
   ]
  },
  {
   "cell_type": "code",
   "execution_count": 23,
   "metadata": {},
   "outputs": [],
   "source": [
    "# 컨트랙트에서 풀을 가져오는 방식 조회하기\n",
    "func = contract.functions.getPool(Web3.toChecksumAddress(USDT_ADDRESS), \n",
    "                                  Web3.toChecksumAddress(WBTC_ADDRESS), \n",
    "                                  3000)"
   ]
  },
  {
   "cell_type": "markdown",
   "metadata": {},
   "source": [
    "꼭 모든 함수가 Payable, 가스를 소요하는 것은 아니다. 가스를 소요하지 않는 함수들도 존재한다. 다만 블록체인 내 값의 변경을 요하는 건 payable 이어야 한다 (이더를 송금하거나, 토큰의 소유권을 바꾸는 등의 행위)\n",
    "\n",
    "참고\n",
    "````\n",
    "Payable has nothing to do with it. You have to add either view or constant to make it a read-only function as the compiler will suggest you do if you remove payable because without value transfer, this function doesn't change anything. So, I think that's what happened, or something very similar.\n",
    "\n",
    "This issue relates to Ethereum's treatment of state-changing (write) and read-only operations. In the case of a state-changing function the sender never gets the expected return value, but another contract does. The reason for this is the sent transactions have not been mined, so the return value is unknown.\n",
    "\n",
    "The receipt you get is an identifier your node produced to let you know how to track the transaction. This callback confirms that your node is aware of your desire to submit something to the network. It's not the same concept as \"result\".\n",
    "\n",
    "It's a confusing topic and it implies front-end design patterns that deal with waiting for mining. Have a look over here for an explainer: https://blog.b9lab.com/calls-vs-transactions-in-ethereum-smart-contracts-62d6b17d0bc2\n",
    "````"
   ]
  },
  {
   "cell_type": "code",
   "execution_count": 24,
   "metadata": {},
   "outputs": [
    {
     "data": {
      "text/plain": [
       "'0x9Db9e0e53058C89e5B94e29621a205198648425B'"
      ]
     },
     "execution_count": 24,
     "metadata": {},
     "output_type": "execute_result"
    }
   ],
   "source": [
    "# 풀을 조회하기\n",
    "func.call()"
   ]
  },
  {
   "cell_type": "markdown",
   "metadata": {},
   "source": [
    "사실 이렇게 호출하는 방식이 etherscan에서 제공하는 대시보드 호출과도 동일하다. \n",
    "\n",
    "![](https://imgur.com/58BBeAv.png)"
   ]
  },
  {
   "cell_type": "markdown",
   "metadata": {},
   "source": [
    "우리는 이제 `uniswap v3: WBTC-USDT`의 주소를 알게 되었다. => `0x9Db9e0e53058C89e5B94e29621a205198648425B`\n",
    "\n",
    "여기서 SWAP이 발생되면 어떻게 될까? 이것은 모두 Event의 형태로 발행되며, event를 통해 우리는 어떤 트랜잭션이 서비스 내에서 발생했는지를 알수있게 된다."
   ]
  },
  {
   "cell_type": "markdown",
   "metadata": {},
   "source": [
    "이걸 검색하기 위해서는 bigquery 내에서 해당 address에서 발생되는 모든 event들을 보면 된다."
   ]
  },
  {
   "cell_type": "markdown",
   "metadata": {},
   "source": [
    "| column name | type  | mode      | description |\n",
    "|  ---      | ---     | ---      | --- |\n",
    "| log_index | INTEGER | REQUIRED | Integer of the log index position in the block | \n",
    "| transaction_hash | STRING | REQUIRED | Hash of the transactions this log was created from | \n",
    "| transaction_index | INTEGER | REQUIRED | Integer of the transactions index position log was created from | \n",
    "| address | STRING | NULLABLE | Address from which this log originated | \n",
    "| data | STRING | NULLABLE | Contains one or more 32 Bytes non-indexed arguments of the log | \n",
    "| topics | STRING | REPEATED | Indexed log arguments (0 to 4 32-byte hex strings). (In solidity: The first topic is the hash of the signature of the event (e.g. Deposit(address,bytes32,uint256)), except you declared the event with the anonymous specifier.) | \n",
    "| block_timestamp | TIMESTAMP | REQUIRED | Timestamp of the block where this log was in | \n",
    "| block_number | INTEGER | REQUIRED | The block number where this log was in | \n",
    "| block_hash | STRING | REQUIRED | Hash of the block where this log was in |"
   ]
  },
  {
   "cell_type": "code",
   "execution_count": 25,
   "metadata": {},
   "outputs": [
    {
     "name": "stderr",
     "output_type": "stream",
     "text": [
      "Query complete after 0.00s: 100%|██████████| 1/1 [00:00<00:00, 654.44query/s]                          \n",
      "Downloading: 100%|██████████| 188/188 [00:04<00:00, 46.65rows/s]\n"
     ]
    }
   ],
   "source": [
    "%%bigquery logs_df\n",
    "SELECT address, transaction_hash, data, topics, block_timestamp\n",
    "FROM `bigquery-public-data.crypto_ethereum.logs` \n",
    "WHERE 1=1\n",
    "  AND lower(address) = '0x9db9e0e53058c89e5b94e29621a205198648425b'\n",
    "  AND date(block_timestamp) >= '2021-11-10'\n"
   ]
  },
  {
   "cell_type": "code",
   "execution_count": 28,
   "metadata": {},
   "outputs": [
    {
     "data": {
      "text/plain": [
       "'[{\"inputs\":[],\"stateMutability\":\"nonpayable\",\"type\":\"constructor\"},{\"anonymous\":false,\"inputs\":[{\"indexed\":true,\"internalType\":\"address\",\"name\":\"owner\",\"type\":\"address\"},{\"indexed\":true,\"internalType\":\"int24\",\"name\":\"tickLower\",\"type\":\"int24\"},{\"indexed\":true,\"internalType\":\"int24\",\"name\":\"tickUpper\",\"type\":\"int24\"},{\"indexed\":false,\"internalType\":\"uint128\",\"name\":\"amount\",\"type\":\"uint128\"},{\"indexed\":false,\"internalType\":\"uint256\",\"name\":\"amount0\",\"type\":\"uint256\"},{\"indexed\":false,\"internalType\":\"uint256\",\"name\":\"amount1\",\"type\":\"uint256\"}],\"name\":\"Burn\",\"type\":\"event\"},{\"anonymous\":false,\"inputs\":[{\"indexed\":true,\"internalType\":\"address\",\"name\":\"owner\",\"type\":\"address\"},{\"indexed\":false,\"internalType\":\"address\",\"name\":\"recipient\",\"type\":\"address\"},{\"indexed\":true,\"internalType\":\"int24\",\"name\":\"tickLower\",\"type\":\"int24\"},{\"indexed\":true,\"internalType\":\"int24\",\"name\":\"tickUpper\",\"type\":\"int24\"},{\"indexed\":false,\"internalType\":\"uint128\",\"name\":\"amount0\",\"type\":\"uint128\"},{\"indexed\":false,\"internalType\":\"uint128\",\"name\":\"amount1\",\"type\":\"uint128\"}],\"name\":\"Collect\",\"type\":\"event\"},{\"anonymous\":false,\"inputs\":[{\"indexed\":true,\"internalType\":\"address\",\"name\":\"sender\",\"type\":\"address\"},{\"indexed\":true,\"internalType\":\"address\",\"name\":\"recipient\",\"type\":\"address\"},{\"indexed\":false,\"internalType\":\"uint128\",\"name\":\"amount0\",\"type\":\"uint128\"},{\"indexed\":false,\"internalType\":\"uint128\",\"name\":\"amount1\",\"type\":\"uint128\"}],\"name\":\"CollectProtocol\",\"type\":\"event\"},{\"anonymous\":false,\"inputs\":[{\"indexed\":true,\"internalType\":\"address\",\"name\":\"sender\",\"type\":\"address\"},{\"indexed\":true,\"internalType\":\"address\",\"name\":\"recipient\",\"type\":\"address\"},{\"indexed\":false,\"internalType\":\"uint256\",\"name\":\"amount0\",\"type\":\"uint256\"},{\"indexed\":false,\"internalType\":\"uint256\",\"name\":\"amount1\",\"type\":\"uint256\"},{\"indexed\":false,\"internalType\":\"uint256\",\"name\":\"paid0\",\"type\":\"uint256\"},{\"indexed\":false,\"internalType\":\"uint256\",\"name\":\"paid1\",\"type\":\"uint256\"}],\"name\":\"Flash\",\"type\":\"event\"},{\"anonymous\":false,\"inputs\":[{\"indexed\":false,\"internalType\":\"uint16\",\"name\":\"observationCardinalityNextOld\",\"type\":\"uint16\"},{\"indexed\":false,\"internalType\":\"uint16\",\"name\":\"observationCardinalityNextNew\",\"type\":\"uint16\"}],\"name\":\"IncreaseObservationCardinalityNext\",\"type\":\"event\"},{\"anonymous\":false,\"inputs\":[{\"indexed\":false,\"internalType\":\"uint160\",\"name\":\"sqrtPriceX96\",\"type\":\"uint160\"},{\"indexed\":false,\"internalType\":\"int24\",\"name\":\"tick\",\"type\":\"int24\"}],\"name\":\"Initialize\",\"type\":\"event\"},{\"anonymous\":false,\"inputs\":[{\"indexed\":false,\"internalType\":\"address\",\"name\":\"sender\",\"type\":\"address\"},{\"indexed\":true,\"internalType\":\"address\",\"name\":\"owner\",\"type\":\"address\"},{\"indexed\":true,\"internalType\":\"int24\",\"name\":\"tickLower\",\"type\":\"int24\"},{\"indexed\":true,\"internalType\":\"int24\",\"name\":\"tickUpper\",\"type\":\"int24\"},{\"indexed\":false,\"internalType\":\"uint128\",\"name\":\"amount\",\"type\":\"uint128\"},{\"indexed\":false,\"internalType\":\"uint256\",\"name\":\"amount0\",\"type\":\"uint256\"},{\"indexed\":false,\"internalType\":\"uint256\",\"name\":\"amount1\",\"type\":\"uint256\"}],\"name\":\"Mint\",\"type\":\"event\"},{\"anonymous\":false,\"inputs\":[{\"indexed\":false,\"internalType\":\"uint8\",\"name\":\"feeProtocol0Old\",\"type\":\"uint8\"},{\"indexed\":false,\"internalType\":\"uint8\",\"name\":\"feeProtocol1Old\",\"type\":\"uint8\"},{\"indexed\":false,\"internalType\":\"uint8\",\"name\":\"feeProtocol0New\",\"type\":\"uint8\"},{\"indexed\":false,\"internalType\":\"uint8\",\"name\":\"feeProtocol1New\",\"type\":\"uint8\"}],\"name\":\"SetFeeProtocol\",\"type\":\"event\"},{\"anonymous\":false,\"inputs\":[{\"indexed\":true,\"internalType\":\"address\",\"name\":\"sender\",\"type\":\"address\"},{\"indexed\":true,\"internalType\":\"address\",\"name\":\"recipient\",\"type\":\"address\"},{\"indexed\":false,\"internalType\":\"int256\",\"name\":\"amount0\",\"type\":\"int256\"},{\"indexed\":false,\"internalType\":\"int256\",\"name\":\"amount1\",\"type\":\"int256\"},{\"indexed\":false,\"internalType\":\"uint160\",\"name\":\"sqrtPriceX96\",\"type\":\"uint160\"},{\"indexed\":false,\"internalType\":\"uint128\",\"name\":\"liquidity\",\"type\":\"uint128\"},{\"indexed\":false,\"internalType\":\"int24\",\"name\":\"tick\",\"type\":\"int24\"}],\"name\":\"Swap\",\"type\":\"event\"},{\"inputs\":[{\"internalType\":\"int24\",\"name\":\"tickLower\",\"type\":\"int24\"},{\"internalType\":\"int24\",\"name\":\"tickUpper\",\"type\":\"int24\"},{\"internalType\":\"uint128\",\"name\":\"amount\",\"type\":\"uint128\"}],\"name\":\"burn\",\"outputs\":[{\"internalType\":\"uint256\",\"name\":\"amount0\",\"type\":\"uint256\"},{\"internalType\":\"uint256\",\"name\":\"amount1\",\"type\":\"uint256\"}],\"stateMutability\":\"nonpayable\",\"type\":\"function\"},{\"inputs\":[{\"internalType\":\"address\",\"name\":\"recipient\",\"type\":\"address\"},{\"internalType\":\"int24\",\"name\":\"tickLower\",\"type\":\"int24\"},{\"internalType\":\"int24\",\"name\":\"tickUpper\",\"type\":\"int24\"},{\"internalType\":\"uint128\",\"name\":\"amount0Requested\",\"type\":\"uint128\"},{\"internalType\":\"uint128\",\"name\":\"amount1Requested\",\"type\":\"uint128\"}],\"name\":\"collect\",\"outputs\":[{\"internalType\":\"uint128\",\"name\":\"amount0\",\"type\":\"uint128\"},{\"internalType\":\"uint128\",\"name\":\"amount1\",\"type\":\"uint128\"}],\"stateMutability\":\"nonpayable\",\"type\":\"function\"},{\"inputs\":[{\"internalType\":\"address\",\"name\":\"recipient\",\"type\":\"address\"},{\"internalType\":\"uint128\",\"name\":\"amount0Requested\",\"type\":\"uint128\"},{\"internalType\":\"uint128\",\"name\":\"amount1Requested\",\"type\":\"uint128\"}],\"name\":\"collectProtocol\",\"outputs\":[{\"internalType\":\"uint128\",\"name\":\"amount0\",\"type\":\"uint128\"},{\"internalType\":\"uint128\",\"name\":\"amount1\",\"type\":\"uint128\"}],\"stateMutability\":\"nonpayable\",\"type\":\"function\"},{\"inputs\":[],\"name\":\"factory\",\"outputs\":[{\"internalType\":\"address\",\"name\":\"\",\"type\":\"address\"}],\"stateMutability\":\"view\",\"type\":\"function\"},{\"inputs\":[],\"name\":\"fee\",\"outputs\":[{\"internalType\":\"uint24\",\"name\":\"\",\"type\":\"uint24\"}],\"stateMutability\":\"view\",\"type\":\"function\"},{\"inputs\":[],\"name\":\"feeGrowthGlobal0X128\",\"outputs\":[{\"internalType\":\"uint256\",\"name\":\"\",\"type\":\"uint256\"}],\"stateMutability\":\"view\",\"type\":\"function\"},{\"inputs\":[],\"name\":\"feeGrowthGlobal1X128\",\"outputs\":[{\"internalType\":\"uint256\",\"name\":\"\",\"type\":\"uint256\"}],\"stateMutability\":\"view\",\"type\":\"function\"},{\"inputs\":[{\"internalType\":\"address\",\"name\":\"recipient\",\"type\":\"address\"},{\"internalType\":\"uint256\",\"name\":\"amount0\",\"type\":\"uint256\"},{\"internalType\":\"uint256\",\"name\":\"amount1\",\"type\":\"uint256\"},{\"internalType\":\"bytes\",\"name\":\"data\",\"type\":\"bytes\"}],\"name\":\"flash\",\"outputs\":[],\"stateMutability\":\"nonpayable\",\"type\":\"function\"},{\"inputs\":[{\"internalType\":\"uint16\",\"name\":\"observationCardinalityNext\",\"type\":\"uint16\"}],\"name\":\"increaseObservationCardinalityNext\",\"outputs\":[],\"stateMutability\":\"nonpayable\",\"type\":\"function\"},{\"inputs\":[{\"internalType\":\"uint160\",\"name\":\"sqrtPriceX96\",\"type\":\"uint160\"}],\"name\":\"initialize\",\"outputs\":[],\"stateMutability\":\"nonpayable\",\"type\":\"function\"},{\"inputs\":[],\"name\":\"liquidity\",\"outputs\":[{\"internalType\":\"uint128\",\"name\":\"\",\"type\":\"uint128\"}],\"stateMutability\":\"view\",\"type\":\"function\"},{\"inputs\":[],\"name\":\"maxLiquidityPerTick\",\"outputs\":[{\"internalType\":\"uint128\",\"name\":\"\",\"type\":\"uint128\"}],\"stateMutability\":\"view\",\"type\":\"function\"},{\"inputs\":[{\"internalType\":\"address\",\"name\":\"recipient\",\"type\":\"address\"},{\"internalType\":\"int24\",\"name\":\"tickLower\",\"type\":\"int24\"},{\"internalType\":\"int24\",\"name\":\"tickUpper\",\"type\":\"int24\"},{\"internalType\":\"uint128\",\"name\":\"amount\",\"type\":\"uint128\"},{\"internalType\":\"bytes\",\"name\":\"data\",\"type\":\"bytes\"}],\"name\":\"mint\",\"outputs\":[{\"internalType\":\"uint256\",\"name\":\"amount0\",\"type\":\"uint256\"},{\"internalType\":\"uint256\",\"name\":\"amount1\",\"type\":\"uint256\"}],\"stateMutability\":\"nonpayable\",\"type\":\"function\"},{\"inputs\":[{\"internalType\":\"uint256\",\"name\":\"\",\"type\":\"uint256\"}],\"name\":\"observations\",\"outputs\":[{\"internalType\":\"uint32\",\"name\":\"blockTimestamp\",\"type\":\"uint32\"},{\"internalType\":\"int56\",\"name\":\"tickCumulative\",\"type\":\"int56\"},{\"internalType\":\"uint160\",\"name\":\"secondsPerLiquidityCumulativeX128\",\"type\":\"uint160\"},{\"internalType\":\"bool\",\"name\":\"initialized\",\"type\":\"bool\"}],\"stateMutability\":\"view\",\"type\":\"function\"},{\"inputs\":[{\"internalType\":\"uint32[]\",\"name\":\"secondsAgos\",\"type\":\"uint32[]\"}],\"name\":\"observe\",\"outputs\":[{\"internalType\":\"int56[]\",\"name\":\"tickCumulatives\",\"type\":\"int56[]\"},{\"internalType\":\"uint160[]\",\"name\":\"secondsPerLiquidityCumulativeX128s\",\"type\":\"uint160[]\"}],\"stateMutability\":\"view\",\"type\":\"function\"},{\"inputs\":[{\"internalType\":\"bytes32\",\"name\":\"\",\"type\":\"bytes32\"}],\"name\":\"positions\",\"outputs\":[{\"internalType\":\"uint128\",\"name\":\"liquidity\",\"type\":\"uint128\"},{\"internalType\":\"uint256\",\"name\":\"feeGrowthInside0LastX128\",\"type\":\"uint256\"},{\"internalType\":\"uint256\",\"name\":\"feeGrowthInside1LastX128\",\"type\":\"uint256\"},{\"internalType\":\"uint128\",\"name\":\"tokensOwed0\",\"type\":\"uint128\"},{\"internalType\":\"uint128\",\"name\":\"tokensOwed1\",\"type\":\"uint128\"}],\"stateMutability\":\"view\",\"type\":\"function\"},{\"inputs\":[],\"name\":\"protocolFees\",\"outputs\":[{\"internalType\":\"uint128\",\"name\":\"token0\",\"type\":\"uint128\"},{\"internalType\":\"uint128\",\"name\":\"token1\",\"type\":\"uint128\"}],\"stateMutability\":\"view\",\"type\":\"function\"},{\"inputs\":[{\"internalType\":\"uint8\",\"name\":\"feeProtocol0\",\"type\":\"uint8\"},{\"internalType\":\"uint8\",\"name\":\"feeProtocol1\",\"type\":\"uint8\"}],\"name\":\"setFeeProtocol\",\"outputs\":[],\"stateMutability\":\"nonpayable\",\"type\":\"function\"},{\"inputs\":[],\"name\":\"slot0\",\"outputs\":[{\"internalType\":\"uint160\",\"name\":\"sqrtPriceX96\",\"type\":\"uint160\"},{\"internalType\":\"int24\",\"name\":\"tick\",\"type\":\"int24\"},{\"internalType\":\"uint16\",\"name\":\"observationIndex\",\"type\":\"uint16\"},{\"internalType\":\"uint16\",\"name\":\"observationCardinality\",\"type\":\"uint16\"},{\"internalType\":\"uint16\",\"name\":\"observationCardinalityNext\",\"type\":\"uint16\"},{\"internalType\":\"uint8\",\"name\":\"feeProtocol\",\"type\":\"uint8\"},{\"internalType\":\"bool\",\"name\":\"unlocked\",\"type\":\"bool\"}],\"stateMutability\":\"view\",\"type\":\"function\"},{\"inputs\":[{\"internalType\":\"int24\",\"name\":\"tickLower\",\"type\":\"int24\"},{\"internalType\":\"int24\",\"name\":\"tickUpper\",\"type\":\"int24\"}],\"name\":\"snapshotCumulativesInside\",\"outputs\":[{\"internalType\":\"int56\",\"name\":\"tickCumulativeInside\",\"type\":\"int56\"},{\"internalType\":\"uint160\",\"name\":\"secondsPerLiquidityInsideX128\",\"type\":\"uint160\"},{\"internalType\":\"uint32\",\"name\":\"secondsInside\",\"type\":\"uint32\"}],\"stateMutability\":\"view\",\"type\":\"function\"},{\"inputs\":[{\"internalType\":\"address\",\"name\":\"recipient\",\"type\":\"address\"},{\"internalType\":\"bool\",\"name\":\"zeroForOne\",\"type\":\"bool\"},{\"internalType\":\"int256\",\"name\":\"amountSpecified\",\"type\":\"int256\"},{\"internalType\":\"uint160\",\"name\":\"sqrtPriceLimitX96\",\"type\":\"uint160\"},{\"internalType\":\"bytes\",\"name\":\"data\",\"type\":\"bytes\"}],\"name\":\"swap\",\"outputs\":[{\"internalType\":\"int256\",\"name\":\"amount0\",\"type\":\"int256\"},{\"internalType\":\"int256\",\"name\":\"amount1\",\"type\":\"int256\"}],\"stateMutability\":\"nonpayable\",\"type\":\"function\"},{\"inputs\":[{\"internalType\":\"int16\",\"name\":\"\",\"type\":\"int16\"}],\"name\":\"tickBitmap\",\"outputs\":[{\"internalType\":\"uint256\",\"name\":\"\",\"type\":\"uint256\"}],\"stateMutability\":\"view\",\"type\":\"function\"},{\"inputs\":[],\"name\":\"tickSpacing\",\"outputs\":[{\"internalType\":\"int24\",\"name\":\"\",\"type\":\"int24\"}],\"stateMutability\":\"view\",\"type\":\"function\"},{\"inputs\":[{\"internalType\":\"int24\",\"name\":\"\",\"type\":\"int24\"}],\"name\":\"ticks\",\"outputs\":[{\"internalType\":\"uint128\",\"name\":\"liquidityGross\",\"type\":\"uint128\"},{\"internalType\":\"int128\",\"name\":\"liquidityNet\",\"type\":\"int128\"},{\"internalType\":\"uint256\",\"name\":\"feeGrowthOutside0X128\",\"type\":\"uint256\"},{\"internalType\":\"uint256\",\"name\":\"feeGrowthOutside1X128\",\"type\":\"uint256\"},{\"internalType\":\"int56\",\"name\":\"tickCumulativeOutside\",\"type\":\"int56\"},{\"internalType\":\"uint160\",\"name\":\"secondsPerLiquidityOutsideX128\",\"type\":\"uint160\"},{\"internalType\":\"uint32\",\"name\":\"secondsOutside\",\"type\":\"uint32\"},{\"internalType\":\"bool\",\"name\":\"initialized\",\"type\":\"bool\"}],\"stateMutability\":\"view\",\"type\":\"function\"},{\"inputs\":[],\"name\":\"token0\",\"outputs\":[{\"internalType\":\"address\",\"name\":\"\",\"type\":\"address\"}],\"stateMutability\":\"view\",\"type\":\"function\"},{\"inputs\":[],\"name\":\"token1\",\"outputs\":[{\"internalType\":\"address\",\"name\":\"\",\"type\":\"address\"}],\"stateMutability\":\"view\",\"type\":\"function\"}]'"
      ]
     },
     "execution_count": 28,
     "metadata": {},
     "output_type": "execute_result"
    }
   ],
   "source": [
    "get_abi(\"0x9db9e0e53058c89e5b94e29621a205198648425b\")"
   ]
  },
  {
   "cell_type": "code",
   "execution_count": 39,
   "metadata": {},
   "outputs": [],
   "source": [
    "row = logs_df.iloc[0]"
   ]
  },
  {
   "cell_type": "markdown",
   "metadata": {},
   "source": [
    "이렇게 Bytes로 된 녀석들을 이제 파싱해야 한다. 이걸 처리하기 위해서 또 메인넷을 이용해서 디코딩이 가능하다. "
   ]
  },
  {
   "cell_type": "markdown",
   "metadata": {},
   "source": [
    "---"
   ]
  },
  {
   "cell_type": "code",
   "execution_count": 40,
   "metadata": {},
   "outputs": [
    {
     "data": {
      "text/plain": [
       "address                    0x9db9e0e53058c89e5b94e29621a205198648425b\n",
       "transaction_hash    0x09b95059fd39c0943b9b17577d60141ce1101e455ff2...\n",
       "data                0x00000000000000000000000000000000000000000000...\n",
       "topics              [0xc42079f94a6350d7e6235f29174924f928cc2ac818e...\n",
       "block_timestamp                             2021-11-10 18:46:08+00:00\n",
       "Name: 0, dtype: object"
      ]
     },
     "execution_count": 40,
     "metadata": {},
     "output_type": "execute_result"
    }
   ],
   "source": [
    "row"
   ]
  },
  {
   "cell_type": "code",
   "execution_count": 41,
   "metadata": {},
   "outputs": [],
   "source": [
    "abi = get_abi(row.address)\n",
    "topic2abi = to_topic_map(abi)\n",
    "event_abi = topic2abi[row.topics[0]]\n",
    "event_name = event_abi['name']"
   ]
  },
  {
   "cell_type": "code",
   "execution_count": 45,
   "metadata": {},
   "outputs": [
    {
     "data": {
      "text/plain": [
       "{'inputs': [], 'stateMutability': 'nonpayable', 'type': 'constructor'}"
      ]
     },
     "execution_count": 45,
     "metadata": {},
     "output_type": "execute_result"
    }
   ],
   "source": [
    "json.loads(abi)[0]"
   ]
  },
  {
   "cell_type": "code",
   "execution_count": 49,
   "metadata": {},
   "outputs": [
    {
     "name": "stdout",
     "output_type": "stream",
     "text": [
      "0 {'inputs': [], 'stateMutability': 'nonpayable', 'type': 'constructor'}\n",
      "1 {'anonymous': False, 'inputs': [{'indexed': True, 'internalType': 'address', 'name': 'owner', 'type': 'address'}, {'indexed': True, 'internalType': 'int24', 'name': 'tickLower', 'type': 'int24'}, {'indexed': True, 'internalType': 'int24', 'name': 'tickUpper', 'type': 'int24'}, {'indexed': False, 'internalType': 'uint128', 'name': 'amount', 'type': 'uint128'}, {'indexed': False, 'internalType': 'uint256', 'name': 'amount0', 'type': 'uint256'}, {'indexed': False, 'internalType': 'uint256', 'name': 'amount1', 'type': 'uint256'}], 'name': 'Burn', 'type': 'event'}\n",
      "2 {'anonymous': False, 'inputs': [{'indexed': True, 'internalType': 'address', 'name': 'owner', 'type': 'address'}, {'indexed': False, 'internalType': 'address', 'name': 'recipient', 'type': 'address'}, {'indexed': True, 'internalType': 'int24', 'name': 'tickLower', 'type': 'int24'}, {'indexed': True, 'internalType': 'int24', 'name': 'tickUpper', 'type': 'int24'}, {'indexed': False, 'internalType': 'uint128', 'name': 'amount0', 'type': 'uint128'}, {'indexed': False, 'internalType': 'uint128', 'name': 'amount1', 'type': 'uint128'}], 'name': 'Collect', 'type': 'event'}\n",
      "3 {'anonymous': False, 'inputs': [{'indexed': True, 'internalType': 'address', 'name': 'sender', 'type': 'address'}, {'indexed': True, 'internalType': 'address', 'name': 'recipient', 'type': 'address'}, {'indexed': False, 'internalType': 'uint128', 'name': 'amount0', 'type': 'uint128'}, {'indexed': False, 'internalType': 'uint128', 'name': 'amount1', 'type': 'uint128'}], 'name': 'CollectProtocol', 'type': 'event'}\n",
      "4 {'anonymous': False, 'inputs': [{'indexed': True, 'internalType': 'address', 'name': 'sender', 'type': 'address'}, {'indexed': True, 'internalType': 'address', 'name': 'recipient', 'type': 'address'}, {'indexed': False, 'internalType': 'uint256', 'name': 'amount0', 'type': 'uint256'}, {'indexed': False, 'internalType': 'uint256', 'name': 'amount1', 'type': 'uint256'}, {'indexed': False, 'internalType': 'uint256', 'name': 'paid0', 'type': 'uint256'}, {'indexed': False, 'internalType': 'uint256', 'name': 'paid1', 'type': 'uint256'}], 'name': 'Flash', 'type': 'event'}\n",
      "5 {'anonymous': False, 'inputs': [{'indexed': False, 'internalType': 'uint16', 'name': 'observationCardinalityNextOld', 'type': 'uint16'}, {'indexed': False, 'internalType': 'uint16', 'name': 'observationCardinalityNextNew', 'type': 'uint16'}], 'name': 'IncreaseObservationCardinalityNext', 'type': 'event'}\n",
      "6 {'anonymous': False, 'inputs': [{'indexed': False, 'internalType': 'uint160', 'name': 'sqrtPriceX96', 'type': 'uint160'}, {'indexed': False, 'internalType': 'int24', 'name': 'tick', 'type': 'int24'}], 'name': 'Initialize', 'type': 'event'}\n",
      "7 {'anonymous': False, 'inputs': [{'indexed': False, 'internalType': 'address', 'name': 'sender', 'type': 'address'}, {'indexed': True, 'internalType': 'address', 'name': 'owner', 'type': 'address'}, {'indexed': True, 'internalType': 'int24', 'name': 'tickLower', 'type': 'int24'}, {'indexed': True, 'internalType': 'int24', 'name': 'tickUpper', 'type': 'int24'}, {'indexed': False, 'internalType': 'uint128', 'name': 'amount', 'type': 'uint128'}, {'indexed': False, 'internalType': 'uint256', 'name': 'amount0', 'type': 'uint256'}, {'indexed': False, 'internalType': 'uint256', 'name': 'amount1', 'type': 'uint256'}], 'name': 'Mint', 'type': 'event'}\n",
      "8 {'anonymous': False, 'inputs': [{'indexed': False, 'internalType': 'uint8', 'name': 'feeProtocol0Old', 'type': 'uint8'}, {'indexed': False, 'internalType': 'uint8', 'name': 'feeProtocol1Old', 'type': 'uint8'}, {'indexed': False, 'internalType': 'uint8', 'name': 'feeProtocol0New', 'type': 'uint8'}, {'indexed': False, 'internalType': 'uint8', 'name': 'feeProtocol1New', 'type': 'uint8'}], 'name': 'SetFeeProtocol', 'type': 'event'}\n",
      "9 {'anonymous': False, 'inputs': [{'indexed': True, 'internalType': 'address', 'name': 'sender', 'type': 'address'}, {'indexed': True, 'internalType': 'address', 'name': 'recipient', 'type': 'address'}, {'indexed': False, 'internalType': 'int256', 'name': 'amount0', 'type': 'int256'}, {'indexed': False, 'internalType': 'int256', 'name': 'amount1', 'type': 'int256'}, {'indexed': False, 'internalType': 'uint160', 'name': 'sqrtPriceX96', 'type': 'uint160'}, {'indexed': False, 'internalType': 'uint128', 'name': 'liquidity', 'type': 'uint128'}, {'indexed': False, 'internalType': 'int24', 'name': 'tick', 'type': 'int24'}], 'name': 'Swap', 'type': 'event'}\n",
      "10 {'inputs': [{'internalType': 'int24', 'name': 'tickLower', 'type': 'int24'}, {'internalType': 'int24', 'name': 'tickUpper', 'type': 'int24'}, {'internalType': 'uint128', 'name': 'amount', 'type': 'uint128'}], 'name': 'burn', 'outputs': [{'internalType': 'uint256', 'name': 'amount0', 'type': 'uint256'}, {'internalType': 'uint256', 'name': 'amount1', 'type': 'uint256'}], 'stateMutability': 'nonpayable', 'type': 'function'}\n",
      "11 {'inputs': [{'internalType': 'address', 'name': 'recipient', 'type': 'address'}, {'internalType': 'int24', 'name': 'tickLower', 'type': 'int24'}, {'internalType': 'int24', 'name': 'tickUpper', 'type': 'int24'}, {'internalType': 'uint128', 'name': 'amount0Requested', 'type': 'uint128'}, {'internalType': 'uint128', 'name': 'amount1Requested', 'type': 'uint128'}], 'name': 'collect', 'outputs': [{'internalType': 'uint128', 'name': 'amount0', 'type': 'uint128'}, {'internalType': 'uint128', 'name': 'amount1', 'type': 'uint128'}], 'stateMutability': 'nonpayable', 'type': 'function'}\n",
      "12 {'inputs': [{'internalType': 'address', 'name': 'recipient', 'type': 'address'}, {'internalType': 'uint128', 'name': 'amount0Requested', 'type': 'uint128'}, {'internalType': 'uint128', 'name': 'amount1Requested', 'type': 'uint128'}], 'name': 'collectProtocol', 'outputs': [{'internalType': 'uint128', 'name': 'amount0', 'type': 'uint128'}, {'internalType': 'uint128', 'name': 'amount1', 'type': 'uint128'}], 'stateMutability': 'nonpayable', 'type': 'function'}\n",
      "13 {'inputs': [], 'name': 'factory', 'outputs': [{'internalType': 'address', 'name': '', 'type': 'address'}], 'stateMutability': 'view', 'type': 'function'}\n",
      "14 {'inputs': [], 'name': 'fee', 'outputs': [{'internalType': 'uint24', 'name': '', 'type': 'uint24'}], 'stateMutability': 'view', 'type': 'function'}\n",
      "15 {'inputs': [], 'name': 'feeGrowthGlobal0X128', 'outputs': [{'internalType': 'uint256', 'name': '', 'type': 'uint256'}], 'stateMutability': 'view', 'type': 'function'}\n",
      "16 {'inputs': [], 'name': 'feeGrowthGlobal1X128', 'outputs': [{'internalType': 'uint256', 'name': '', 'type': 'uint256'}], 'stateMutability': 'view', 'type': 'function'}\n",
      "17 {'inputs': [{'internalType': 'address', 'name': 'recipient', 'type': 'address'}, {'internalType': 'uint256', 'name': 'amount0', 'type': 'uint256'}, {'internalType': 'uint256', 'name': 'amount1', 'type': 'uint256'}, {'internalType': 'bytes', 'name': 'data', 'type': 'bytes'}], 'name': 'flash', 'outputs': [], 'stateMutability': 'nonpayable', 'type': 'function'}\n",
      "18 {'inputs': [{'internalType': 'uint16', 'name': 'observationCardinalityNext', 'type': 'uint16'}], 'name': 'increaseObservationCardinalityNext', 'outputs': [], 'stateMutability': 'nonpayable', 'type': 'function'}\n",
      "19 {'inputs': [{'internalType': 'uint160', 'name': 'sqrtPriceX96', 'type': 'uint160'}], 'name': 'initialize', 'outputs': [], 'stateMutability': 'nonpayable', 'type': 'function'}\n",
      "20 {'inputs': [], 'name': 'liquidity', 'outputs': [{'internalType': 'uint128', 'name': '', 'type': 'uint128'}], 'stateMutability': 'view', 'type': 'function'}\n",
      "21 {'inputs': [], 'name': 'maxLiquidityPerTick', 'outputs': [{'internalType': 'uint128', 'name': '', 'type': 'uint128'}], 'stateMutability': 'view', 'type': 'function'}\n",
      "22 {'inputs': [{'internalType': 'address', 'name': 'recipient', 'type': 'address'}, {'internalType': 'int24', 'name': 'tickLower', 'type': 'int24'}, {'internalType': 'int24', 'name': 'tickUpper', 'type': 'int24'}, {'internalType': 'uint128', 'name': 'amount', 'type': 'uint128'}, {'internalType': 'bytes', 'name': 'data', 'type': 'bytes'}], 'name': 'mint', 'outputs': [{'internalType': 'uint256', 'name': 'amount0', 'type': 'uint256'}, {'internalType': 'uint256', 'name': 'amount1', 'type': 'uint256'}], 'stateMutability': 'nonpayable', 'type': 'function'}\n",
      "23 {'inputs': [{'internalType': 'uint256', 'name': '', 'type': 'uint256'}], 'name': 'observations', 'outputs': [{'internalType': 'uint32', 'name': 'blockTimestamp', 'type': 'uint32'}, {'internalType': 'int56', 'name': 'tickCumulative', 'type': 'int56'}, {'internalType': 'uint160', 'name': 'secondsPerLiquidityCumulativeX128', 'type': 'uint160'}, {'internalType': 'bool', 'name': 'initialized', 'type': 'bool'}], 'stateMutability': 'view', 'type': 'function'}\n",
      "24 {'inputs': [{'internalType': 'uint32[]', 'name': 'secondsAgos', 'type': 'uint32[]'}], 'name': 'observe', 'outputs': [{'internalType': 'int56[]', 'name': 'tickCumulatives', 'type': 'int56[]'}, {'internalType': 'uint160[]', 'name': 'secondsPerLiquidityCumulativeX128s', 'type': 'uint160[]'}], 'stateMutability': 'view', 'type': 'function'}\n",
      "25 {'inputs': [{'internalType': 'bytes32', 'name': '', 'type': 'bytes32'}], 'name': 'positions', 'outputs': [{'internalType': 'uint128', 'name': 'liquidity', 'type': 'uint128'}, {'internalType': 'uint256', 'name': 'feeGrowthInside0LastX128', 'type': 'uint256'}, {'internalType': 'uint256', 'name': 'feeGrowthInside1LastX128', 'type': 'uint256'}, {'internalType': 'uint128', 'name': 'tokensOwed0', 'type': 'uint128'}, {'internalType': 'uint128', 'name': 'tokensOwed1', 'type': 'uint128'}], 'stateMutability': 'view', 'type': 'function'}\n",
      "26 {'inputs': [], 'name': 'protocolFees', 'outputs': [{'internalType': 'uint128', 'name': 'token0', 'type': 'uint128'}, {'internalType': 'uint128', 'name': 'token1', 'type': 'uint128'}], 'stateMutability': 'view', 'type': 'function'}\n",
      "27 {'inputs': [{'internalType': 'uint8', 'name': 'feeProtocol0', 'type': 'uint8'}, {'internalType': 'uint8', 'name': 'feeProtocol1', 'type': 'uint8'}], 'name': 'setFeeProtocol', 'outputs': [], 'stateMutability': 'nonpayable', 'type': 'function'}\n",
      "28 {'inputs': [], 'name': 'slot0', 'outputs': [{'internalType': 'uint160', 'name': 'sqrtPriceX96', 'type': 'uint160'}, {'internalType': 'int24', 'name': 'tick', 'type': 'int24'}, {'internalType': 'uint16', 'name': 'observationIndex', 'type': 'uint16'}, {'internalType': 'uint16', 'name': 'observationCardinality', 'type': 'uint16'}, {'internalType': 'uint16', 'name': 'observationCardinalityNext', 'type': 'uint16'}, {'internalType': 'uint8', 'name': 'feeProtocol', 'type': 'uint8'}, {'internalType': 'bool', 'name': 'unlocked', 'type': 'bool'}], 'stateMutability': 'view', 'type': 'function'}\n",
      "29 {'inputs': [{'internalType': 'int24', 'name': 'tickLower', 'type': 'int24'}, {'internalType': 'int24', 'name': 'tickUpper', 'type': 'int24'}], 'name': 'snapshotCumulativesInside', 'outputs': [{'internalType': 'int56', 'name': 'tickCumulativeInside', 'type': 'int56'}, {'internalType': 'uint160', 'name': 'secondsPerLiquidityInsideX128', 'type': 'uint160'}, {'internalType': 'uint32', 'name': 'secondsInside', 'type': 'uint32'}], 'stateMutability': 'view', 'type': 'function'}\n",
      "30 {'inputs': [{'internalType': 'address', 'name': 'recipient', 'type': 'address'}, {'internalType': 'bool', 'name': 'zeroForOne', 'type': 'bool'}, {'internalType': 'int256', 'name': 'amountSpecified', 'type': 'int256'}, {'internalType': 'uint160', 'name': 'sqrtPriceLimitX96', 'type': 'uint160'}, {'internalType': 'bytes', 'name': 'data', 'type': 'bytes'}], 'name': 'swap', 'outputs': [{'internalType': 'int256', 'name': 'amount0', 'type': 'int256'}, {'internalType': 'int256', 'name': 'amount1', 'type': 'int256'}], 'stateMutability': 'nonpayable', 'type': 'function'}\n",
      "31 {'inputs': [{'internalType': 'int16', 'name': '', 'type': 'int16'}], 'name': 'tickBitmap', 'outputs': [{'internalType': 'uint256', 'name': '', 'type': 'uint256'}], 'stateMutability': 'view', 'type': 'function'}\n",
      "32 {'inputs': [], 'name': 'tickSpacing', 'outputs': [{'internalType': 'int24', 'name': '', 'type': 'int24'}], 'stateMutability': 'view', 'type': 'function'}\n",
      "33 {'inputs': [{'internalType': 'int24', 'name': '', 'type': 'int24'}], 'name': 'ticks', 'outputs': [{'internalType': 'uint128', 'name': 'liquidityGross', 'type': 'uint128'}, {'internalType': 'int128', 'name': 'liquidityNet', 'type': 'int128'}, {'internalType': 'uint256', 'name': 'feeGrowthOutside0X128', 'type': 'uint256'}, {'internalType': 'uint256', 'name': 'feeGrowthOutside1X128', 'type': 'uint256'}, {'internalType': 'int56', 'name': 'tickCumulativeOutside', 'type': 'int56'}, {'internalType': 'uint160', 'name': 'secondsPerLiquidityOutsideX128', 'type': 'uint160'}, {'internalType': 'uint32', 'name': 'secondsOutside', 'type': 'uint32'}, {'internalType': 'bool', 'name': 'initialized', 'type': 'bool'}], 'stateMutability': 'view', 'type': 'function'}\n",
      "34 {'inputs': [], 'name': 'token0', 'outputs': [{'internalType': 'address', 'name': '', 'type': 'address'}], 'stateMutability': 'view', 'type': 'function'}\n",
      "35 {'inputs': [], 'name': 'token1', 'outputs': [{'internalType': 'address', 'name': '', 'type': 'address'}], 'stateMutability': 'view', 'type': 'function'}\n"
     ]
    }
   ],
   "source": [
    "for i, row in enumerate(json.loads(abi)):\n",
    "    print(i, row)"
   ]
  },
  {
   "cell_type": "code",
   "execution_count": 42,
   "metadata": {},
   "outputs": [
    {
     "data": {
      "text/plain": [
       "{'0x0c396cd989a39f4459b5fa1aed6a9a8dcdbc45908acfd67e028cd568da98982c': {'anonymous': False,\n",
       "  'inputs': [{'indexed': True,\n",
       "    'internalType': 'address',\n",
       "    'name': 'owner',\n",
       "    'type': 'address'},\n",
       "   {'indexed': True,\n",
       "    'internalType': 'int24',\n",
       "    'name': 'tickLower',\n",
       "    'type': 'int24'},\n",
       "   {'indexed': True,\n",
       "    'internalType': 'int24',\n",
       "    'name': 'tickUpper',\n",
       "    'type': 'int24'},\n",
       "   {'indexed': False,\n",
       "    'internalType': 'uint128',\n",
       "    'name': 'amount',\n",
       "    'type': 'uint128'},\n",
       "   {'indexed': False,\n",
       "    'internalType': 'uint256',\n",
       "    'name': 'amount0',\n",
       "    'type': 'uint256'},\n",
       "   {'indexed': False,\n",
       "    'internalType': 'uint256',\n",
       "    'name': 'amount1',\n",
       "    'type': 'uint256'}],\n",
       "  'name': 'Burn',\n",
       "  'type': 'event'},\n",
       " '0x70935338e69775456a85ddef226c395fb668b63fa0115f5f20610b388e6ca9c0': {'anonymous': False,\n",
       "  'inputs': [{'indexed': True,\n",
       "    'internalType': 'address',\n",
       "    'name': 'owner',\n",
       "    'type': 'address'},\n",
       "   {'indexed': False,\n",
       "    'internalType': 'address',\n",
       "    'name': 'recipient',\n",
       "    'type': 'address'},\n",
       "   {'indexed': True,\n",
       "    'internalType': 'int24',\n",
       "    'name': 'tickLower',\n",
       "    'type': 'int24'},\n",
       "   {'indexed': True,\n",
       "    'internalType': 'int24',\n",
       "    'name': 'tickUpper',\n",
       "    'type': 'int24'},\n",
       "   {'indexed': False,\n",
       "    'internalType': 'uint128',\n",
       "    'name': 'amount0',\n",
       "    'type': 'uint128'},\n",
       "   {'indexed': False,\n",
       "    'internalType': 'uint128',\n",
       "    'name': 'amount1',\n",
       "    'type': 'uint128'}],\n",
       "  'name': 'Collect',\n",
       "  'type': 'event'},\n",
       " '0x596b573906218d3411850b26a6b437d6c4522fdb43d2d2386263f86d50b8b151': {'anonymous': False,\n",
       "  'inputs': [{'indexed': True,\n",
       "    'internalType': 'address',\n",
       "    'name': 'sender',\n",
       "    'type': 'address'},\n",
       "   {'indexed': True,\n",
       "    'internalType': 'address',\n",
       "    'name': 'recipient',\n",
       "    'type': 'address'},\n",
       "   {'indexed': False,\n",
       "    'internalType': 'uint128',\n",
       "    'name': 'amount0',\n",
       "    'type': 'uint128'},\n",
       "   {'indexed': False,\n",
       "    'internalType': 'uint128',\n",
       "    'name': 'amount1',\n",
       "    'type': 'uint128'}],\n",
       "  'name': 'CollectProtocol',\n",
       "  'type': 'event'},\n",
       " '0xbdbdb71d7860376ba52b25a5028beea23581364a40522f6bcfb86bb1f2dca633': {'anonymous': False,\n",
       "  'inputs': [{'indexed': True,\n",
       "    'internalType': 'address',\n",
       "    'name': 'sender',\n",
       "    'type': 'address'},\n",
       "   {'indexed': True,\n",
       "    'internalType': 'address',\n",
       "    'name': 'recipient',\n",
       "    'type': 'address'},\n",
       "   {'indexed': False,\n",
       "    'internalType': 'uint256',\n",
       "    'name': 'amount0',\n",
       "    'type': 'uint256'},\n",
       "   {'indexed': False,\n",
       "    'internalType': 'uint256',\n",
       "    'name': 'amount1',\n",
       "    'type': 'uint256'},\n",
       "   {'indexed': False,\n",
       "    'internalType': 'uint256',\n",
       "    'name': 'paid0',\n",
       "    'type': 'uint256'},\n",
       "   {'indexed': False,\n",
       "    'internalType': 'uint256',\n",
       "    'name': 'paid1',\n",
       "    'type': 'uint256'}],\n",
       "  'name': 'Flash',\n",
       "  'type': 'event'},\n",
       " '0xac49e518f90a358f652e4400164f05a5d8f7e35e7747279bc3a93dbf584e125a': {'anonymous': False,\n",
       "  'inputs': [{'indexed': False,\n",
       "    'internalType': 'uint16',\n",
       "    'name': 'observationCardinalityNextOld',\n",
       "    'type': 'uint16'},\n",
       "   {'indexed': False,\n",
       "    'internalType': 'uint16',\n",
       "    'name': 'observationCardinalityNextNew',\n",
       "    'type': 'uint16'}],\n",
       "  'name': 'IncreaseObservationCardinalityNext',\n",
       "  'type': 'event'},\n",
       " '0x98636036cb66a9c19a37435efc1e90142190214e8abeb821bdba3f2990dd4c95': {'anonymous': False,\n",
       "  'inputs': [{'indexed': False,\n",
       "    'internalType': 'uint160',\n",
       "    'name': 'sqrtPriceX96',\n",
       "    'type': 'uint160'},\n",
       "   {'indexed': False,\n",
       "    'internalType': 'int24',\n",
       "    'name': 'tick',\n",
       "    'type': 'int24'}],\n",
       "  'name': 'Initialize',\n",
       "  'type': 'event'},\n",
       " '0x7a53080ba414158be7ec69b987b5fb7d07dee101fe85488f0853ae16239d0bde': {'anonymous': False,\n",
       "  'inputs': [{'indexed': False,\n",
       "    'internalType': 'address',\n",
       "    'name': 'sender',\n",
       "    'type': 'address'},\n",
       "   {'indexed': True,\n",
       "    'internalType': 'address',\n",
       "    'name': 'owner',\n",
       "    'type': 'address'},\n",
       "   {'indexed': True,\n",
       "    'internalType': 'int24',\n",
       "    'name': 'tickLower',\n",
       "    'type': 'int24'},\n",
       "   {'indexed': True,\n",
       "    'internalType': 'int24',\n",
       "    'name': 'tickUpper',\n",
       "    'type': 'int24'},\n",
       "   {'indexed': False,\n",
       "    'internalType': 'uint128',\n",
       "    'name': 'amount',\n",
       "    'type': 'uint128'},\n",
       "   {'indexed': False,\n",
       "    'internalType': 'uint256',\n",
       "    'name': 'amount0',\n",
       "    'type': 'uint256'},\n",
       "   {'indexed': False,\n",
       "    'internalType': 'uint256',\n",
       "    'name': 'amount1',\n",
       "    'type': 'uint256'}],\n",
       "  'name': 'Mint',\n",
       "  'type': 'event'},\n",
       " '0x973d8d92bb299f4af6ce49b52a8adb85ae46b9f214c4c4fc06ac77401237b133': {'anonymous': False,\n",
       "  'inputs': [{'indexed': False,\n",
       "    'internalType': 'uint8',\n",
       "    'name': 'feeProtocol0Old',\n",
       "    'type': 'uint8'},\n",
       "   {'indexed': False,\n",
       "    'internalType': 'uint8',\n",
       "    'name': 'feeProtocol1Old',\n",
       "    'type': 'uint8'},\n",
       "   {'indexed': False,\n",
       "    'internalType': 'uint8',\n",
       "    'name': 'feeProtocol0New',\n",
       "    'type': 'uint8'},\n",
       "   {'indexed': False,\n",
       "    'internalType': 'uint8',\n",
       "    'name': 'feeProtocol1New',\n",
       "    'type': 'uint8'}],\n",
       "  'name': 'SetFeeProtocol',\n",
       "  'type': 'event'},\n",
       " '0xc42079f94a6350d7e6235f29174924f928cc2ac818eb64fed8004e115fbcca67': {'anonymous': False,\n",
       "  'inputs': [{'indexed': True,\n",
       "    'internalType': 'address',\n",
       "    'name': 'sender',\n",
       "    'type': 'address'},\n",
       "   {'indexed': True,\n",
       "    'internalType': 'address',\n",
       "    'name': 'recipient',\n",
       "    'type': 'address'},\n",
       "   {'indexed': False,\n",
       "    'internalType': 'int256',\n",
       "    'name': 'amount0',\n",
       "    'type': 'int256'},\n",
       "   {'indexed': False,\n",
       "    'internalType': 'int256',\n",
       "    'name': 'amount1',\n",
       "    'type': 'int256'},\n",
       "   {'indexed': False,\n",
       "    'internalType': 'uint160',\n",
       "    'name': 'sqrtPriceX96',\n",
       "    'type': 'uint160'},\n",
       "   {'indexed': False,\n",
       "    'internalType': 'uint128',\n",
       "    'name': 'liquidity',\n",
       "    'type': 'uint128'},\n",
       "   {'indexed': False,\n",
       "    'internalType': 'int24',\n",
       "    'name': 'tick',\n",
       "    'type': 'int24'}],\n",
       "  'name': 'Swap',\n",
       "  'type': 'event'}}"
      ]
     },
     "execution_count": 42,
     "metadata": {},
     "output_type": "execute_result"
    }
   ],
   "source": [
    "topic2abi"
   ]
  },
  {
   "cell_type": "code",
   "execution_count": 33,
   "metadata": {},
   "outputs": [
    {
     "data": {
      "text/plain": [
       "688"
      ]
     },
     "execution_count": 33,
     "metadata": {},
     "output_type": "execute_result"
    }
   ],
   "source": [
    "24 + 24 + 128 + 256 + 256"
   ]
  },
  {
   "cell_type": "code",
   "execution_count": null,
   "metadata": {},
   "outputs": [],
   "source": [
    "row.data"
   ]
  },
  {
   "cell_type": "code",
   "execution_count": null,
   "metadata": {},
   "outputs": [],
   "source": [
    "len(row.data[2:])"
   ]
  },
  {
   "cell_type": "code",
   "execution_count": null,
   "metadata": {},
   "outputs": [],
   "source": [
    "len(row.data[2:])"
   ]
  },
  {
   "cell_type": "code",
   "execution_count": null,
   "metadata": {},
   "outputs": [],
   "source": [
    "row.address"
   ]
  },
  {
   "cell_type": "code",
   "execution_count": null,
   "metadata": {},
   "outputs": [],
   "source": [
    "row"
   ]
  },
  {
   "cell_type": "code",
   "execution_count": null,
   "metadata": {},
   "outputs": [],
   "source": []
  },
  {
   "cell_type": "code",
   "execution_count": null,
   "metadata": {},
   "outputs": [],
   "source": [
    "row.data"
   ]
  },
  {
   "cell_type": "code",
   "execution_count": null,
   "metadata": {},
   "outputs": [],
   "source": [
    "(len(row.data[2:]) * 16 - 320)"
   ]
  },
  {
   "cell_type": "code",
   "execution_count": null,
   "metadata": {},
   "outputs": [],
   "source": []
  },
  {
   "cell_type": "code",
   "execution_count": null,
   "metadata": {},
   "outputs": [],
   "source": [
    "len(row.data)"
   ]
  },
  {
   "cell_type": "code",
   "execution_count": null,
   "metadata": {},
   "outputs": [],
   "source": [
    "160 / 8"
   ]
  },
  {
   "cell_type": "code",
   "execution_count": 34,
   "metadata": {},
   "outputs": [],
   "source": [
    "@lru_cache(maxsize=1024)\n",
    "def to_topic_map(abi:str):\n",
    "    from eth_utils import event_abi_to_log_topic\n",
    "    \n",
    "    topic_map = {}\n",
    "    for row in json.loads(abi):\n",
    "        if row['type'] == 'event':\n",
    "            key = \"0x\" + event_abi_to_log_topic(row).hex()\n",
    "            value = row\n",
    "            topic_map[key] = value\n",
    "    return topic_map\n",
    "\n",
    "\n",
    "def decode_log(data, topics, contract_address):\n",
    "\n",
    "    data = get_event_data(w3.codec, event_abi, log)['args']\n",
    "    target_schema = event_abi['inputs']\n",
    "    decoded_data = convert_to_hex(data, target_schema)\n",
    "\n",
    "\n",
    "    return (evt_name, json.dumps(decoded_data), json.dumps(target_schema))"
   ]
  },
  {
   "cell_type": "code",
   "execution_count": null,
   "metadata": {},
   "outputs": [],
   "source": [
    "target_data"
   ]
  }
 ],
 "metadata": {
  "kernelspec": {
   "display_name": "Python 3",
   "language": "python",
   "name": "python3"
  },
  "language_info": {
   "codemirror_mode": {
    "name": "ipython",
    "version": 3
   },
   "file_extension": ".py",
   "mimetype": "text/x-python",
   "name": "python",
   "nbconvert_exporter": "python",
   "pygments_lexer": "ipython3",
   "version": "3.8.3"
  }
 },
 "nbformat": 4,
 "nbformat_minor": 4
}
