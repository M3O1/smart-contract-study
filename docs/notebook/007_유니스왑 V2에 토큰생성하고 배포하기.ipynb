{
 "cells": [
  {
   "cell_type": "markdown",
   "metadata": {},
   "source": [
    "## 유니스왑 V2에 토큰을 생성하고 배포하기\n",
    "---"
   ]
  },
  {
   "cell_type": "code",
   "execution_count": 2,
   "metadata": {},
   "outputs": [],
   "source": [
    "%matplotlib inline\n",
    "import os\n",
    "import json\n",
    "import requests\n",
    "from functools import lru_cache\n",
    "from web3 import Web3\n",
    "import pandas as pd\n",
    "import matplotlib.pyplot as plt\n",
    "import eth_utils\n",
    "\n",
    "# GCP 인증서 다운 받기\n",
    "os.environ['GOOGLE_APPLICATION_CREDENTIALS'] = (\n",
    "    os.path.abspath(\"../../keys/gcp.json\"))\n",
    "\n",
    "# Infura Key file\n",
    "KEY_DICT = json.load(open(\"../../keys/infura.json\",'r'))\n",
    "\n",
    "project_id = KEY_DICT['projectId']\n",
    "\n",
    "ETHERSCAN_DICT = json.load(open(\"../../keys/etherscan.json\"))"
   ]
  }
 ],
 "metadata": {
  "kernelspec": {
   "display_name": "Python 3",
   "language": "python",
   "name": "python3"
  },
  "language_info": {
   "codemirror_mode": {
    "name": "ipython",
    "version": 3
   },
   "file_extension": ".py",
   "mimetype": "text/x-python",
   "name": "python",
   "nbconvert_exporter": "python",
   "pygments_lexer": "ipython3",
   "version": "3.8.3"
  }
 },
 "nbformat": 4,
 "nbformat_minor": 4
}
